{
 "cells": [
  {
   "cell_type": "code",
   "execution_count": 1,
   "id": "63203484",
   "metadata": {},
   "outputs": [
    {
     "name": "stderr",
     "output_type": "stream",
     "text": [
      "c:\\Users\\nibaaa\\.conda\\envs\\dia\\lib\\site-packages\\tqdm\\auto.py:21: TqdmWarning: IProgress not found. Please update jupyter and ipywidgets. See https://ipywidgets.readthedocs.io/en/stable/user_install.html\n",
      "  from .autonotebook import tqdm as notebook_tqdm\n"
     ]
    }
   ],
   "source": [
    "import sys\n",
    "from mainChatBot import ChatBot\n",
    "from transformers.utils import logging\n",
    "\n",
    "logging.set_verbosity_error() # shut down warnings from transformers"
   ]
  },
  {
   "cell_type": "code",
   "execution_count": 2,
   "id": "6c52c84d",
   "metadata": {},
   "outputs": [],
   "source": [
    "CHATBOT=ChatBot()"
   ]
  },
  {
   "cell_type": "code",
   "execution_count": 3,
   "id": "38999cf9",
   "metadata": {},
   "outputs": [
    {
     "name": "stdout",
     "output_type": "stream",
     "text": [
      "news 1\n",
      "title: Top UK Special Forces general oversaw blocking of Afghan 'war-crime' witnesses to Britain\n",
      "news 2\n",
      "title: Police investigate fire at PM Starmer's house in north London\n",
      "news 3\n",
      "title: PM promises migration drop as he unveils plans for 'tightened' visa rules\n",
      "=======================\n",
      "first news title: Top UK Special Forces general oversaw blocking of Afghan 'war-crime' witnesses to Britain\n",
      "first news summary: of the heart of best online games of how those who is <OOV> at its dvd format the ds who do not even to <OOV> in quality way to have an <OOV> of problems in the world years the <OOV> of 64 <OOV> 64 speed <OOV> davies alan <OOV> snap shot was charged down and dyer reacted first to smash the ball past the <OOV> <OOV> from six yards goals <OOV> 41 bolton were creating little going forward and they seemed content to <OOV> the magpies in the first half we had put them under a lot of pressure and our goal matched theirs in quality lee bowyer put newcastle ahead when he fed stephen carr on the game of the <OOV> and <OOV> delays <OOV> safe to say that this is the most highly anticipated computer game of all time the bar has been raised and so far out of sight that to play the game will have an\n"
     ]
    }
   ],
   "source": [
    "news = CHATBOT.get_latest_hot_news_with_summary()\n",
    "\n",
    "# 输出结果\n",
    "for i, itme in enumerate(news, 1):\n",
    "    print(f\"news {i}\")\n",
    "    print(f\"title: {itme['title']}\")\n",
    "\n",
    "print(\"=======================\")\n",
    "first_news = news[0]\n",
    "print(f\"first news title: {first_news['title']}\")\n",
    "print(f\"first news summary: {first_news['summary']}\")"
   ]
  },
  {
   "cell_type": "code",
   "execution_count": 4,
   "id": "9565c7dc",
   "metadata": {},
   "outputs": [
    {
     "name": "stdout",
     "output_type": "stream",
     "text": [
      "first news title: Top UK Special Forces general oversaw blocking of Afghan 'war-crime' witnesses to Britain\n",
      "first news summary: of the heart of best online games of how those who is <OOV> at its dvd format the ds who do not even to <OOV> in quality way to have an <OOV> of problems in the world years the <OOV> of 64 <OOV> 64 speed <OOV> davies alan <OOV> snap shot was charged down and dyer reacted first to smash the ball past the <OOV> <OOV> from six yards goals <OOV> 41 bolton were creating little going forward and they seemed content to <OOV> the magpies in the first half we had put them under a lot of pressure and our goal matched theirs in quality lee bowyer put newcastle ahead when he fed stephen carr on the game of the <OOV> and <OOV> delays <OOV> safe to say that this is the most highly anticipated computer game of all time the bar has been raised and so far out of sight that to play the game will have an\n"
     ]
    }
   ],
   "source": [
    "first_news = news[0]\n",
    "print(f\"first news title: {first_news['title']}\")\n",
    "print(f\"first news summary: {first_news['summary']}\")"
   ]
  },
  {
   "cell_type": "code",
   "execution_count": 5,
   "id": "210c4c7f",
   "metadata": {},
   "outputs": [],
   "source": [
    "from rouge_score import rouge_scorer\n",
    "from bert_score import score as bert_score"
   ]
  },
  {
   "cell_type": "code",
   "execution_count": 6,
   "id": "aae81bf9",
   "metadata": {},
   "outputs": [],
   "source": [
    "import re\n",
    "import unicodedata\n",
    "import pandas as pd\n",
    "\n",
    "def unicode_to_ascii(s):\n",
    "    return ''.join(c for c in unicodedata.normalize('NFD', s) if unicodedata.category(c) != 'Mn')\n",
    "\n",
    "def clean_text(text):\n",
    "\ttext = unicode_to_ascii(text.lower().strip())\n",
    "\t# convert ... and .. to .\n",
    "\ttext = re.sub(r\"\\.\\.\\.\", \". \", text)\n",
    "\ttext = re.sub(r\"\\.\\.\", \". \", text)\n",
    "\t\n",
    "\t# Abbreviation Restoration & Stem Preservation\n",
    "\ttext = re.sub(r\"i'm\", \"i am\", text)\n",
    "\ttext = re.sub(r\"he's\", \"he is\", text)\n",
    "\ttext = re.sub(r\"she's\", \"she is\", text)\n",
    "\ttext = re.sub(r\"it's\", \"it is\", text)\n",
    "\ttext = re.sub(r\"that's\", \"that is\", text)\n",
    "\ttext = re.sub(r\"what's\", \"what is\", text)\n",
    "\ttext = re.sub(r\"where's\", \"where is\", text)\n",
    "\ttext = re.sub(r\"how's\", \"how is\", text)\n",
    "\ttext = re.sub(r\"\\'ll\", \" will\", text)\n",
    "\ttext = re.sub(r\"\\'ve\", \" have\", text)\n",
    "\ttext = re.sub(r\"\\'re\", \" are\", text)\n",
    "\ttext = re.sub(r\"\\'d\", \" would\", text)\n",
    "\ttext = re.sub(r\"won't\", \"will not\", text)\n",
    "\ttext = re.sub(r\"can't\", \"cannot\", text)\n",
    "\ttext = re.sub(r\"n't\", \" not\", text)\n",
    "\n",
    "\t# delete most punctuation marks\n",
    "\ttext = re.sub(r\"[-\\\"#/@;:{}`+=~|]\", \"\", text)\n",
    "\n",
    "\t# Multiple spaces merge\n",
    "\ttext = re.sub(r\"\\s+\", \" \", text).strip()\n",
    "\treturn text\n",
    "\n",
    "def clean_Punctuation(text):\n",
    "\t# clean text by removing punctuation and special characters\n",
    "\ttext = re.sub(r'[^\\w\\s]', '', text)\n",
    "\treturn text\n",
    "\n",
    "def get_data(csv_path, loadDataSize):\n",
    "\tdf = pd.read_csv(csv_path).dropna()\n",
    "\tprint(df.columns)\n",
    "\tper_class_count = int(loadDataSize / 5)\n",
    "\tselected_dfs = []\n",
    "\n",
    "\tfor category in df['File_path'].unique():\n",
    "\t\tcategory_df = df[df['File_path'] == category].head(per_class_count)\n",
    "\t\tselected_dfs.append(category_df)\n",
    "\n",
    "\tselected_df = pd.concat(selected_dfs).sample(frac=1).reset_index(drop=True)  # shuffle the selected data\n",
    "\t\n",
    "\toriginal_content = selected_df['Articles']\n",
    "\t\n",
    "\t# 提取每一条selected_df里Articles中\"..\"前面的内容，作为title添加到selected_df\n",
    "\tselected_df['title'] = selected_df['Articles'].apply(lambda x: x.split('..', 1)[0] if '..' in x else x)\n",
    "\n",
    "\t# 去掉articles中第一个\"..\"前面的内容，将剩下内容作为content添加到selected_df\n",
    "\tselected_df['Articles'] = selected_df['Articles'].apply(lambda x: x.split('..', 1)[1] if '..' in x else '')\n",
    "\n",
    "\t# 清洗selected_df里的每一条数据，使用clean_text函数\n",
    "\tselected_df['Articles'] = selected_df['Articles'].apply(clean_text)\n",
    "\tselected_df['title'] = selected_df['title'].apply(clean_text)\n",
    "\tselected_df['Summaries'] = selected_df['Summaries'].apply(clean_text)\n",
    "\t# # add data without punctuation, this is for self training models\n",
    "\t# selected_df['Articles_no_punctuation'] = selected_df['Articles'].apply(clean_Punctuation)\n",
    "\t# selected_df['title_no_punctuation'] = selected_df['title'].apply(clean_Punctuation)\n",
    "\t# selected_df['Summaries_no_punctuation'] = selected_df['Summaries'].apply(clean_Punctuation)\n",
    "\t\n",
    "\n",
    "\t# 返回提取到的数据，并将其转换为列表\n",
    "\tdata = selected_df.values.tolist()  # 0:type, 1:content, 2:summary, 3:title\n",
    "\treturn data\n",
    "\n",
    "\n"
   ]
  },
  {
   "cell_type": "code",
   "execution_count": 7,
   "id": "a7cabba5",
   "metadata": {},
   "outputs": [
    {
     "name": "stdout",
     "output_type": "stream",
     "text": [
      "Index(['File_path', 'Articles', 'Summaries'], dtype='object')\n",
      "firstData type: entertainment\n",
      "firstData content: clint eastwood's million dollar baby beat martin scorsese's the aviator to the top awards at the oscars on sunday. the boxing drama was named best picture and eastwood pipped scorsese to best director, while its stars hilary swank and morgan freeman won acting awards. the aviator took five prizes including best supporting actress for cate blanchett. the biopic of howard hughes led the nominations with 11. jamie foxx picked up best actor for playing soul star ray charles in ray. many expected this to be scorsese's year but he was unsuccessful in the best director category for the fifth time in his career. he has never won despite being nominated for such films as raging bull and goodfellas. instead, eastwood took his second oscar for best director after winning for unforgiven in 1993. it was a wonderful adventure, eastwood said. to make a picture in 37 days, it takes a well oiled machine. i am lucky to be here and lucky to be still working. i have got a lot of stuff to do yet. hilary swank picked up her second best actress oscar for playing a female boxer in million dollar baby, beating stars including annette bening, kate winslet and imelda staunton. i do not know what i did in this life to deserve this, she told the audience. i am just a girl from a trailer park who had a dream. morgan freeman beat actors including clive owen, jamie foxx and alan alda to the prize for best supporting actor. he thanked eastwood and described the film as a labour of love. this was the fourth nomination of his career but his first win. backstage, he said a lot of people say you are due maybe you are, maybe you are not it is an accolade. million dollar baby's success was the night's biggest surprise after the aviator seemed to have the advantage until the end of the ceremony. cate blanchett, who won for playing late screen legend katharine hepburn in the aviator, said her award was an indescribable surprise and honour. of hepburn, she said the longevity of her career is inspiring to everyone. blanchett also paid tribute to the film's director martin scorsese, telling him i hope my son will marry your daughter. the aviator's other awards came for cinematography, film editing, art direction and costume design. and jamie foxx, who had two nominations this year, paid tribute to the beautiful legacy of soul legend ray charles, who died last year, and thanked director taylor hackford. you took a chance, man, he said. that love for ray charles was deep down in the earth somewhere and you opened it up. everybody's drowning in this love. thank you for taking a chance and thank you for waiting 15 years to get me to do it.. he broke down in tears when speaking about being whipped by his grandmother, whom he described as his first acting teacher, when he was young. in other awards, cartoon hit the incredibles won best animated feature and best sound editing. bittersweet comedy sideways won best adapted screenplay while the original screenplay prize went to eternal sunshine of the spotless mind. born into brothels, about the children of prostitutes in calcutta, was named best documentary, the sea inside was named best foreign language film and finding neverland got the accolade for best musical score. spiderman 2 triumphed in the visual effects category, ray won best sound mixing and lemony snicket's a series of unfortunate events picked up best makeup. former british tv presenter andrea arnold, who hosted children's shows motormouth and number 73 in the 1980s, won best short film for wasp. comedian chris rock, who hosted the ceremony for the first time, received a standing ovation before getting the show under way.\n",
      "firstData summary: the boxing drama was named best picture and eastwood pipped scorsese to best director, while its stars hilary swank and morgan freeman won acting awards.born into brothels, about the children of prostitutes in calcutta, was named best documentary, the sea inside was named best foreign language film and finding neverland got the accolade for best musical score.many expected this to be scorsese's year but he was unsuccessful in the best director category for the fifth time in his career.jamie foxx picked up best actor for playing soul star ray charles in ray.the aviator took five prizes including best supporting actress for cate blanchett.instead, eastwood took his second oscar for best director after winning for unforgiven in 1993.it was a wonderful adventure, eastwood said.cate blanchett, who won for playing late screen legend katharine hepburn in the aviator, said her award was an indescribable surprise and honour.in other awards, cartoon hit the incredibles won best animated feature and best sound editing.spiderman 2 triumphed in the visual effects category, ray won best sound mixing and lemony snicket's a series of unfortunate events picked up best makeup.this was the fourth nomination of his career but his first win.that love for ray charles was deep down in the earth somewhere and you opened it up.hilary swank picked up her second best actress oscar for playing a female boxer in million dollar baby, beating stars including annette bening, kate winslet and imelda staunton.morgan freeman beat actors including clive owen, jamie foxx and alan alda to the prize for best supporting actor.and jamie foxx, who had two nominations this year, paid tribute to the beautiful legacy of soul legend ray charles, who died last year, and thanked director taylor hackford.\n",
      "firstData title: eastwood's baby scoops top oscars\n"
     ]
    }
   ],
   "source": [
    "testDataSet = get_data(\"data/bbc-news-summary.csv\", 20)\n",
    "firstData = testDataSet[0]\n",
    "print(f\"firstData type: {firstData[0]}\")\n",
    "print(f\"firstData content: {firstData[1]}\")\n",
    "print(f\"firstData summary: {firstData[2]}\")\n",
    "print(f\"firstData title: {firstData[3]}\")\n"
   ]
  },
  {
   "cell_type": "code",
   "execution_count": 8,
   "id": "6155728d",
   "metadata": {},
   "outputs": [
    {
     "name": "stdout",
     "output_type": "stream",
     "text": [
      "summary: this is $27 $27 should be $27 by the $27 union said it is $27 $27 was $27 in the us dollar will be more than three years the only have had in the current three years had been $27 more than three years to be the only have the current month already had a more than three more than three years to be a $27 and more than three years to be the only have had the current month already had a more than three more than three years to be a $27 and more than three years to be the only have had the current month already had a more than three more than three years to be a $27 and more than three years to be the only have had the current month already had a more than three of the current month already had a more than three of the current month already had a\n"
     ]
    }
   ],
   "source": [
    "inputtext = \"russian authorities do not have to abide by any us court decisions taken with regard to troubled oil giant yukos, a houston court has been told. legal expert william butler said there was no treaty between the us and russia to recognise the other's legal rulings. that meant moscow would not have to adhere to us rulings in the yukos case. yukos says a us court was entitled to declare it bankrupt before its yugansk unit was sold, since it has a us subsidiary and local bank accounts. yukos made its surprise chapter 11 bankruptcy filing in houston in december in an unsuccessful attempt to halt the auction of yugansk, its main oil producing unit, by russian authorities. yugansk was sold to help pay off a $27.5bn (£14.5bn) back tax bill. it was bought for $9.4bn by a previously unknown group, which was in turn bought by statecontrolled oil company rosneft. the us court's jurisdiction has been challenged by deutsche bank and gazpromneft, a former unit of russian gas monopoly gazprom which is due to merge with rosneft. deutsche bank maintains the case has no place in a us court because yukos has no assets in the us, apart from two bank accounts and a house in houston owned by its chief finance officer bruce misamore. deutsche bank is involved in the case because it is itself being sued by yukos. it had agreed to loan gazpromneft the money to bid for yugansk. us bankruptcy judge letitia clark, who issued an injunction in december to try and prevent the yugansk sale, has said she will rule pretty promptly, however i do not anticipate ruling on it before next tuesday. yukos has claimed it sought help in the us because other forums russian courts and the european court of human rights were either unfriendly or offered less protection. it has claimed that russia imposed the huge tax bill and forced the sale of yugansk as part of a campaign to destroy yukos and its former owner mihkail khodorkovsky, who is facing a 10year prison term in russia for fraud and tax evasion. yukos' parent company, the gibraltarbased menatep group, is suing russia in europe for $28.3bn in financial damages. the company is also seeking $20bn in a separate us lawsuit against rosneft and gazprom for their role in the sale of yugansk.\"\n",
    "\n",
    "inputTitle = \"yukos case: russia not bound by us court ruling\"\n",
    "\n",
    "chatBot=ChatBot()\n",
    "chatBot.set_chosen_model(\"GRU\")\n",
    "chatBot.set_model_weight(\"GRU\", \"train/checkpoint/GRU_seq2seq_bbc_500_fixed.h5\")\n",
    "\n",
    "summary = chatBot.news_summary(inputTitle=inputTitle, inputtext=inputtext)\n",
    "\n",
    "print(f\"summary: {summary}\")"
   ]
  },
  {
   "cell_type": "code",
   "execution_count": 9,
   "id": "b7ca226a",
   "metadata": {},
   "outputs": [
    {
     "name": "stdout",
     "output_type": "stream",
     "text": [
      "[Sample 1] Precision: 0.9534, Recall: 0.9534, F1: 0.9534\n"
     ]
    }
   ],
   "source": [
    "# 计算 BERTScore\n",
    "P, R, F1 = bert_score([\"i love machine learning  \"], [\"i like artificial intelligence\"], lang='en',model_type='roberta-large', verbose=False)\n",
    "\n",
    "# 打印每一对的分数\n",
    "for i in range(len(F1)):\n",
    "    print(f\"[Sample {i+1}] Precision: {P[i]:.4f}, Recall: {R[i]:.4f}, F1: {F1[i]:.4f}\")"
   ]
  },
  {
   "cell_type": "code",
   "execution_count": 10,
   "id": "3953a2b5",
   "metadata": {},
   "outputs": [],
   "source": [
    "import time\n",
    "\n",
    "def clean_Punctuation(text):\n",
    "\t# clean text by removing punctuation and special characters\n",
    "\ttext = re.sub(r'[^\\w\\s]', '', text)\n",
    "\treturn text\n",
    "\n",
    "def modelEvaluation(chatBot, testDataSet, model, model_weight):\n",
    "\t# load the model\n",
    "\t# chatBot=ChatBot()\n",
    "\tchatBot.set_chosen_model(model)\n",
    "\tchatBot.set_model_weight(model, model_weight)\n",
    "\n",
    "\t# calculating average ROUGE scores, BERT score and total responses time\n",
    "\tscorer = rouge_scorer.RougeScorer(['rouge1', 'rouge2', 'rougeL'], use_stemmer=True)\n",
    "\trouge1_f1, rouge2_f1, rougel_f1 = [], [], []\n",
    "\tbert_f1 = []\n",
    "\ttotal_response_time = 0\n",
    "\n",
    "\tfor data in testDataSet:\n",
    "\t\tif model == \"T5\" or model == \"textRank\":\n",
    "\t\t\t# pretrained model that not need for punctuation cleaning\n",
    "\t\t\t# including T5\n",
    "\t\t\toriginal_summary = data[2] \n",
    "\t\t\toriginal_title = data[3]\n",
    "\t\t\toriginal_content = data[1]\n",
    "\t\telse:\n",
    "\t\t\t# pretrained model that need for punctuation cleaning\n",
    "\t\t\t# including LSTM\n",
    "\t\t\toriginal_summary = clean_Punctuation(data[2])\n",
    "\t\t\toriginal_title = clean_Punctuation(data[3])\n",
    "\t\t\toriginal_content = clean_Punctuation(data[1])\n",
    "\n",
    "\t\tstartTime = time.time()\n",
    "\n",
    "\t\tsummary = chatBot.news_summary(inputTitle=original_title, inputtext=original_content)\n",
    "\n",
    "\t\tendTime = time.time()\n",
    "\t\tresponse_time = endTime - startTime\n",
    "\t\ttotal_response_time += response_time\n",
    "\n",
    "\t\t# ROUGE score\n",
    "\t\trouge_scores = scorer.score(original_summary, summary)\n",
    "\t\trouge1_f1.append(rouge_scores['rouge1'].fmeasure)\n",
    "\t\trouge2_f1.append(rouge_scores['rouge2'].fmeasure)\n",
    "\t\trougel_f1.append(rouge_scores['rougeL'].fmeasure)\n",
    "\t\t# BERT score\n",
    "\t\tP, R, F1 = bert_score([original_summary], [summary], lang='en')\n",
    "\t\tbert_f1.append(F1.mean().item())\n",
    "\n",
    "\tavg_time = total_response_time * 1000 // len(testDataSet)\n",
    "\n",
    "\t# print average rouge score\n",
    "\tprint(f\"======Average ROUGE Scores======\")\n",
    "\tprint(f\"==>model: {chatBot.get_chosen_model()}\")\n",
    "\tprint(f\"==>model weight: {chatBot.get_model_weight()}\")\n",
    "\tprint(f\"ROUGE-1 F1: {sum(rouge1_f1) / len(rouge1_f1):.4f}\")\n",
    "\tprint(f\"ROUGE-2 F1: {sum(rouge2_f1) / len(rouge2_f1):.4f}\")\n",
    "\tprint(f\"ROUGE-L F1: {sum(rougel_f1) / len(rougel_f1):.4f}\")\n",
    "\tprint(f\"Average BERT F1: {sum(bert_f1) / len(bert_f1):.4f}\")\n",
    "\tprint(f\"Total response time for {len(testDataSet)} test inputs: {avg_time:.4f} millisecond\")\n",
    "\t\n",
    "\treturn total_response_time, sum(rouge1_f1) / len(rouge1_f1), sum(rouge2_f1) / len(rouge2_f1), sum(rougel_f1) / len(rougel_f1), sum(bert_f1) / len(bert_f1)"
   ]
  },
  {
   "cell_type": "code",
   "execution_count": null,
   "id": "f0032a59",
   "metadata": {},
   "outputs": [
    {
     "name": "stdout",
     "output_type": "stream",
     "text": [
      "======Average ROUGE Scores======\n",
      "==>model: LSTM\n",
      "==>model weight: train/checkpoint/seq2seq_bbc_500_fixed.pt\n",
      "ROUGE-1 F1: 0.2263\n",
      "ROUGE-2 F1: 0.0229\n",
      "ROUGE-L F1: 0.1315\n",
      "Average BERT F1: 0.7532\n",
      "Total response time for 20 test inputs: 123.0000 millisecond\n",
      "======Average ROUGE Scores======\n",
      "==>model: LSTM\n",
      "==>model weight: train/checkpoint/seq2seq_bbc_1500_fixed.pt\n",
      "ROUGE-1 F1: 0.2369\n",
      "ROUGE-2 F1: 0.0286\n",
      "ROUGE-L F1: 0.1300\n",
      "Average BERT F1: 0.7601\n",
      "Total response time for 20 test inputs: 868.0000 millisecond\n",
      "======Average ROUGE Scores======\n",
      "==>model: GRU\n",
      "==>model weight: train/checkpoint/GRU_seq2seq_bbc_500_fixed.h5\n",
      "ROUGE-1 F1: 0.1374\n",
      "ROUGE-2 F1: 0.0276\n",
      "ROUGE-L F1: 0.1057\n",
      "Average BERT F1: 0.7414\n",
      "Total response time for 20 test inputs: 3070.0000 millisecond\n",
      "======Average ROUGE Scores======\n",
      "==>model: GRU\n",
      "==>model weight: train/checkpoint/GRU_seq2seq_bbc_1500_fixed.h5\n",
      "ROUGE-1 F1: 0.1385\n",
      "ROUGE-2 F1: 0.0280\n",
      "ROUGE-L F1: 0.1063\n",
      "Average BERT F1: 0.7466\n",
      "Total response time for 20 test inputs: 3244.0000 millisecond\n",
      "======Average ROUGE Scores======\n",
      "==>model: T5\n",
      "==>model weight: T5-small\n",
      "ROUGE-1 F1: 0.4258\n",
      "ROUGE-2 F1: 0.3071\n",
      "ROUGE-L F1: 0.3030\n",
      "Average BERT F1: 0.8772\n",
      "Total response time for 20 test inputs: 3401.0000 millisecond\n",
      "======Average ROUGE Scores======\n",
      "==>model: textRank\n",
      "==>model weight: textRank\n",
      "ROUGE-1 F1: 0.6083\n",
      "ROUGE-2 F1: 0.5340\n",
      "ROUGE-L F1: 0.4356\n",
      "Average BERT F1: 0.9087\n",
      "Total response time for 20 test inputs: 15.0000 millisecond\n"
     ]
    }
   ],
   "source": [
    "\n",
    "allDict = []\n",
    "allDict.append(modelEvaluation(CHATBOT, testDataSet, \"LSTM\", \"train/checkpoint/seq2seq_bbc_500_fixed.pt\"))\n",
    "allDict.append(modelEvaluation(CHATBOT, testDataSet, \"LSTM\", \"train/checkpoint/seq2seq_bbc_1500_fixed.pt\"))\n",
    "allDict.append(modelEvaluation(CHATBOT, testDataSet, \"GRU\", \"train/checkpoint/GRU_seq2seq_bbc_500_fixed.h5\"))\n",
    "allDict.append(modelEvaluation(CHATBOT, testDataSet, \"GRU\", \"train/checkpoint/GRU_seq2seq_bbc_1500_fixed.h5\"))\n",
    "allDict.append(modelEvaluation(CHATBOT, testDataSet, \"T5\", \"N/A\"))\n",
    "allDict.append(modelEvaluation(CHATBOT, testDataSet, \"textRank\", \"N/A\"))\n",
    "\n"
   ]
  }
 ],
 "metadata": {
  "kernelspec": {
   "display_name": "dia",
   "language": "python",
   "name": "python3"
  },
  "language_info": {
   "codemirror_mode": {
    "name": "ipython",
    "version": 3
   },
   "file_extension": ".py",
   "mimetype": "text/x-python",
   "name": "python",
   "nbconvert_exporter": "python",
   "pygments_lexer": "ipython3",
   "version": "3.10.17"
  }
 },
 "nbformat": 4,
 "nbformat_minor": 5
}
