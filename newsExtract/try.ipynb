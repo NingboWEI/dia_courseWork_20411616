{
 "cells": [
  {
   "cell_type": "code",
   "execution_count": 1,
   "id": "86879666",
   "metadata": {},
   "outputs": [],
   "source": [
    "from newsCrawler import NewsCrawler\n"
   ]
  },
  {
   "cell_type": "code",
   "execution_count": 2,
   "id": "f8af3cf8",
   "metadata": {},
   "outputs": [
    {
     "name": "stdout",
     "output_type": "stream",
     "text": [
      "新闻 1\n",
      "标题: Australia PM Albanese makes stunning comeback with landslide win\n",
      "链接: https://www.bbc.co.uk/news/articles/c9djze015xlo\n",
      "==================================================\n",
      "新闻 2\n",
      "标题: Fourteen children arrested over boy's fire death in Gateshead\n",
      "链接: https://www.bbc.co.uk/news/articles/c5ygn4q9x3vo\n",
      "==================================================\n",
      "新闻 3\n",
      "标题: Harry's emotional avalanche hits the Royal Family\n",
      "链接: https://www.bbc.co.uk/news/articles/crrz44d7v08o\n",
      "==================================================\n",
      "新闻 4\n",
      "标题: What Prince Harry was like during our exclusive interview\n",
      "链接: https://www.bbc.co.uk/news/articles/cvg9079v13lo\n",
      "==================================================\n",
      "新闻 5\n",
      "标题: This week proves Nigel Farage's PM ambition is not a wild notion\n",
      "链接: https://www.bbc.co.uk/news/articles/cx20zgwve43o\n",
      "==================================================\n"
     ]
    }
   ],
   "source": [
    "MyCrawler = NewsCrawler()\n",
    "latestNewsList = MyCrawler.extract_latest_hot_news()\n",
    "\n",
    "# 输出结果\n",
    "for i, news in enumerate(latestNewsList, 1):\n",
    "    print(f\"新闻 {i}\")\n",
    "    print(f\"标题: {news['title']}\")\n",
    "    print(f\"链接: {news['url']}\")\n",
    "    print(\"=\" * 50)\n"
   ]
  },
  {
   "cell_type": "code",
   "execution_count": 3,
   "id": "31b220db",
   "metadata": {},
   "outputs": [
    {
     "name": "stdout",
     "output_type": "stream",
     "text": [
      "新闻正文:\n",
      "{'title': 'Australia PM Albanese makes stunning comeback with landslide win', 'content': 'Labor\\'s Anthony Albanese has defied the so-called \"incumbency curse\" to be re-elected Australia\\'s prime minister in a landslide.\\nOfficial vote counting won\\'t finish for days, but Albanese\\'s centre-left government will dramatically increase its majority after the conservative Liberal-National coalition suffered a thumping defeat nationwide.\\n\"Today, the Australian people have voted for Australian values: for fairness, aspiration and opportunity for all; for the strength to show courage in adversity and kindness to those in need,\" Albanese said.\\nCoalition leader Peter Dutton, who lost his own seat of 24 years, said he accepted \"full responsibility\" for his party\\'s loss and apologised to his MPs.\\nFollowing the result, UK Prime Minister Sir Keir Starmer and US Secretary of State Marco Rubio both said they looked forward to deepening their bilateral relationships with Australia.\\nCost-of-living concerns - particularly the affordability of healthcare and housing - dominated the five-week campaign, but international relations also reared its head, with the issue ofhow to deal with Donald Trump looming large over the election.\\nDutton wasseen by many as Australia\\'s Trump, which appeared to go down badly with voters, despite his attempts to shake off comparisons made between his policies on immigration, public sector cuts and China, and the Trump administration.\\nLabor has seen swings towards them right across the country â\\x80\\x93 a rare feat for a second-term government in Australia - and Albanese becomes the first prime minister to win back-to-back elections in over 20 years.\\nThe party\\'s success has also tempered a trend of voters abandoning the two major parties, which was the big story of the last election in 2022.\\nLabor is on track to finish with 86 seats, the Coalition about 40, and the Greens Party with one or two, according to projections by the Australian Broadcasting Corporation (ABC). Other minor parties and independents are ahead in nine seats.\\nThat represents an increase of nine for Labor and a significant drop in support for the Greens. However most \"teal\" independents have been returned in their more conservative, inner-city electorates.\\nIt\\'s a remarkable turnaround from the start of the year, when polling put Albanese\\'s popularity at record lows after three years of global economic pain, tense national debate, and growing government dissatisfaction.\\nIn his Saturday night victory speech, Albanese addressed some of the election\\'s key issues, which also included migration, climate change and energy.\\nHe reiterated his promises to make healthcare - most critically GP appointments - more affordable, put buying a house in reach for more Australians, and do more to address climate change and protect the environment.\\nNotably, he also vowed to advance reconciliation for First Nations people: \"We will be a stronger nation when we Close the Gap between Indigenous and non-Indigenous Australians.\"\\nIt\\'s a veiled reference to the biggest moment of Albanese\\'s tenure,the failed Voice referendum of October 2023, which sought to recognise Aboriginal and Torres Strait Islander people in the constitution, and simultaneously establish a parliamentary advisory body for them.\\nAustralia remains the only Commonwealth country to have never signed a treaty with its Indigenous people.\\nThe Voice was one of Albanese\\'s most defining policies, and his most striking setback - it was overwhelmingly rejected after months of often toxic and divisive national debate.\\nIndigenous Australians have told the BBCthey feel like they\\'ve been forgotten by policymakers since.\\nThe prime minister also found difficulty trying to walk a middle path on the Israel-Gaza war,raised eyebrows after buying a multi-million dollar beach padin the midst of a housing crisis and, like other leaders globally, he grappled with tough economic conditions.\\nWith tanking poll numbers, Albanese was broadly seen as the underdog coming into the election, and was poised to be the next victim of the \"incumbency curse\" â\\x80\\x93 a term to explain a global trend where struggling constituents were turfing out governments after a single term.\\nDutton, on the other hand, looked like he was writing a great political comeback - he was on the edge of bringing his party from its worst loss in 70 years back into office in a single term.\\nIt has been almost a century since a first-term government has failed to win re-election, but as Australian National University  Emeritus Professor John Warhurst said: \"Dutton entered the campaign [year] in front. It was his to lose.\"\\nInstead tonight Dutton has overseen a party loss so emphatic he has lost his own electorate of Dickson, to Labor\\'s Ali France.\\n\"I love this country and have fought hard for it,\" he told supporters in Brisbane, conceding defeat.\\n\"We have been defined by our opponents in this election which is not a true story of who we are, but we will rebuild from here and we will do that because we know our values, we know our beliefs, and we will always stick to them.\"\\nHis campaign was marred by unforced errors: including a series of policy backflips which caused confusion, awkward mistakes on important issues like cost of living and, perhaps most memorably, accidentally booting an AFL ball into a cameraman\\'s head.\\n\"The opposition has been shambolic,\" Prof Warhurst says.\\nBut the government - while resolute and disciplined in its campaign - was timid. It\\'s strategy was largely allowing voters to judge Dutton and his party, rather than advancing bold or convincing policies, analysts say.\\nAnd that\\'s something we heard from voters throughout the campaign too.\\nWhile the Coalition turns to licking its wounds and choosing its next leader, it will again have to reckon with its direction.\\nLast election, analysts and some of the party\\'s own MPs cautioned against a move towards the right. They questioned whether Dutton â\\x80\\x93 a polarising figure considered by many to be a conservative hard man â\\x80\\x93 was the right person to rebuild support, particularly in the moderate areas where they lost a lot of it.\\nAfter a campaign which in its dying days ventured into culture war territory and what some say are \"Trumpian\" politics, the Coalition is going to have to ask those questions again â\\x80\\x93 and if they want to be competitive, perhaps find different answers.\\n\"We have to stop drinking the Kool-Aid from the fire hose and we need to have a serious review... we delude ourselves that we are just a few tactical devices away from winning an election,\" former Liberal strategist Tony Barry told the ABC.\\nBut meanwhile Labor has to decide what it wants to achieve with the large mandate Australia has handed them.\\nAlbanese\\'s \"incumbency curse\" turned out to be a gift, with international uncertainty appearing to have swayed voters in countries like Canada away from change. Likewise, Australia voted for stability.\\nLabor struck a \"middle-of-the-road path\" with its a policy platform, but can now afford to be braver, says Amy Remeikis, chief politicial analyst at the Australia Institute think tank.\\n\"That was the path that they took to the election, and that is what they are seeing has paid dividends for them. But the question now is: \\'Will Labor actually do something with power?\\'\"'}\n"
     ]
    }
   ],
   "source": [
    "testFisrtUrl = latestNewsList[0]['url']\n",
    "NeswsText = MyCrawler.extractNewsTextByURL(testFisrtUrl)\n",
    "print(\"新闻正文:\")\n",
    "print(NeswsText)"
   ]
  },
  {
   "cell_type": "code",
   "execution_count": 4,
   "id": "feafbe1a",
   "metadata": {},
   "outputs": [
    {
     "name": "stdout",
     "output_type": "stream",
     "text": [
      "新闻 1\n",
      "标题: Talks or no talks: Who blinks first in US-China trade war?\n",
      "链接: https://www.bbc.co.uk/news/articles/cg419qw9g15o\n",
      "==================================================\n",
      "新闻 2\n",
      "标题: Why Australia's opposition is vying for votes on Chinese social media\n",
      "链接: https://www.bbc.co.uk/news/articles/cqx4vr5nqr8o\n",
      "==================================================\n",
      "新闻 3\n",
      "标题: 'We don't care': A defiant China looks beyond Trump's America\n",
      "链接: https://www.bbc.co.uk/news/articles/cwy7jdn09lxo\n",
      "==================================================\n",
      "新闻 4\n",
      "标题: Xi's real test is not Trump's trade war\n",
      "链接: https://www.bbc.co.uk/news/articles/cpq7y8vl55yo\n",
      "==================================================\n",
      "新闻 5\n",
      "标题: Hong Kong frees four pro-democracy lawmakers who completed jail terms\n",
      "链接: https://www.bbc.co.uk/news/articles/c5y6zzg22r5o\n",
      "==================================================\n"
     ]
    }
   ],
   "source": [
    "latestNewsList = MyCrawler.extract_latest_hot_news(url=\"https://www.bbc.co.uk/news/world/asia/china\")\n",
    "\n",
    "# 输出结果\n",
    "for i, news in enumerate(latestNewsList, 1):\n",
    "    print(f\"新闻 {i}\")\n",
    "    print(f\"标题: {news['title']}\")\n",
    "    print(f\"链接: {news['url']}\")\n",
    "    print(\"=\" * 50)"
   ]
  },
  {
   "cell_type": "code",
   "execution_count": 5,
   "id": "701ec220",
   "metadata": {},
   "outputs": [
    {
     "name": "stdout",
     "output_type": "stream",
     "text": [
      "新闻 1\n",
      "标题: Talks or no talks: Who blinks first in US-China trade war?\n",
      "链接: https://www.bbc.co.uk/news/articles/cg419qw9g15o\n",
      "==================================================\n",
      "新闻 2\n",
      "标题: Xi's real test is not Trump's trade war\n",
      "链接: https://www.bbc.co.uk/news/articles/cpq7y8vl55yo\n",
      "==================================================\n",
      "新闻 3\n",
      "标题: China shares rare Moon rocks with US despite trade war\n",
      "链接: https://www.bbc.co.uk/news/articles/cp8v691qmg5o\n",
      "==================================================\n",
      "新闻 4\n",
      "标题: Five cards China holds in a trade war with the US\n",
      "链接: https://www.bbc.co.uk/news/articles/c0kxe1m1y26o\n",
      "==================================================\n",
      "新闻 5\n",
      "标题: Gold hits new record over US-China trade war fears\n",
      "链接: https://www.bbc.co.uk/news/articles/cdrg6mnr8vpo\n",
      "==================================================\n"
     ]
    }
   ],
   "source": [
    "latestNewsList = MyCrawler.extract_search_news(quary=\"trade war\")\n",
    "\n",
    "# 输出结果\n",
    "for i, news in enumerate(latestNewsList, 1):\n",
    "    print(f\"新闻 {i}\")\n",
    "    print(f\"标题: {news['title']}\")\n",
    "    print(f\"链接: {news['url']}\")\n",
    "    print(\"=\" * 50)\n"
   ]
  }
 ],
 "metadata": {
  "kernelspec": {
   "display_name": "dia",
   "language": "python",
   "name": "python3"
  },
  "language_info": {
   "codemirror_mode": {
    "name": "ipython",
    "version": 3
   },
   "file_extension": ".py",
   "mimetype": "text/x-python",
   "name": "python",
   "nbconvert_exporter": "python",
   "pygments_lexer": "ipython3",
   "version": "3.10.17"
  }
 },
 "nbformat": 4,
 "nbformat_minor": 5
}
