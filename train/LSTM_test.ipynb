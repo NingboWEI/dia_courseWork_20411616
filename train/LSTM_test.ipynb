{
 "cells": [
  {
   "cell_type": "code",
   "execution_count": 1,
   "metadata": {},
   "outputs": [],
   "source": [
    "import numpy as np\n",
    "import pandas as pd\n",
    "import tensorflow as tf\n",
    "\n",
    "import os\n",
    "import sys\n",
    "current_dir = os.getcwd()\n",
    "sys.path.append(os.path.abspath(os.path.join(current_dir, '..')))\n",
    "from tokenizerManager import TokenizerManager\n",
    "from data.utils_bbc import get_dataloaders as get_dataloaders_bbc"
   ]
  },
  {
   "cell_type": "code",
   "execution_count": 2,
   "metadata": {},
   "outputs": [],
   "source": [
    "LOADDATASIZE = 510  # row of data\n",
    "BATCH_SIZE = 8  # batch size\n",
    "PAD_TOKEN_ID = 0"
   ]
  },
  {
   "cell_type": "markdown",
   "metadata": {},
   "source": [
    "### check GPU avaiabel"
   ]
  },
  {
   "cell_type": "code",
   "execution_count": 3,
   "metadata": {},
   "outputs": [
    {
     "name": "stdout",
     "output_type": "stream",
     "text": [
      "2.10.1\n",
      "[PhysicalDevice(name='/physical_device:GPU:0', device_type='GPU')]\n"
     ]
    }
   ],
   "source": [
    "import tensorflow as tf\n",
    "print(tf.__version__)\n",
    "print(tf.config.list_physical_devices('GPU'))"
   ]
  },
  {
   "cell_type": "code",
   "execution_count": 4,
   "metadata": {},
   "outputs": [
    {
     "data": {
      "text/html": [
       "<div>\n",
       "<style scoped>\n",
       "    .dataframe tbody tr th:only-of-type {\n",
       "        vertical-align: middle;\n",
       "    }\n",
       "\n",
       "    .dataframe tbody tr th {\n",
       "        vertical-align: top;\n",
       "    }\n",
       "\n",
       "    .dataframe thead th {\n",
       "        text-align: right;\n",
       "    }\n",
       "</style>\n",
       "<table border=\"1\" class=\"dataframe\">\n",
       "  <thead>\n",
       "    <tr style=\"text-align: right;\">\n",
       "      <th></th>\n",
       "      <th>ctext</th>\n",
       "      <th>text</th>\n",
       "    </tr>\n",
       "  </thead>\n",
       "  <tbody>\n",
       "    <tr>\n",
       "      <th>0</th>\n",
       "      <td>India will host its first WTA tournament in fi...</td>\n",
       "      <td>India will host its first WTA tournament in fi...</td>\n",
       "    </tr>\n",
       "    <tr>\n",
       "      <th>1</th>\n",
       "      <td>Samajwadi Party vice-president Kiranmay Nanda,...</td>\n",
       "      <td>Ousted SP Vice President Kiranmoy Nanda, who w...</td>\n",
       "    </tr>\n",
       "    <tr>\n",
       "      <th>2</th>\n",
       "      <td>Gurgaon, Jul 7 (PTI) Gurgaon Police today regi...</td>\n",
       "      <td>Servers of a Gurugram-based clothing company h...</td>\n",
       "    </tr>\n",
       "    <tr>\n",
       "      <th>3</th>\n",
       "      <td>Cash-strapped holidaymakers are making their t...</td>\n",
       "      <td>Passengers are making their toddlers drag suit...</td>\n",
       "    </tr>\n",
       "    <tr>\n",
       "      <th>4</th>\n",
       "      <td>London, Jun 30 (PTI) Supermodel Gigi Hadid say...</td>\n",
       "      <td>Model Gigi Hadid has said she cannot pull off ...</td>\n",
       "    </tr>\n",
       "  </tbody>\n",
       "</table>\n",
       "</div>"
      ],
      "text/plain": [
       "                                               ctext  \\\n",
       "0  India will host its first WTA tournament in fi...   \n",
       "1  Samajwadi Party vice-president Kiranmay Nanda,...   \n",
       "2  Gurgaon, Jul 7 (PTI) Gurgaon Police today regi...   \n",
       "3  Cash-strapped holidaymakers are making their t...   \n",
       "4  London, Jun 30 (PTI) Supermodel Gigi Hadid say...   \n",
       "\n",
       "                                                text  \n",
       "0  India will host its first WTA tournament in fi...  \n",
       "1  Ousted SP Vice President Kiranmoy Nanda, who w...  \n",
       "2  Servers of a Gurugram-based clothing company h...  \n",
       "3  Passengers are making their toddlers drag suit...  \n",
       "4  Model Gigi Hadid has said she cannot pull off ...  "
      ]
     },
     "execution_count": 4,
     "metadata": {},
     "output_type": "execute_result"
    }
   ],
   "source": [
    "# load the dataset\n",
    "df = pd.read_parquet('../data/NewsSummary.parquet')\n",
    "# select the first 500 rows of the dataset\n",
    "df = df.iloc[:500, :]\n",
    "# select two columns\n",
    "df = df[['ctext', 'text']]   # original text and summary\n",
    "data = df.copy()\n",
    "data.head()"
   ]
  },
  {
   "cell_type": "code",
   "execution_count": 5,
   "metadata": {},
   "outputs": [],
   "source": [
    "# from tokenizerManager import TokenizerManager\n",
    "\n",
    "# df = pd.read_csv(\"../data/bbc-news-summary.csv\").dropna()\n",
    "# df[\"clean_article\"] = df[\"Articles\"].apply(TokenizerManager.clean_text)\n",
    "# # print(df[\"clean_article\"].head(10))\n",
    "# print(df[\"clean_article\"].iloc[0])\n",
    "# print(df[\"Articles\"].iloc[0])"
   ]
  },
  {
   "cell_type": "code",
   "execution_count": 6,
   "metadata": {},
   "outputs": [
    {
     "name": "stdout",
     "output_type": "stream",
     "text": [
      "✅ Tokenizer 已构建，词表大小: 34994\n",
      "✅ Tokenizer 已保存到: ../data/tokenizer.pkl\n",
      "✅ Tokenizer 已加载: ../data/tokenizer.pkl\n",
      "tokenizer done, with length 34994\n"
     ]
    }
   ],
   "source": [
    "TOKENIZER_MANAGER = TokenizerManager()\n",
    "TOKENIZER_MANAGER.train_tokenizer_from_csv(\"../data/bbc-news-summary.csv\")\n",
    "TOKENIZER_MANAGER.save_tokenizer(\"../data/tokenizer.pkl\")\n",
    "\n",
    "TOKENIZER = TOKENIZER_MANAGER.load_tokenizer(load_path=\"../data/tokenizer.pkl\")\n",
    "print(\"tokenizer done, with length\", len(TOKENIZER.word_index) + 1)\n"
   ]
  },
  {
   "cell_type": "code",
   "execution_count": 7,
   "metadata": {},
   "outputs": [
    {
     "name": "stdout",
     "output_type": "stream",
     "text": [
      "Index(['File_path', 'Articles', 'Summaries'], dtype='object')\n"
     ]
    }
   ],
   "source": [
    "\n",
    "train_loader, val_loader = get_dataloaders_bbc(\"../data/bbc-news-summary.csv\", TOKENIZER, LOADDATASIZE, BATCH_SIZE)"
   ]
  },
  {
   "cell_type": "code",
   "execution_count": 8,
   "metadata": {},
   "outputs": [],
   "source": [
    "import torch\n",
    "from model.LSTM_seq2seq import Encoder, Decoder, Seq2Seq, Attention\n",
    "\n",
    "DEVICE = torch.device(\"cuda\" if torch.cuda.is_available() else \"cpu\")\n",
    "INPUT_DIM = len(TOKENIZER.word_index) + 1\n",
    "OUTPUT_DIM = len(TOKENIZER.word_index) + 1\n",
    "EMB_DIM = 256  # embedding dimension for both encoder and decoder\n",
    "HID_DIM = 512  # hidden dimension for LSTM\n",
    "N_LAYERS = 2\n",
    "\n",
    "# 1. Attention\n",
    "attn = Attention(enc_hid_dim=HID_DIM, dec_hid_dim=HID_DIM)\n",
    "\n",
    "# 2. Encoder 和 Decoder（Decoder 加入 attn）\n",
    "enc = Encoder(INPUT_DIM, EMB_DIM, HID_DIM, N_LAYERS) # 怎么设置\n",
    "dec = Decoder(OUTPUT_DIM, EMB_DIM, enc_hid_dim=HID_DIM, dec_hid_dim=HID_DIM,\n",
    "            attention=attn, num_layers=N_LAYERS)  # 怎么设置\n",
    "\n",
    "# 3. Seq2Seq\n",
    "model = Seq2Seq(enc, dec, DEVICE).to(DEVICE)"
   ]
  },
  {
   "cell_type": "code",
   "execution_count": 9,
   "metadata": {},
   "outputs": [
    {
     "name": "stderr",
     "output_type": "stream",
     "text": [
      "Epoch 1 [Train]: 100%|██████████| 58/58 [01:35<00:00,  1.64s/it]\n",
      "Epoch 1 [Val]: 100%|██████████| 7/7 [00:02<00:00,  3.21it/s]\n"
     ]
    },
    {
     "name": "stdout",
     "output_type": "stream",
     "text": [
      "Epoch 1 - Train Loss: 7.4207 | Val Loss: 6.8982\n"
     ]
    },
    {
     "name": "stderr",
     "output_type": "stream",
     "text": [
      "Epoch 2 [Train]: 100%|██████████| 58/58 [01:35<00:00,  1.65s/it]\n",
      "Epoch 2 [Val]: 100%|██████████| 7/7 [00:02<00:00,  3.27it/s]\n"
     ]
    },
    {
     "name": "stdout",
     "output_type": "stream",
     "text": [
      "Epoch 2 - Train Loss: 6.6449 | Val Loss: 6.8074\n"
     ]
    },
    {
     "name": "stderr",
     "output_type": "stream",
     "text": [
      "Epoch 3 [Train]: 100%|██████████| 58/58 [01:35<00:00,  1.64s/it]\n",
      "Epoch 3 [Val]: 100%|██████████| 7/7 [00:02<00:00,  3.27it/s]\n"
     ]
    },
    {
     "name": "stdout",
     "output_type": "stream",
     "text": [
      "Epoch 3 - Train Loss: 6.5059 | Val Loss: 6.7497\n"
     ]
    },
    {
     "name": "stderr",
     "output_type": "stream",
     "text": [
      "Epoch 4 [Train]: 100%|██████████| 58/58 [01:35<00:00,  1.64s/it]\n",
      "Epoch 4 [Val]: 100%|██████████| 7/7 [00:02<00:00,  3.04it/s]\n"
     ]
    },
    {
     "name": "stdout",
     "output_type": "stream",
     "text": [
      "Epoch 4 - Train Loss: 6.4018 | Val Loss: 6.7227\n"
     ]
    },
    {
     "name": "stderr",
     "output_type": "stream",
     "text": [
      "Epoch 5 [Train]: 100%|██████████| 58/58 [01:35<00:00,  1.64s/it]\n",
      "Epoch 5 [Val]: 100%|██████████| 7/7 [00:02<00:00,  3.23it/s]\n"
     ]
    },
    {
     "name": "stdout",
     "output_type": "stream",
     "text": [
      "Epoch 5 - Train Loss: 6.3262 | Val Loss: 6.7078\n"
     ]
    },
    {
     "name": "stderr",
     "output_type": "stream",
     "text": [
      "Epoch 6 [Train]: 100%|██████████| 58/58 [01:35<00:00,  1.65s/it]\n",
      "Epoch 6 [Val]: 100%|██████████| 7/7 [00:02<00:00,  3.18it/s]\n"
     ]
    },
    {
     "name": "stdout",
     "output_type": "stream",
     "text": [
      "Epoch 6 - Train Loss: 6.2548 | Val Loss: 6.7672\n"
     ]
    },
    {
     "name": "stderr",
     "output_type": "stream",
     "text": [
      "Epoch 7 [Train]: 100%|██████████| 58/58 [01:35<00:00,  1.65s/it]\n",
      "Epoch 7 [Val]: 100%|██████████| 7/7 [00:02<00:00,  3.22it/s]\n"
     ]
    },
    {
     "name": "stdout",
     "output_type": "stream",
     "text": [
      "Epoch 7 - Train Loss: 6.2052 | Val Loss: 6.7134\n"
     ]
    },
    {
     "name": "stderr",
     "output_type": "stream",
     "text": [
      "Epoch 8 [Train]: 100%|██████████| 58/58 [01:35<00:00,  1.65s/it]\n",
      "Epoch 8 [Val]: 100%|██████████| 7/7 [00:02<00:00,  3.21it/s]\n"
     ]
    },
    {
     "name": "stdout",
     "output_type": "stream",
     "text": [
      "Epoch 8 - Train Loss: 6.1110 | Val Loss: 6.6965\n"
     ]
    },
    {
     "name": "stderr",
     "output_type": "stream",
     "text": [
      "Epoch 9 [Train]: 100%|██████████| 58/58 [01:36<00:00,  1.66s/it]\n",
      "Epoch 9 [Val]: 100%|██████████| 7/7 [00:02<00:00,  3.19it/s]\n"
     ]
    },
    {
     "name": "stdout",
     "output_type": "stream",
     "text": [
      "Epoch 9 - Train Loss: 6.0334 | Val Loss: 6.6970\n"
     ]
    },
    {
     "name": "stderr",
     "output_type": "stream",
     "text": [
      "Epoch 10 [Train]: 100%|██████████| 58/58 [01:34<00:00,  1.64s/it]\n",
      "Epoch 10 [Val]: 100%|██████████| 7/7 [00:02<00:00,  3.14it/s]\n"
     ]
    },
    {
     "name": "stdout",
     "output_type": "stream",
     "text": [
      "Epoch 10 - Train Loss: 5.9435 | Val Loss: 6.6761\n"
     ]
    },
    {
     "name": "stderr",
     "output_type": "stream",
     "text": [
      "Epoch 11 [Train]: 100%|██████████| 58/58 [01:35<00:00,  1.64s/it]\n",
      "Epoch 11 [Val]: 100%|██████████| 7/7 [00:02<00:00,  3.16it/s]\n"
     ]
    },
    {
     "name": "stdout",
     "output_type": "stream",
     "text": [
      "Epoch 11 - Train Loss: 5.8802 | Val Loss: 6.7023\n"
     ]
    },
    {
     "name": "stderr",
     "output_type": "stream",
     "text": [
      "Epoch 12 [Train]: 100%|██████████| 58/58 [01:35<00:00,  1.65s/it]\n",
      "Epoch 12 [Val]: 100%|██████████| 7/7 [00:02<00:00,  3.20it/s]\n"
     ]
    },
    {
     "name": "stdout",
     "output_type": "stream",
     "text": [
      "Epoch 12 - Train Loss: 5.8363 | Val Loss: 6.6871\n"
     ]
    },
    {
     "name": "stderr",
     "output_type": "stream",
     "text": [
      "Epoch 13 [Train]: 100%|██████████| 58/58 [01:35<00:00,  1.65s/it]\n",
      "Epoch 13 [Val]: 100%|██████████| 7/7 [00:02<00:00,  3.29it/s]\n"
     ]
    },
    {
     "name": "stdout",
     "output_type": "stream",
     "text": [
      "Epoch 13 - Train Loss: 5.7817 | Val Loss: 6.6440\n"
     ]
    },
    {
     "name": "stderr",
     "output_type": "stream",
     "text": [
      "Epoch 14 [Train]: 100%|██████████| 58/58 [01:35<00:00,  1.64s/it]\n",
      "Epoch 14 [Val]: 100%|██████████| 7/7 [00:02<00:00,  3.22it/s]\n"
     ]
    },
    {
     "name": "stdout",
     "output_type": "stream",
     "text": [
      "Epoch 14 - Train Loss: 5.7283 | Val Loss: 6.6929\n"
     ]
    },
    {
     "name": "stderr",
     "output_type": "stream",
     "text": [
      "Epoch 15 [Train]: 100%|██████████| 58/58 [01:35<00:00,  1.65s/it]\n",
      "Epoch 15 [Val]: 100%|██████████| 7/7 [00:02<00:00,  3.08it/s]\n"
     ]
    },
    {
     "name": "stdout",
     "output_type": "stream",
     "text": [
      "Epoch 15 - Train Loss: 5.6522 | Val Loss: 6.6747\n"
     ]
    },
    {
     "name": "stderr",
     "output_type": "stream",
     "text": [
      "Epoch 16 [Train]: 100%|██████████| 58/58 [01:35<00:00,  1.64s/it]\n",
      "Epoch 16 [Val]: 100%|██████████| 7/7 [00:02<00:00,  3.21it/s]\n"
     ]
    },
    {
     "name": "stdout",
     "output_type": "stream",
     "text": [
      "Epoch 16 - Train Loss: 5.5954 | Val Loss: 6.6830\n"
     ]
    },
    {
     "name": "stderr",
     "output_type": "stream",
     "text": [
      "Epoch 17 [Train]: 100%|██████████| 58/58 [01:35<00:00,  1.65s/it]\n",
      "Epoch 17 [Val]: 100%|██████████| 7/7 [00:02<00:00,  3.22it/s]\n"
     ]
    },
    {
     "name": "stdout",
     "output_type": "stream",
     "text": [
      "Epoch 17 - Train Loss: 5.5215 | Val Loss: 6.7353\n"
     ]
    },
    {
     "name": "stderr",
     "output_type": "stream",
     "text": [
      "Epoch 18 [Train]: 100%|██████████| 58/58 [01:35<00:00,  1.64s/it]\n",
      "Epoch 18 [Val]: 100%|██████████| 7/7 [00:02<00:00,  3.21it/s]\n"
     ]
    },
    {
     "name": "stdout",
     "output_type": "stream",
     "text": [
      "Epoch 18 - Train Loss: 5.5636 | Val Loss: 6.7175\n"
     ]
    },
    {
     "name": "stderr",
     "output_type": "stream",
     "text": [
      "Epoch 19 [Train]: 100%|██████████| 58/58 [01:37<00:00,  1.68s/it]\n",
      "Epoch 19 [Val]: 100%|██████████| 7/7 [00:02<00:00,  3.12it/s]\n"
     ]
    },
    {
     "name": "stdout",
     "output_type": "stream",
     "text": [
      "Epoch 19 - Train Loss: 5.4463 | Val Loss: 6.7319\n"
     ]
    },
    {
     "name": "stderr",
     "output_type": "stream",
     "text": [
      "Epoch 20 [Train]: 100%|██████████| 58/58 [01:37<00:00,  1.69s/it]\n",
      "Epoch 20 [Val]: 100%|██████████| 7/7 [00:02<00:00,  2.88it/s]\n"
     ]
    },
    {
     "name": "stdout",
     "output_type": "stream",
     "text": [
      "Epoch 20 - Train Loss: 5.4444 | Val Loss: 6.6795\n"
     ]
    },
    {
     "name": "stderr",
     "output_type": "stream",
     "text": [
      "Epoch 21 [Train]: 100%|██████████| 58/58 [01:36<00:00,  1.67s/it]\n",
      "Epoch 21 [Val]: 100%|██████████| 7/7 [00:02<00:00,  3.01it/s]\n"
     ]
    },
    {
     "name": "stdout",
     "output_type": "stream",
     "text": [
      "Epoch 21 - Train Loss: 5.3549 | Val Loss: 6.7066\n"
     ]
    },
    {
     "name": "stderr",
     "output_type": "stream",
     "text": [
      "Epoch 22 [Train]: 100%|██████████| 58/58 [01:37<00:00,  1.68s/it]\n",
      "Epoch 22 [Val]: 100%|██████████| 7/7 [00:02<00:00,  3.00it/s]\n"
     ]
    },
    {
     "name": "stdout",
     "output_type": "stream",
     "text": [
      "Epoch 22 - Train Loss: 5.2607 | Val Loss: 6.6476\n"
     ]
    },
    {
     "name": "stderr",
     "output_type": "stream",
     "text": [
      "Epoch 23 [Train]: 100%|██████████| 58/58 [01:38<00:00,  1.69s/it]\n",
      "Epoch 23 [Val]: 100%|██████████| 7/7 [00:02<00:00,  3.08it/s]\n"
     ]
    },
    {
     "name": "stdout",
     "output_type": "stream",
     "text": [
      "Epoch 23 - Train Loss: 5.2136 | Val Loss: 6.7308\n"
     ]
    },
    {
     "name": "stderr",
     "output_type": "stream",
     "text": [
      "Epoch 24 [Train]: 100%|██████████| 58/58 [01:37<00:00,  1.69s/it]\n",
      "Epoch 24 [Val]: 100%|██████████| 7/7 [00:02<00:00,  3.03it/s]\n"
     ]
    },
    {
     "name": "stdout",
     "output_type": "stream",
     "text": [
      "Epoch 24 - Train Loss: 5.1336 | Val Loss: 6.7219\n"
     ]
    },
    {
     "name": "stderr",
     "output_type": "stream",
     "text": [
      "Epoch 25 [Train]: 100%|██████████| 58/58 [01:37<00:00,  1.68s/it]\n",
      "Epoch 25 [Val]: 100%|██████████| 7/7 [00:02<00:00,  3.10it/s]\n"
     ]
    },
    {
     "name": "stdout",
     "output_type": "stream",
     "text": [
      "Epoch 25 - Train Loss: 5.0919 | Val Loss: 6.7308\n"
     ]
    },
    {
     "name": "stderr",
     "output_type": "stream",
     "text": [
      "Epoch 26 [Train]: 100%|██████████| 58/58 [01:37<00:00,  1.68s/it]\n",
      "Epoch 26 [Val]: 100%|██████████| 7/7 [00:02<00:00,  2.88it/s]\n"
     ]
    },
    {
     "name": "stdout",
     "output_type": "stream",
     "text": [
      "Epoch 26 - Train Loss: 5.0301 | Val Loss: 6.7091\n"
     ]
    },
    {
     "name": "stderr",
     "output_type": "stream",
     "text": [
      "Epoch 27 [Train]: 100%|██████████| 58/58 [01:37<00:00,  1.68s/it]\n",
      "Epoch 27 [Val]: 100%|██████████| 7/7 [00:02<00:00,  2.93it/s]\n"
     ]
    },
    {
     "name": "stdout",
     "output_type": "stream",
     "text": [
      "Epoch 27 - Train Loss: 4.9550 | Val Loss: 6.7440\n"
     ]
    },
    {
     "name": "stderr",
     "output_type": "stream",
     "text": [
      "Epoch 28 [Train]: 100%|██████████| 58/58 [01:37<00:00,  1.68s/it]\n",
      "Epoch 28 [Val]: 100%|██████████| 7/7 [00:02<00:00,  3.14it/s]\n"
     ]
    },
    {
     "name": "stdout",
     "output_type": "stream",
     "text": [
      "Epoch 28 - Train Loss: 4.9171 | Val Loss: 6.7645\n"
     ]
    },
    {
     "name": "stderr",
     "output_type": "stream",
     "text": [
      "Epoch 29 [Train]: 100%|██████████| 58/58 [01:37<00:00,  1.68s/it]\n",
      "Epoch 29 [Val]: 100%|██████████| 7/7 [00:02<00:00,  3.18it/s]\n"
     ]
    },
    {
     "name": "stdout",
     "output_type": "stream",
     "text": [
      "Epoch 29 - Train Loss: 4.8448 | Val Loss: 6.7603\n"
     ]
    },
    {
     "name": "stderr",
     "output_type": "stream",
     "text": [
      "Epoch 30 [Train]: 100%|██████████| 58/58 [01:37<00:00,  1.69s/it]\n",
      "Epoch 30 [Val]: 100%|██████████| 7/7 [00:02<00:00,  3.07it/s]\n"
     ]
    },
    {
     "name": "stdout",
     "output_type": "stream",
     "text": [
      "Epoch 30 - Train Loss: 4.7797 | Val Loss: 6.7876\n"
     ]
    },
    {
     "name": "stderr",
     "output_type": "stream",
     "text": [
      "Epoch 31 [Train]: 100%|██████████| 58/58 [01:37<00:00,  1.69s/it]\n",
      "Epoch 31 [Val]: 100%|██████████| 7/7 [00:02<00:00,  3.15it/s]\n"
     ]
    },
    {
     "name": "stdout",
     "output_type": "stream",
     "text": [
      "Epoch 31 - Train Loss: 4.7041 | Val Loss: 6.8470\n"
     ]
    },
    {
     "name": "stderr",
     "output_type": "stream",
     "text": [
      "Epoch 32 [Train]: 100%|██████████| 58/58 [01:37<00:00,  1.68s/it]\n",
      "Epoch 32 [Val]: 100%|██████████| 7/7 [00:02<00:00,  2.94it/s]\n"
     ]
    },
    {
     "name": "stdout",
     "output_type": "stream",
     "text": [
      "Epoch 32 - Train Loss: 4.6622 | Val Loss: 6.9201\n"
     ]
    },
    {
     "name": "stderr",
     "output_type": "stream",
     "text": [
      "Epoch 33 [Train]: 100%|██████████| 58/58 [01:37<00:00,  1.68s/it]\n",
      "Epoch 33 [Val]: 100%|██████████| 7/7 [00:02<00:00,  2.85it/s]\n"
     ]
    },
    {
     "name": "stdout",
     "output_type": "stream",
     "text": [
      "Epoch 33 - Train Loss: 4.6758 | Val Loss: 6.8347\n"
     ]
    },
    {
     "name": "stderr",
     "output_type": "stream",
     "text": [
      "Epoch 34 [Train]: 100%|██████████| 58/58 [01:37<00:00,  1.69s/it]\n",
      "Epoch 34 [Val]: 100%|██████████| 7/7 [00:02<00:00,  3.05it/s]\n"
     ]
    },
    {
     "name": "stdout",
     "output_type": "stream",
     "text": [
      "Epoch 34 - Train Loss: 4.5473 | Val Loss: 6.8437\n"
     ]
    },
    {
     "name": "stderr",
     "output_type": "stream",
     "text": [
      "Epoch 35 [Train]: 100%|██████████| 58/58 [01:37<00:00,  1.69s/it]\n",
      "Epoch 35 [Val]: 100%|██████████| 7/7 [00:02<00:00,  3.04it/s]\n"
     ]
    },
    {
     "name": "stdout",
     "output_type": "stream",
     "text": [
      "Epoch 35 - Train Loss: 4.4414 | Val Loss: 6.8900\n"
     ]
    },
    {
     "name": "stderr",
     "output_type": "stream",
     "text": [
      "Epoch 36 [Train]: 100%|██████████| 58/58 [01:37<00:00,  1.68s/it]\n",
      "Epoch 36 [Val]: 100%|██████████| 7/7 [00:02<00:00,  3.13it/s]\n"
     ]
    },
    {
     "name": "stdout",
     "output_type": "stream",
     "text": [
      "Epoch 36 - Train Loss: 4.3453 | Val Loss: 6.9424\n"
     ]
    },
    {
     "name": "stderr",
     "output_type": "stream",
     "text": [
      "Epoch 37 [Train]: 100%|██████████| 58/58 [01:38<00:00,  1.69s/it]\n",
      "Epoch 37 [Val]: 100%|██████████| 7/7 [00:02<00:00,  3.13it/s]\n"
     ]
    },
    {
     "name": "stdout",
     "output_type": "stream",
     "text": [
      "Epoch 37 - Train Loss: 4.2451 | Val Loss: 6.9090\n"
     ]
    },
    {
     "name": "stderr",
     "output_type": "stream",
     "text": [
      "Epoch 38 [Train]: 100%|██████████| 58/58 [01:37<00:00,  1.69s/it]\n",
      "Epoch 38 [Val]: 100%|██████████| 7/7 [00:02<00:00,  2.93it/s]\n"
     ]
    },
    {
     "name": "stdout",
     "output_type": "stream",
     "text": [
      "Epoch 38 - Train Loss: 4.1924 | Val Loss: 6.9303\n"
     ]
    },
    {
     "name": "stderr",
     "output_type": "stream",
     "text": [
      "Epoch 39 [Train]: 100%|██████████| 58/58 [01:36<00:00,  1.67s/it]\n",
      "Epoch 39 [Val]: 100%|██████████| 7/7 [00:02<00:00,  3.01it/s]\n"
     ]
    },
    {
     "name": "stdout",
     "output_type": "stream",
     "text": [
      "Epoch 39 - Train Loss: 4.0964 | Val Loss: 6.9733\n"
     ]
    },
    {
     "name": "stderr",
     "output_type": "stream",
     "text": [
      "Epoch 40 [Train]: 100%|██████████| 58/58 [01:37<00:00,  1.68s/it]\n",
      "Epoch 40 [Val]: 100%|██████████| 7/7 [00:02<00:00,  2.98it/s]\n"
     ]
    },
    {
     "name": "stdout",
     "output_type": "stream",
     "text": [
      "Epoch 40 - Train Loss: 4.0509 | Val Loss: 6.9832\n"
     ]
    },
    {
     "name": "stderr",
     "output_type": "stream",
     "text": [
      "Epoch 41 [Train]: 100%|██████████| 58/58 [01:37<00:00,  1.69s/it]\n",
      "Epoch 41 [Val]: 100%|██████████| 7/7 [00:02<00:00,  3.24it/s]\n"
     ]
    },
    {
     "name": "stdout",
     "output_type": "stream",
     "text": [
      "Epoch 41 - Train Loss: 3.9645 | Val Loss: 7.0035\n"
     ]
    },
    {
     "name": "stderr",
     "output_type": "stream",
     "text": [
      "Epoch 42 [Train]: 100%|██████████| 58/58 [01:35<00:00,  1.65s/it]\n",
      "Epoch 42 [Val]: 100%|██████████| 7/7 [00:02<00:00,  3.24it/s]\n"
     ]
    },
    {
     "name": "stdout",
     "output_type": "stream",
     "text": [
      "Epoch 42 - Train Loss: 3.8586 | Val Loss: 7.0241\n"
     ]
    },
    {
     "name": "stderr",
     "output_type": "stream",
     "text": [
      "Epoch 43 [Train]: 100%|██████████| 58/58 [01:35<00:00,  1.64s/it]\n",
      "Epoch 43 [Val]: 100%|██████████| 7/7 [00:02<00:00,  3.25it/s]\n"
     ]
    },
    {
     "name": "stdout",
     "output_type": "stream",
     "text": [
      "Epoch 43 - Train Loss: 3.8432 | Val Loss: 7.0679\n"
     ]
    },
    {
     "name": "stderr",
     "output_type": "stream",
     "text": [
      "Epoch 44 [Train]: 100%|██████████| 58/58 [01:35<00:00,  1.65s/it]\n",
      "Epoch 44 [Val]: 100%|██████████| 7/7 [00:02<00:00,  3.04it/s]\n"
     ]
    },
    {
     "name": "stdout",
     "output_type": "stream",
     "text": [
      "Epoch 44 - Train Loss: 3.7932 | Val Loss: 7.0850\n"
     ]
    },
    {
     "name": "stderr",
     "output_type": "stream",
     "text": [
      "Epoch 45 [Train]: 100%|██████████| 58/58 [01:35<00:00,  1.65s/it]\n",
      "Epoch 45 [Val]: 100%|██████████| 7/7 [00:02<00:00,  3.22it/s]\n"
     ]
    },
    {
     "name": "stdout",
     "output_type": "stream",
     "text": [
      "Epoch 45 - Train Loss: 3.6717 | Val Loss: 7.0598\n"
     ]
    },
    {
     "name": "stderr",
     "output_type": "stream",
     "text": [
      "Epoch 46 [Train]: 100%|██████████| 58/58 [01:35<00:00,  1.65s/it]\n",
      "Epoch 46 [Val]: 100%|██████████| 7/7 [00:02<00:00,  3.24it/s]\n"
     ]
    },
    {
     "name": "stdout",
     "output_type": "stream",
     "text": [
      "Epoch 46 - Train Loss: 3.5567 | Val Loss: 7.1693\n"
     ]
    },
    {
     "name": "stderr",
     "output_type": "stream",
     "text": [
      "Epoch 47 [Train]: 100%|██████████| 58/58 [01:35<00:00,  1.64s/it]\n",
      "Epoch 47 [Val]: 100%|██████████| 7/7 [00:02<00:00,  3.27it/s]\n"
     ]
    },
    {
     "name": "stdout",
     "output_type": "stream",
     "text": [
      "Epoch 47 - Train Loss: 3.5262 | Val Loss: 7.2013\n"
     ]
    },
    {
     "name": "stderr",
     "output_type": "stream",
     "text": [
      "Epoch 48 [Train]: 100%|██████████| 58/58 [01:35<00:00,  1.65s/it]\n",
      "Epoch 48 [Val]: 100%|██████████| 7/7 [00:02<00:00,  3.20it/s]\n"
     ]
    },
    {
     "name": "stdout",
     "output_type": "stream",
     "text": [
      "Epoch 48 - Train Loss: 3.4547 | Val Loss: 7.1408\n"
     ]
    },
    {
     "name": "stderr",
     "output_type": "stream",
     "text": [
      "Epoch 49 [Train]: 100%|██████████| 58/58 [01:35<00:00,  1.65s/it]\n",
      "Epoch 49 [Val]: 100%|██████████| 7/7 [00:02<00:00,  3.11it/s]\n"
     ]
    },
    {
     "name": "stdout",
     "output_type": "stream",
     "text": [
      "Epoch 49 - Train Loss: 3.3674 | Val Loss: 7.1670\n"
     ]
    },
    {
     "name": "stderr",
     "output_type": "stream",
     "text": [
      "Epoch 50 [Train]: 100%|██████████| 58/58 [01:34<00:00,  1.64s/it]\n",
      "Epoch 50 [Val]: 100%|██████████| 7/7 [00:02<00:00,  3.13it/s]\n"
     ]
    },
    {
     "name": "stdout",
     "output_type": "stream",
     "text": [
      "Epoch 50 - Train Loss: 3.3054 | Val Loss: 7.1827\n"
     ]
    },
    {
     "name": "stderr",
     "output_type": "stream",
     "text": [
      "Epoch 51 [Train]: 100%|██████████| 58/58 [01:35<00:00,  1.64s/it]\n",
      "Epoch 51 [Val]: 100%|██████████| 7/7 [00:02<00:00,  3.18it/s]\n"
     ]
    },
    {
     "name": "stdout",
     "output_type": "stream",
     "text": [
      "Epoch 51 - Train Loss: 3.2768 | Val Loss: 7.1915\n"
     ]
    },
    {
     "name": "stderr",
     "output_type": "stream",
     "text": [
      "Epoch 52 [Train]: 100%|██████████| 58/58 [01:35<00:00,  1.65s/it]\n",
      "Epoch 52 [Val]: 100%|██████████| 7/7 [00:02<00:00,  3.14it/s]\n"
     ]
    },
    {
     "name": "stdout",
     "output_type": "stream",
     "text": [
      "Epoch 52 - Train Loss: 3.1870 | Val Loss: 7.2274\n"
     ]
    },
    {
     "name": "stderr",
     "output_type": "stream",
     "text": [
      "Epoch 53 [Train]: 100%|██████████| 58/58 [01:35<00:00,  1.65s/it]\n",
      "Epoch 53 [Val]: 100%|██████████| 7/7 [00:02<00:00,  3.29it/s]\n"
     ]
    },
    {
     "name": "stdout",
     "output_type": "stream",
     "text": [
      "Epoch 53 - Train Loss: 3.1250 | Val Loss: 7.2555\n"
     ]
    },
    {
     "name": "stderr",
     "output_type": "stream",
     "text": [
      "Epoch 54 [Train]: 100%|██████████| 58/58 [01:34<00:00,  1.64s/it]\n",
      "Epoch 54 [Val]: 100%|██████████| 7/7 [00:02<00:00,  3.16it/s]\n"
     ]
    },
    {
     "name": "stdout",
     "output_type": "stream",
     "text": [
      "Epoch 54 - Train Loss: 3.0132 | Val Loss: 7.3219\n"
     ]
    },
    {
     "name": "stderr",
     "output_type": "stream",
     "text": [
      "Epoch 55 [Train]: 100%|██████████| 58/58 [01:34<00:00,  1.64s/it]\n",
      "Epoch 55 [Val]: 100%|██████████| 7/7 [00:02<00:00,  3.26it/s]\n"
     ]
    },
    {
     "name": "stdout",
     "output_type": "stream",
     "text": [
      "Epoch 55 - Train Loss: 2.9736 | Val Loss: 7.2915\n"
     ]
    },
    {
     "name": "stderr",
     "output_type": "stream",
     "text": [
      "Epoch 56 [Train]: 100%|██████████| 58/58 [01:34<00:00,  1.64s/it]\n",
      "Epoch 56 [Val]: 100%|██████████| 7/7 [00:02<00:00,  3.23it/s]\n"
     ]
    },
    {
     "name": "stdout",
     "output_type": "stream",
     "text": [
      "Epoch 56 - Train Loss: 2.8979 | Val Loss: 7.3866\n"
     ]
    },
    {
     "name": "stderr",
     "output_type": "stream",
     "text": [
      "Epoch 57 [Train]: 100%|██████████| 58/58 [01:35<00:00,  1.65s/it]\n",
      "Epoch 57 [Val]: 100%|██████████| 7/7 [00:02<00:00,  3.19it/s]\n"
     ]
    },
    {
     "name": "stdout",
     "output_type": "stream",
     "text": [
      "Epoch 57 - Train Loss: 2.8258 | Val Loss: 7.3851\n"
     ]
    },
    {
     "name": "stderr",
     "output_type": "stream",
     "text": [
      "Epoch 58 [Train]: 100%|██████████| 58/58 [01:35<00:00,  1.64s/it]\n",
      "Epoch 58 [Val]: 100%|██████████| 7/7 [00:02<00:00,  3.22it/s]\n"
     ]
    },
    {
     "name": "stdout",
     "output_type": "stream",
     "text": [
      "Epoch 58 - Train Loss: 2.8528 | Val Loss: 7.3809\n"
     ]
    },
    {
     "name": "stderr",
     "output_type": "stream",
     "text": [
      "Epoch 59 [Train]: 100%|██████████| 58/58 [01:35<00:00,  1.65s/it]\n",
      "Epoch 59 [Val]: 100%|██████████| 7/7 [00:02<00:00,  3.23it/s]\n"
     ]
    },
    {
     "name": "stdout",
     "output_type": "stream",
     "text": [
      "Epoch 59 - Train Loss: 2.8050 | Val Loss: 7.4108\n"
     ]
    },
    {
     "name": "stderr",
     "output_type": "stream",
     "text": [
      "Epoch 60 [Train]: 100%|██████████| 58/58 [01:35<00:00,  1.65s/it]\n",
      "Epoch 60 [Val]: 100%|██████████| 7/7 [00:02<00:00,  3.10it/s]\n"
     ]
    },
    {
     "name": "stdout",
     "output_type": "stream",
     "text": [
      "Epoch 60 - Train Loss: 3.1690 | Val Loss: 7.3901\n"
     ]
    },
    {
     "name": "stderr",
     "output_type": "stream",
     "text": [
      "Epoch 61 [Train]: 100%|██████████| 58/58 [01:35<00:00,  1.64s/it]\n",
      "Epoch 61 [Val]: 100%|██████████| 7/7 [00:02<00:00,  3.27it/s]\n"
     ]
    },
    {
     "name": "stdout",
     "output_type": "stream",
     "text": [
      "Epoch 61 - Train Loss: 2.8323 | Val Loss: 7.3597\n"
     ]
    },
    {
     "name": "stderr",
     "output_type": "stream",
     "text": [
      "Epoch 62 [Train]: 100%|██████████| 58/58 [01:35<00:00,  1.64s/it]\n",
      "Epoch 62 [Val]: 100%|██████████| 7/7 [00:02<00:00,  3.18it/s]\n"
     ]
    },
    {
     "name": "stdout",
     "output_type": "stream",
     "text": [
      "Epoch 62 - Train Loss: 2.6473 | Val Loss: 7.4768\n"
     ]
    },
    {
     "name": "stderr",
     "output_type": "stream",
     "text": [
      "Epoch 63 [Train]: 100%|██████████| 58/58 [01:35<00:00,  1.65s/it]\n",
      "Epoch 63 [Val]: 100%|██████████| 7/7 [00:02<00:00,  3.22it/s]\n"
     ]
    },
    {
     "name": "stdout",
     "output_type": "stream",
     "text": [
      "Epoch 63 - Train Loss: 2.5616 | Val Loss: 7.4709\n"
     ]
    },
    {
     "name": "stderr",
     "output_type": "stream",
     "text": [
      "Epoch 64 [Train]: 100%|██████████| 58/58 [01:35<00:00,  1.65s/it]\n",
      "Epoch 64 [Val]: 100%|██████████| 7/7 [00:02<00:00,  3.22it/s]\n"
     ]
    },
    {
     "name": "stdout",
     "output_type": "stream",
     "text": [
      "Epoch 64 - Train Loss: 2.6774 | Val Loss: 7.5100\n"
     ]
    },
    {
     "name": "stderr",
     "output_type": "stream",
     "text": [
      "Epoch 65 [Train]: 100%|██████████| 58/58 [01:35<00:00,  1.64s/it]\n",
      "Epoch 65 [Val]: 100%|██████████| 7/7 [00:02<00:00,  3.10it/s]\n"
     ]
    },
    {
     "name": "stdout",
     "output_type": "stream",
     "text": [
      "Epoch 65 - Train Loss: 2.6670 | Val Loss: 7.5022\n"
     ]
    },
    {
     "name": "stderr",
     "output_type": "stream",
     "text": [
      "Epoch 66 [Train]: 100%|██████████| 58/58 [01:35<00:00,  1.64s/it]\n",
      "Epoch 66 [Val]: 100%|██████████| 7/7 [00:02<00:00,  3.02it/s]\n"
     ]
    },
    {
     "name": "stdout",
     "output_type": "stream",
     "text": [
      "Epoch 66 - Train Loss: 2.5240 | Val Loss: 7.4769\n"
     ]
    },
    {
     "name": "stderr",
     "output_type": "stream",
     "text": [
      "Epoch 67 [Train]: 100%|██████████| 58/58 [01:35<00:00,  1.65s/it]\n",
      "Epoch 67 [Val]: 100%|██████████| 7/7 [00:02<00:00,  3.23it/s]\n"
     ]
    },
    {
     "name": "stdout",
     "output_type": "stream",
     "text": [
      "Epoch 67 - Train Loss: 2.4269 | Val Loss: 7.5091\n"
     ]
    },
    {
     "name": "stderr",
     "output_type": "stream",
     "text": [
      "Epoch 68 [Train]: 100%|██████████| 58/58 [01:35<00:00,  1.65s/it]\n",
      "Epoch 68 [Val]: 100%|██████████| 7/7 [00:02<00:00,  3.22it/s]\n"
     ]
    },
    {
     "name": "stdout",
     "output_type": "stream",
     "text": [
      "Epoch 68 - Train Loss: 2.3510 | Val Loss: 7.5120\n"
     ]
    },
    {
     "name": "stderr",
     "output_type": "stream",
     "text": [
      "Epoch 69 [Train]: 100%|██████████| 58/58 [01:35<00:00,  1.64s/it]\n",
      "Epoch 69 [Val]: 100%|██████████| 7/7 [00:02<00:00,  3.19it/s]\n"
     ]
    },
    {
     "name": "stdout",
     "output_type": "stream",
     "text": [
      "Epoch 69 - Train Loss: 2.2615 | Val Loss: 7.6015\n"
     ]
    },
    {
     "name": "stderr",
     "output_type": "stream",
     "text": [
      "Epoch 70 [Train]: 100%|██████████| 58/58 [01:35<00:00,  1.65s/it]\n",
      "Epoch 70 [Val]: 100%|██████████| 7/7 [00:02<00:00,  3.25it/s]\n"
     ]
    },
    {
     "name": "stdout",
     "output_type": "stream",
     "text": [
      "Epoch 70 - Train Loss: 2.1407 | Val Loss: 7.5881\n"
     ]
    },
    {
     "name": "stderr",
     "output_type": "stream",
     "text": [
      "Epoch 71 [Train]: 100%|██████████| 58/58 [01:35<00:00,  1.65s/it]\n",
      "Epoch 71 [Val]: 100%|██████████| 7/7 [00:02<00:00,  3.09it/s]\n"
     ]
    },
    {
     "name": "stdout",
     "output_type": "stream",
     "text": [
      "Epoch 71 - Train Loss: 2.0890 | Val Loss: 7.6136\n"
     ]
    },
    {
     "name": "stderr",
     "output_type": "stream",
     "text": [
      "Epoch 72 [Train]: 100%|██████████| 58/58 [01:35<00:00,  1.64s/it]\n",
      "Epoch 72 [Val]: 100%|██████████| 7/7 [00:02<00:00,  3.27it/s]\n"
     ]
    },
    {
     "name": "stdout",
     "output_type": "stream",
     "text": [
      "Epoch 72 - Train Loss: 2.0337 | Val Loss: 7.5979\n"
     ]
    },
    {
     "name": "stderr",
     "output_type": "stream",
     "text": [
      "Epoch 73 [Train]: 100%|██████████| 58/58 [01:35<00:00,  1.64s/it]\n",
      "Epoch 73 [Val]: 100%|██████████| 7/7 [00:02<00:00,  3.22it/s]\n"
     ]
    },
    {
     "name": "stdout",
     "output_type": "stream",
     "text": [
      "Epoch 73 - Train Loss: 1.9910 | Val Loss: 7.6836\n"
     ]
    },
    {
     "name": "stderr",
     "output_type": "stream",
     "text": [
      "Epoch 74 [Train]: 100%|██████████| 58/58 [01:36<00:00,  1.66s/it]\n",
      "Epoch 74 [Val]: 100%|██████████| 7/7 [00:02<00:00,  3.15it/s]\n"
     ]
    },
    {
     "name": "stdout",
     "output_type": "stream",
     "text": [
      "Epoch 74 - Train Loss: 1.9681 | Val Loss: 7.6895\n"
     ]
    },
    {
     "name": "stderr",
     "output_type": "stream",
     "text": [
      "Epoch 75 [Train]: 100%|██████████| 58/58 [01:35<00:00,  1.65s/it]\n",
      "Epoch 75 [Val]: 100%|██████████| 7/7 [00:02<00:00,  3.26it/s]\n"
     ]
    },
    {
     "name": "stdout",
     "output_type": "stream",
     "text": [
      "Epoch 75 - Train Loss: 1.8973 | Val Loss: 7.8134\n"
     ]
    },
    {
     "name": "stderr",
     "output_type": "stream",
     "text": [
      "Epoch 76 [Train]: 100%|██████████| 58/58 [01:35<00:00,  1.64s/it]\n",
      "Epoch 76 [Val]: 100%|██████████| 7/7 [00:02<00:00,  3.12it/s]\n"
     ]
    },
    {
     "name": "stdout",
     "output_type": "stream",
     "text": [
      "Epoch 76 - Train Loss: 1.8479 | Val Loss: 7.7448\n"
     ]
    },
    {
     "name": "stderr",
     "output_type": "stream",
     "text": [
      "Epoch 77 [Train]: 100%|██████████| 58/58 [01:35<00:00,  1.64s/it]\n",
      "Epoch 77 [Val]: 100%|██████████| 7/7 [00:02<00:00,  3.01it/s]\n"
     ]
    },
    {
     "name": "stdout",
     "output_type": "stream",
     "text": [
      "Epoch 77 - Train Loss: 1.8317 | Val Loss: 7.7366\n"
     ]
    },
    {
     "name": "stderr",
     "output_type": "stream",
     "text": [
      "Epoch 78 [Train]: 100%|██████████| 58/58 [01:35<00:00,  1.65s/it]\n",
      "Epoch 78 [Val]: 100%|██████████| 7/7 [00:02<00:00,  3.22it/s]\n"
     ]
    },
    {
     "name": "stdout",
     "output_type": "stream",
     "text": [
      "Epoch 78 - Train Loss: 1.7372 | Val Loss: 7.8132\n"
     ]
    },
    {
     "name": "stderr",
     "output_type": "stream",
     "text": [
      "Epoch 79 [Train]: 100%|██████████| 58/58 [01:35<00:00,  1.65s/it]\n",
      "Epoch 79 [Val]: 100%|██████████| 7/7 [00:02<00:00,  3.25it/s]\n"
     ]
    },
    {
     "name": "stdout",
     "output_type": "stream",
     "text": [
      "Epoch 79 - Train Loss: 1.6626 | Val Loss: 7.8562\n"
     ]
    },
    {
     "name": "stderr",
     "output_type": "stream",
     "text": [
      "Epoch 80 [Train]: 100%|██████████| 58/58 [01:34<00:00,  1.63s/it]\n",
      "Epoch 80 [Val]: 100%|██████████| 7/7 [00:02<00:00,  3.25it/s]\n"
     ]
    },
    {
     "name": "stdout",
     "output_type": "stream",
     "text": [
      "Epoch 80 - Train Loss: 1.6462 | Val Loss: 7.7913\n"
     ]
    },
    {
     "name": "stderr",
     "output_type": "stream",
     "text": [
      "Epoch 81 [Train]: 100%|██████████| 58/58 [01:36<00:00,  1.66s/it]\n",
      "Epoch 81 [Val]: 100%|██████████| 7/7 [00:02<00:00,  3.20it/s]\n"
     ]
    },
    {
     "name": "stdout",
     "output_type": "stream",
     "text": [
      "Epoch 81 - Train Loss: 1.5988 | Val Loss: 7.8228\n"
     ]
    },
    {
     "name": "stderr",
     "output_type": "stream",
     "text": [
      "Epoch 82 [Train]: 100%|██████████| 58/58 [01:35<00:00,  1.64s/it]\n",
      "Epoch 82 [Val]: 100%|██████████| 7/7 [00:02<00:00,  3.10it/s]\n"
     ]
    },
    {
     "name": "stdout",
     "output_type": "stream",
     "text": [
      "Epoch 82 - Train Loss: 1.5570 | Val Loss: 7.8788\n"
     ]
    },
    {
     "name": "stderr",
     "output_type": "stream",
     "text": [
      "Epoch 83 [Train]: 100%|██████████| 58/58 [01:35<00:00,  1.64s/it]\n",
      "Epoch 83 [Val]: 100%|██████████| 7/7 [00:02<00:00,  3.22it/s]\n"
     ]
    },
    {
     "name": "stdout",
     "output_type": "stream",
     "text": [
      "Epoch 83 - Train Loss: 1.5238 | Val Loss: 7.8754\n"
     ]
    },
    {
     "name": "stderr",
     "output_type": "stream",
     "text": [
      "Epoch 84 [Train]: 100%|██████████| 58/58 [01:35<00:00,  1.64s/it]\n",
      "Epoch 84 [Val]: 100%|██████████| 7/7 [00:02<00:00,  3.19it/s]\n"
     ]
    },
    {
     "name": "stdout",
     "output_type": "stream",
     "text": [
      "Epoch 84 - Train Loss: 1.4907 | Val Loss: 7.8850\n"
     ]
    },
    {
     "name": "stderr",
     "output_type": "stream",
     "text": [
      "Epoch 85 [Train]: 100%|██████████| 58/58 [01:35<00:00,  1.65s/it]\n",
      "Epoch 85 [Val]: 100%|██████████| 7/7 [00:02<00:00,  3.21it/s]\n"
     ]
    },
    {
     "name": "stdout",
     "output_type": "stream",
     "text": [
      "Epoch 85 - Train Loss: 1.4193 | Val Loss: 7.9192\n"
     ]
    },
    {
     "name": "stderr",
     "output_type": "stream",
     "text": [
      "Epoch 86 [Train]: 100%|██████████| 58/58 [01:35<00:00,  1.65s/it]\n",
      "Epoch 86 [Val]: 100%|██████████| 7/7 [00:02<00:00,  3.24it/s]\n"
     ]
    },
    {
     "name": "stdout",
     "output_type": "stream",
     "text": [
      "Epoch 86 - Train Loss: 1.4623 | Val Loss: 7.9304\n"
     ]
    },
    {
     "name": "stderr",
     "output_type": "stream",
     "text": [
      "Epoch 87 [Train]: 100%|██████████| 58/58 [01:35<00:00,  1.64s/it]\n",
      "Epoch 87 [Val]: 100%|██████████| 7/7 [00:02<00:00,  3.14it/s]\n"
     ]
    },
    {
     "name": "stdout",
     "output_type": "stream",
     "text": [
      "Epoch 87 - Train Loss: 1.4541 | Val Loss: 7.9355\n"
     ]
    },
    {
     "name": "stderr",
     "output_type": "stream",
     "text": [
      "Epoch 88 [Train]: 100%|██████████| 58/58 [01:35<00:00,  1.64s/it]\n",
      "Epoch 88 [Val]: 100%|██████████| 7/7 [00:02<00:00,  3.19it/s]\n"
     ]
    },
    {
     "name": "stdout",
     "output_type": "stream",
     "text": [
      "Epoch 88 - Train Loss: 1.3746 | Val Loss: 7.9435\n"
     ]
    },
    {
     "name": "stderr",
     "output_type": "stream",
     "text": [
      "Epoch 89 [Train]: 100%|██████████| 58/58 [01:36<00:00,  1.66s/it]\n",
      "Epoch 89 [Val]: 100%|██████████| 7/7 [00:02<00:00,  3.06it/s]\n"
     ]
    },
    {
     "name": "stdout",
     "output_type": "stream",
     "text": [
      "Epoch 89 - Train Loss: 1.3784 | Val Loss: 7.9532\n"
     ]
    },
    {
     "name": "stderr",
     "output_type": "stream",
     "text": [
      "Epoch 90 [Train]: 100%|██████████| 58/58 [01:37<00:00,  1.68s/it]\n",
      "Epoch 90 [Val]: 100%|██████████| 7/7 [00:02<00:00,  3.11it/s]\n"
     ]
    },
    {
     "name": "stdout",
     "output_type": "stream",
     "text": [
      "Epoch 90 - Train Loss: 1.2641 | Val Loss: 8.0577\n"
     ]
    },
    {
     "name": "stderr",
     "output_type": "stream",
     "text": [
      "Epoch 91 [Train]: 100%|██████████| 58/58 [01:37<00:00,  1.67s/it]\n",
      "Epoch 91 [Val]: 100%|██████████| 7/7 [00:02<00:00,  3.08it/s]\n"
     ]
    },
    {
     "name": "stdout",
     "output_type": "stream",
     "text": [
      "Epoch 91 - Train Loss: 1.1806 | Val Loss: 7.9990\n"
     ]
    },
    {
     "name": "stderr",
     "output_type": "stream",
     "text": [
      "Epoch 92 [Train]: 100%|██████████| 58/58 [01:37<00:00,  1.68s/it]\n",
      "Epoch 92 [Val]: 100%|██████████| 7/7 [00:02<00:00,  3.10it/s]\n"
     ]
    },
    {
     "name": "stdout",
     "output_type": "stream",
     "text": [
      "Epoch 92 - Train Loss: 1.1127 | Val Loss: 7.9799\n"
     ]
    },
    {
     "name": "stderr",
     "output_type": "stream",
     "text": [
      "Epoch 93 [Train]: 100%|██████████| 58/58 [01:37<00:00,  1.67s/it]\n",
      "Epoch 93 [Val]: 100%|██████████| 7/7 [00:02<00:00,  2.97it/s]\n"
     ]
    },
    {
     "name": "stdout",
     "output_type": "stream",
     "text": [
      "Epoch 93 - Train Loss: 1.0819 | Val Loss: 8.0886\n"
     ]
    },
    {
     "name": "stderr",
     "output_type": "stream",
     "text": [
      "Epoch 94 [Train]: 100%|██████████| 58/58 [01:36<00:00,  1.67s/it]\n",
      "Epoch 94 [Val]: 100%|██████████| 7/7 [00:02<00:00,  3.12it/s]\n"
     ]
    },
    {
     "name": "stdout",
     "output_type": "stream",
     "text": [
      "Epoch 94 - Train Loss: 1.0580 | Val Loss: 8.0410\n"
     ]
    },
    {
     "name": "stderr",
     "output_type": "stream",
     "text": [
      "Epoch 95 [Train]: 100%|██████████| 58/58 [01:36<00:00,  1.67s/it]\n",
      "Epoch 95 [Val]: 100%|██████████| 7/7 [00:02<00:00,  3.05it/s]\n"
     ]
    },
    {
     "name": "stdout",
     "output_type": "stream",
     "text": [
      "Epoch 95 - Train Loss: 0.9852 | Val Loss: 8.0871\n"
     ]
    },
    {
     "name": "stderr",
     "output_type": "stream",
     "text": [
      "Epoch 96 [Train]: 100%|██████████| 58/58 [01:37<00:00,  1.68s/it]\n",
      "Epoch 96 [Val]: 100%|██████████| 7/7 [00:02<00:00,  3.06it/s]\n"
     ]
    },
    {
     "name": "stdout",
     "output_type": "stream",
     "text": [
      "Epoch 96 - Train Loss: 0.9091 | Val Loss: 8.1103\n"
     ]
    },
    {
     "name": "stderr",
     "output_type": "stream",
     "text": [
      "Epoch 97 [Train]: 100%|██████████| 58/58 [01:37<00:00,  1.68s/it]\n",
      "Epoch 97 [Val]: 100%|██████████| 7/7 [00:02<00:00,  3.16it/s]\n"
     ]
    },
    {
     "name": "stdout",
     "output_type": "stream",
     "text": [
      "Epoch 97 - Train Loss: 0.8101 | Val Loss: 8.1593\n"
     ]
    },
    {
     "name": "stderr",
     "output_type": "stream",
     "text": [
      "Epoch 98 [Train]: 100%|██████████| 58/58 [01:37<00:00,  1.68s/it]\n",
      "Epoch 98 [Val]: 100%|██████████| 7/7 [00:02<00:00,  3.05it/s]\n"
     ]
    },
    {
     "name": "stdout",
     "output_type": "stream",
     "text": [
      "Epoch 98 - Train Loss: 0.8031 | Val Loss: 8.2366\n"
     ]
    },
    {
     "name": "stderr",
     "output_type": "stream",
     "text": [
      "Epoch 99 [Train]: 100%|██████████| 58/58 [01:37<00:00,  1.67s/it]\n",
      "Epoch 99 [Val]: 100%|██████████| 7/7 [00:02<00:00,  2.98it/s]\n"
     ]
    },
    {
     "name": "stdout",
     "output_type": "stream",
     "text": [
      "Epoch 99 - Train Loss: 0.7754 | Val Loss: 8.1563\n"
     ]
    },
    {
     "name": "stderr",
     "output_type": "stream",
     "text": [
      "Epoch 100 [Train]: 100%|██████████| 58/58 [01:37<00:00,  1.68s/it]\n",
      "Epoch 100 [Val]: 100%|██████████| 7/7 [00:02<00:00,  3.05it/s]\n"
     ]
    },
    {
     "name": "stdout",
     "output_type": "stream",
     "text": [
      "Epoch 100 - Train Loss: 0.7509 | Val Loss: 8.2305\n"
     ]
    },
    {
     "name": "stderr",
     "output_type": "stream",
     "text": [
      "Epoch 101 [Train]: 100%|██████████| 58/58 [01:37<00:00,  1.68s/it]\n",
      "Epoch 101 [Val]: 100%|██████████| 7/7 [00:02<00:00,  3.08it/s]\n"
     ]
    },
    {
     "name": "stdout",
     "output_type": "stream",
     "text": [
      "Epoch 101 - Train Loss: 0.7074 | Val Loss: 8.2041\n"
     ]
    },
    {
     "name": "stderr",
     "output_type": "stream",
     "text": [
      "Epoch 102 [Train]: 100%|██████████| 58/58 [01:36<00:00,  1.67s/it]\n",
      "Epoch 102 [Val]: 100%|██████████| 7/7 [00:02<00:00,  3.07it/s]\n"
     ]
    },
    {
     "name": "stdout",
     "output_type": "stream",
     "text": [
      "Epoch 102 - Train Loss: 0.6715 | Val Loss: 8.2640\n"
     ]
    },
    {
     "name": "stderr",
     "output_type": "stream",
     "text": [
      "Epoch 103 [Train]: 100%|██████████| 58/58 [01:37<00:00,  1.68s/it]\n",
      "Epoch 103 [Val]: 100%|██████████| 7/7 [00:02<00:00,  3.03it/s]\n"
     ]
    },
    {
     "name": "stdout",
     "output_type": "stream",
     "text": [
      "Epoch 103 - Train Loss: 0.6402 | Val Loss: 8.2760\n"
     ]
    },
    {
     "name": "stderr",
     "output_type": "stream",
     "text": [
      "Epoch 104 [Train]: 100%|██████████| 58/58 [01:37<00:00,  1.69s/it]\n",
      "Epoch 104 [Val]: 100%|██████████| 7/7 [00:02<00:00,  3.01it/s]\n"
     ]
    },
    {
     "name": "stdout",
     "output_type": "stream",
     "text": [
      "Epoch 104 - Train Loss: 0.6643 | Val Loss: 8.3357\n"
     ]
    },
    {
     "name": "stderr",
     "output_type": "stream",
     "text": [
      "Epoch 105 [Train]: 100%|██████████| 58/58 [01:35<00:00,  1.64s/it]\n",
      "Epoch 105 [Val]: 100%|██████████| 7/7 [00:02<00:00,  3.15it/s]\n"
     ]
    },
    {
     "name": "stdout",
     "output_type": "stream",
     "text": [
      "Epoch 105 - Train Loss: 0.6657 | Val Loss: 8.2955\n"
     ]
    },
    {
     "name": "stderr",
     "output_type": "stream",
     "text": [
      "Epoch 106 [Train]: 100%|██████████| 58/58 [01:35<00:00,  1.65s/it]\n",
      "Epoch 106 [Val]: 100%|██████████| 7/7 [00:02<00:00,  3.12it/s]\n"
     ]
    },
    {
     "name": "stdout",
     "output_type": "stream",
     "text": [
      "Epoch 106 - Train Loss: 0.6090 | Val Loss: 8.3083\n"
     ]
    },
    {
     "name": "stderr",
     "output_type": "stream",
     "text": [
      "Epoch 107 [Train]: 100%|██████████| 58/58 [01:35<00:00,  1.65s/it]\n",
      "Epoch 107 [Val]: 100%|██████████| 7/7 [00:02<00:00,  3.21it/s]\n"
     ]
    },
    {
     "name": "stdout",
     "output_type": "stream",
     "text": [
      "Epoch 107 - Train Loss: 0.6079 | Val Loss: 8.3561\n"
     ]
    },
    {
     "name": "stderr",
     "output_type": "stream",
     "text": [
      "Epoch 108 [Train]: 100%|██████████| 58/58 [01:35<00:00,  1.65s/it]\n",
      "Epoch 108 [Val]: 100%|██████████| 7/7 [00:02<00:00,  3.21it/s]\n"
     ]
    },
    {
     "name": "stdout",
     "output_type": "stream",
     "text": [
      "Epoch 108 - Train Loss: 0.5530 | Val Loss: 8.3071\n"
     ]
    },
    {
     "name": "stderr",
     "output_type": "stream",
     "text": [
      "Epoch 109 [Train]: 100%|██████████| 58/58 [01:35<00:00,  1.65s/it]\n",
      "Epoch 109 [Val]: 100%|██████████| 7/7 [00:02<00:00,  3.15it/s]\n"
     ]
    },
    {
     "name": "stdout",
     "output_type": "stream",
     "text": [
      "Epoch 109 - Train Loss: 0.4989 | Val Loss: 8.3578\n"
     ]
    },
    {
     "name": "stderr",
     "output_type": "stream",
     "text": [
      "Epoch 110 [Train]: 100%|██████████| 58/58 [01:35<00:00,  1.64s/it]\n",
      "Epoch 110 [Val]: 100%|██████████| 7/7 [00:02<00:00,  3.12it/s]\n"
     ]
    },
    {
     "name": "stdout",
     "output_type": "stream",
     "text": [
      "Epoch 110 - Train Loss: 0.4681 | Val Loss: 8.4353\n"
     ]
    },
    {
     "name": "stderr",
     "output_type": "stream",
     "text": [
      "Epoch 111 [Train]: 100%|██████████| 58/58 [01:35<00:00,  1.65s/it]\n",
      "Epoch 111 [Val]: 100%|██████████| 7/7 [00:02<00:00,  3.20it/s]\n"
     ]
    },
    {
     "name": "stdout",
     "output_type": "stream",
     "text": [
      "Epoch 111 - Train Loss: 0.4370 | Val Loss: 8.4215\n"
     ]
    },
    {
     "name": "stderr",
     "output_type": "stream",
     "text": [
      "Epoch 112 [Train]: 100%|██████████| 58/58 [01:35<00:00,  1.65s/it]\n",
      "Epoch 112 [Val]: 100%|██████████| 7/7 [00:02<00:00,  3.05it/s]\n"
     ]
    },
    {
     "name": "stdout",
     "output_type": "stream",
     "text": [
      "Epoch 112 - Train Loss: 0.3869 | Val Loss: 8.4940\n"
     ]
    },
    {
     "name": "stderr",
     "output_type": "stream",
     "text": [
      "Epoch 113 [Train]: 100%|██████████| 58/58 [01:35<00:00,  1.65s/it]\n",
      "Epoch 113 [Val]: 100%|██████████| 7/7 [00:02<00:00,  3.18it/s]\n"
     ]
    },
    {
     "name": "stdout",
     "output_type": "stream",
     "text": [
      "Epoch 113 - Train Loss: 0.3625 | Val Loss: 8.4751\n"
     ]
    },
    {
     "name": "stderr",
     "output_type": "stream",
     "text": [
      "Epoch 114 [Train]: 100%|██████████| 58/58 [01:36<00:00,  1.67s/it]\n",
      "Epoch 114 [Val]: 100%|██████████| 7/7 [00:02<00:00,  3.22it/s]\n"
     ]
    },
    {
     "name": "stdout",
     "output_type": "stream",
     "text": [
      "Epoch 114 - Train Loss: 0.3241 | Val Loss: 8.4733\n"
     ]
    },
    {
     "name": "stderr",
     "output_type": "stream",
     "text": [
      "Epoch 115 [Train]: 100%|██████████| 58/58 [01:36<00:00,  1.66s/it]\n",
      "Epoch 115 [Val]: 100%|██████████| 7/7 [00:02<00:00,  3.25it/s]\n"
     ]
    },
    {
     "name": "stdout",
     "output_type": "stream",
     "text": [
      "Epoch 115 - Train Loss: 0.4932 | Val Loss: 8.5739\n"
     ]
    },
    {
     "name": "stderr",
     "output_type": "stream",
     "text": [
      "Epoch 116 [Train]: 100%|██████████| 58/58 [01:34<00:00,  1.64s/it]\n",
      "Epoch 116 [Val]: 100%|██████████| 7/7 [00:02<00:00,  3.17it/s]\n"
     ]
    },
    {
     "name": "stdout",
     "output_type": "stream",
     "text": [
      "Epoch 116 - Train Loss: 1.5779 | Val Loss: 8.3013\n"
     ]
    },
    {
     "name": "stderr",
     "output_type": "stream",
     "text": [
      "Epoch 117 [Train]: 100%|██████████| 58/58 [01:35<00:00,  1.64s/it]\n",
      "Epoch 117 [Val]: 100%|██████████| 7/7 [00:02<00:00,  3.17it/s]\n"
     ]
    },
    {
     "name": "stdout",
     "output_type": "stream",
     "text": [
      "Epoch 117 - Train Loss: 1.9168 | Val Loss: 8.3511\n"
     ]
    },
    {
     "name": "stderr",
     "output_type": "stream",
     "text": [
      "Epoch 118 [Train]: 100%|██████████| 58/58 [01:35<00:00,  1.65s/it]\n",
      "Epoch 118 [Val]: 100%|██████████| 7/7 [00:02<00:00,  3.23it/s]\n"
     ]
    },
    {
     "name": "stdout",
     "output_type": "stream",
     "text": [
      "Epoch 118 - Train Loss: 1.6358 | Val Loss: 8.1998\n"
     ]
    },
    {
     "name": "stderr",
     "output_type": "stream",
     "text": [
      "Epoch 119 [Train]: 100%|██████████| 58/58 [01:36<00:00,  1.66s/it]\n",
      "Epoch 119 [Val]: 100%|██████████| 7/7 [00:02<00:00,  2.93it/s]\n"
     ]
    },
    {
     "name": "stdout",
     "output_type": "stream",
     "text": [
      "Epoch 119 - Train Loss: 0.9730 | Val Loss: 8.2965\n"
     ]
    },
    {
     "name": "stderr",
     "output_type": "stream",
     "text": [
      "Epoch 120 [Train]: 100%|██████████| 58/58 [01:36<00:00,  1.67s/it]\n",
      "Epoch 120 [Val]: 100%|██████████| 7/7 [00:02<00:00,  3.06it/s]\n"
     ]
    },
    {
     "name": "stdout",
     "output_type": "stream",
     "text": [
      "Epoch 120 - Train Loss: 0.6367 | Val Loss: 8.2882\n"
     ]
    },
    {
     "name": "stderr",
     "output_type": "stream",
     "text": [
      "Epoch 121 [Train]: 100%|██████████| 58/58 [01:37<00:00,  1.68s/it]\n",
      "Epoch 121 [Val]: 100%|██████████| 7/7 [00:02<00:00,  2.98it/s]\n"
     ]
    },
    {
     "name": "stdout",
     "output_type": "stream",
     "text": [
      "Epoch 121 - Train Loss: 0.4323 | Val Loss: 8.3317\n"
     ]
    },
    {
     "name": "stderr",
     "output_type": "stream",
     "text": [
      "Epoch 122 [Train]: 100%|██████████| 58/58 [01:35<00:00,  1.65s/it]\n",
      "Epoch 122 [Val]: 100%|██████████| 7/7 [00:02<00:00,  3.15it/s]\n"
     ]
    },
    {
     "name": "stdout",
     "output_type": "stream",
     "text": [
      "Epoch 122 - Train Loss: 0.3201 | Val Loss: 8.4661\n"
     ]
    },
    {
     "name": "stderr",
     "output_type": "stream",
     "text": [
      "Epoch 123 [Train]: 100%|██████████| 58/58 [01:35<00:00,  1.65s/it]\n",
      "Epoch 123 [Val]: 100%|██████████| 7/7 [00:02<00:00,  3.16it/s]\n"
     ]
    },
    {
     "name": "stdout",
     "output_type": "stream",
     "text": [
      "Epoch 123 - Train Loss: 0.2672 | Val Loss: 8.4173\n"
     ]
    },
    {
     "name": "stderr",
     "output_type": "stream",
     "text": [
      "Epoch 124 [Train]: 100%|██████████| 58/58 [01:36<00:00,  1.66s/it]\n",
      "Epoch 124 [Val]: 100%|██████████| 7/7 [00:02<00:00,  3.09it/s]\n"
     ]
    },
    {
     "name": "stdout",
     "output_type": "stream",
     "text": [
      "Epoch 124 - Train Loss: 0.2230 | Val Loss: 8.5435\n"
     ]
    },
    {
     "name": "stderr",
     "output_type": "stream",
     "text": [
      "Epoch 125 [Train]: 100%|██████████| 58/58 [01:36<00:00,  1.67s/it]\n",
      "Epoch 125 [Val]: 100%|██████████| 7/7 [00:02<00:00,  3.20it/s]\n"
     ]
    },
    {
     "name": "stdout",
     "output_type": "stream",
     "text": [
      "Epoch 125 - Train Loss: 0.2070 | Val Loss: 8.5194\n"
     ]
    },
    {
     "name": "stderr",
     "output_type": "stream",
     "text": [
      "Epoch 126 [Train]: 100%|██████████| 58/58 [01:35<00:00,  1.65s/it]\n",
      "Epoch 126 [Val]: 100%|██████████| 7/7 [00:02<00:00,  3.06it/s]\n"
     ]
    },
    {
     "name": "stdout",
     "output_type": "stream",
     "text": [
      "Epoch 126 - Train Loss: 0.1809 | Val Loss: 8.5341\n"
     ]
    },
    {
     "name": "stderr",
     "output_type": "stream",
     "text": [
      "Epoch 127 [Train]: 100%|██████████| 58/58 [01:36<00:00,  1.67s/it]\n",
      "Epoch 127 [Val]: 100%|██████████| 7/7 [00:02<00:00,  3.01it/s]\n"
     ]
    },
    {
     "name": "stdout",
     "output_type": "stream",
     "text": [
      "Epoch 127 - Train Loss: 0.1734 | Val Loss: 8.5750\n"
     ]
    },
    {
     "name": "stderr",
     "output_type": "stream",
     "text": [
      "Epoch 128 [Train]: 100%|██████████| 58/58 [01:36<00:00,  1.67s/it]\n",
      "Epoch 128 [Val]: 100%|██████████| 7/7 [00:02<00:00,  3.11it/s]\n"
     ]
    },
    {
     "name": "stdout",
     "output_type": "stream",
     "text": [
      "Epoch 128 - Train Loss: 0.1659 | Val Loss: 8.6188\n"
     ]
    },
    {
     "name": "stderr",
     "output_type": "stream",
     "text": [
      "Epoch 129 [Train]: 100%|██████████| 58/58 [01:37<00:00,  1.68s/it]\n",
      "Epoch 129 [Val]: 100%|██████████| 7/7 [00:02<00:00,  3.08it/s]\n"
     ]
    },
    {
     "name": "stdout",
     "output_type": "stream",
     "text": [
      "Epoch 129 - Train Loss: 0.1582 | Val Loss: 8.5912\n"
     ]
    },
    {
     "name": "stderr",
     "output_type": "stream",
     "text": [
      "Epoch 130 [Train]: 100%|██████████| 58/58 [01:36<00:00,  1.67s/it]\n",
      "Epoch 130 [Val]: 100%|██████████| 7/7 [00:02<00:00,  3.07it/s]\n"
     ]
    },
    {
     "name": "stdout",
     "output_type": "stream",
     "text": [
      "Epoch 130 - Train Loss: 0.1453 | Val Loss: 8.5674\n"
     ]
    },
    {
     "name": "stderr",
     "output_type": "stream",
     "text": [
      "Epoch 131 [Train]: 100%|██████████| 58/58 [01:36<00:00,  1.66s/it]\n",
      "Epoch 131 [Val]: 100%|██████████| 7/7 [00:02<00:00,  2.99it/s]\n"
     ]
    },
    {
     "name": "stdout",
     "output_type": "stream",
     "text": [
      "Epoch 131 - Train Loss: 0.1424 | Val Loss: 8.6048\n"
     ]
    },
    {
     "name": "stderr",
     "output_type": "stream",
     "text": [
      "Epoch 132 [Train]: 100%|██████████| 58/58 [01:36<00:00,  1.67s/it]\n",
      "Epoch 132 [Val]: 100%|██████████| 7/7 [00:02<00:00,  3.07it/s]\n"
     ]
    },
    {
     "name": "stdout",
     "output_type": "stream",
     "text": [
      "Epoch 132 - Train Loss: 0.1376 | Val Loss: 8.6233\n"
     ]
    },
    {
     "name": "stderr",
     "output_type": "stream",
     "text": [
      "Epoch 133 [Train]: 100%|██████████| 58/58 [01:36<00:00,  1.67s/it]\n",
      "Epoch 133 [Val]: 100%|██████████| 7/7 [00:02<00:00,  3.13it/s]\n"
     ]
    },
    {
     "name": "stdout",
     "output_type": "stream",
     "text": [
      "Epoch 133 - Train Loss: 0.1191 | Val Loss: 8.6897\n"
     ]
    },
    {
     "name": "stderr",
     "output_type": "stream",
     "text": [
      "Epoch 134 [Train]: 100%|██████████| 58/58 [01:36<00:00,  1.66s/it]\n",
      "Epoch 134 [Val]: 100%|██████████| 7/7 [00:02<00:00,  2.94it/s]\n"
     ]
    },
    {
     "name": "stdout",
     "output_type": "stream",
     "text": [
      "Epoch 134 - Train Loss: 0.1066 | Val Loss: 8.6710\n"
     ]
    },
    {
     "name": "stderr",
     "output_type": "stream",
     "text": [
      "Epoch 135 [Train]: 100%|██████████| 58/58 [01:36<00:00,  1.67s/it]\n",
      "Epoch 135 [Val]: 100%|██████████| 7/7 [00:02<00:00,  3.08it/s]\n"
     ]
    },
    {
     "name": "stdout",
     "output_type": "stream",
     "text": [
      "Epoch 135 - Train Loss: 0.0988 | Val Loss: 8.6210\n"
     ]
    },
    {
     "name": "stderr",
     "output_type": "stream",
     "text": [
      "Epoch 136 [Train]: 100%|██████████| 58/58 [01:36<00:00,  1.67s/it]\n",
      "Epoch 136 [Val]: 100%|██████████| 7/7 [00:02<00:00,  3.09it/s]\n"
     ]
    },
    {
     "name": "stdout",
     "output_type": "stream",
     "text": [
      "Epoch 136 - Train Loss: 0.0978 | Val Loss: 8.6396\n"
     ]
    },
    {
     "name": "stderr",
     "output_type": "stream",
     "text": [
      "Epoch 137 [Train]: 100%|██████████| 58/58 [01:36<00:00,  1.66s/it]\n",
      "Epoch 137 [Val]: 100%|██████████| 7/7 [00:02<00:00,  3.15it/s]\n"
     ]
    },
    {
     "name": "stdout",
     "output_type": "stream",
     "text": [
      "Epoch 137 - Train Loss: 0.0932 | Val Loss: 8.6906\n"
     ]
    },
    {
     "name": "stderr",
     "output_type": "stream",
     "text": [
      "Epoch 138 [Train]: 100%|██████████| 58/58 [01:36<00:00,  1.66s/it]\n",
      "Epoch 138 [Val]: 100%|██████████| 7/7 [00:02<00:00,  3.01it/s]\n"
     ]
    },
    {
     "name": "stdout",
     "output_type": "stream",
     "text": [
      "Epoch 138 - Train Loss: 0.0936 | Val Loss: 8.7150\n"
     ]
    },
    {
     "name": "stderr",
     "output_type": "stream",
     "text": [
      "Epoch 139 [Train]: 100%|██████████| 58/58 [01:36<00:00,  1.66s/it]\n",
      "Epoch 139 [Val]: 100%|██████████| 7/7 [00:02<00:00,  3.06it/s]\n"
     ]
    },
    {
     "name": "stdout",
     "output_type": "stream",
     "text": [
      "Epoch 139 - Train Loss: 0.0899 | Val Loss: 8.6445\n"
     ]
    },
    {
     "name": "stderr",
     "output_type": "stream",
     "text": [
      "Epoch 140 [Train]: 100%|██████████| 58/58 [01:36<00:00,  1.66s/it]\n",
      "Epoch 140 [Val]: 100%|██████████| 7/7 [00:02<00:00,  3.09it/s]\n"
     ]
    },
    {
     "name": "stdout",
     "output_type": "stream",
     "text": [
      "Epoch 140 - Train Loss: 0.0850 | Val Loss: 8.7390\n"
     ]
    },
    {
     "name": "stderr",
     "output_type": "stream",
     "text": [
      "Epoch 141 [Train]: 100%|██████████| 58/58 [01:36<00:00,  1.66s/it]\n",
      "Epoch 141 [Val]: 100%|██████████| 7/7 [00:02<00:00,  3.09it/s]\n"
     ]
    },
    {
     "name": "stdout",
     "output_type": "stream",
     "text": [
      "Epoch 141 - Train Loss: 0.0900 | Val Loss: 8.7913\n"
     ]
    },
    {
     "name": "stderr",
     "output_type": "stream",
     "text": [
      "Epoch 142 [Train]: 100%|██████████| 58/58 [01:36<00:00,  1.66s/it]\n",
      "Epoch 142 [Val]: 100%|██████████| 7/7 [00:02<00:00,  3.04it/s]\n"
     ]
    },
    {
     "name": "stdout",
     "output_type": "stream",
     "text": [
      "Epoch 142 - Train Loss: 0.0938 | Val Loss: 8.7185\n"
     ]
    },
    {
     "name": "stderr",
     "output_type": "stream",
     "text": [
      "Epoch 143 [Train]: 100%|██████████| 58/58 [01:36<00:00,  1.67s/it]\n",
      "Epoch 143 [Val]: 100%|██████████| 7/7 [00:02<00:00,  3.05it/s]\n"
     ]
    },
    {
     "name": "stdout",
     "output_type": "stream",
     "text": [
      "Epoch 143 - Train Loss: 0.0963 | Val Loss: 8.7784\n"
     ]
    },
    {
     "name": "stderr",
     "output_type": "stream",
     "text": [
      "Epoch 144 [Train]: 100%|██████████| 58/58 [01:36<00:00,  1.66s/it]\n",
      "Epoch 144 [Val]: 100%|██████████| 7/7 [00:02<00:00,  3.08it/s]\n"
     ]
    },
    {
     "name": "stdout",
     "output_type": "stream",
     "text": [
      "Epoch 144 - Train Loss: 0.1099 | Val Loss: 8.7326\n"
     ]
    },
    {
     "name": "stderr",
     "output_type": "stream",
     "text": [
      "Epoch 145 [Train]: 100%|██████████| 58/58 [01:36<00:00,  1.66s/it]\n",
      "Epoch 145 [Val]: 100%|██████████| 7/7 [00:02<00:00,  3.13it/s]\n"
     ]
    },
    {
     "name": "stdout",
     "output_type": "stream",
     "text": [
      "Epoch 145 - Train Loss: 0.1233 | Val Loss: 8.7437\n"
     ]
    },
    {
     "name": "stderr",
     "output_type": "stream",
     "text": [
      "Epoch 146 [Train]: 100%|██████████| 58/58 [01:36<00:00,  1.66s/it]\n",
      "Epoch 146 [Val]: 100%|██████████| 7/7 [00:02<00:00,  3.01it/s]\n"
     ]
    },
    {
     "name": "stdout",
     "output_type": "stream",
     "text": [
      "Epoch 146 - Train Loss: 0.1453 | Val Loss: 8.7268\n"
     ]
    },
    {
     "name": "stderr",
     "output_type": "stream",
     "text": [
      "Epoch 147 [Train]: 100%|██████████| 58/58 [01:36<00:00,  1.66s/it]\n",
      "Epoch 147 [Val]: 100%|██████████| 7/7 [00:02<00:00,  3.10it/s]\n"
     ]
    },
    {
     "name": "stdout",
     "output_type": "stream",
     "text": [
      "Epoch 147 - Train Loss: 0.2124 | Val Loss: 8.7609\n"
     ]
    },
    {
     "name": "stderr",
     "output_type": "stream",
     "text": [
      "Epoch 148 [Train]: 100%|██████████| 58/58 [01:36<00:00,  1.66s/it]\n",
      "Epoch 148 [Val]: 100%|██████████| 7/7 [00:02<00:00,  3.15it/s]\n"
     ]
    },
    {
     "name": "stdout",
     "output_type": "stream",
     "text": [
      "Epoch 148 - Train Loss: 1.4471 | Val Loss: 8.6436\n"
     ]
    },
    {
     "name": "stderr",
     "output_type": "stream",
     "text": [
      "Epoch 149 [Train]: 100%|██████████| 58/58 [01:35<00:00,  1.65s/it]\n",
      "Epoch 149 [Val]: 100%|██████████| 7/7 [00:02<00:00,  3.19it/s]\n"
     ]
    },
    {
     "name": "stdout",
     "output_type": "stream",
     "text": [
      "Epoch 149 - Train Loss: 2.5116 | Val Loss: 8.3317\n"
     ]
    },
    {
     "name": "stderr",
     "output_type": "stream",
     "text": [
      "Epoch 150 [Train]: 100%|██████████| 58/58 [01:35<00:00,  1.65s/it]\n",
      "Epoch 150 [Val]: 100%|██████████| 7/7 [00:02<00:00,  3.19it/s]\n"
     ]
    },
    {
     "name": "stdout",
     "output_type": "stream",
     "text": [
      "Epoch 150 - Train Loss: 1.8881 | Val Loss: 8.2688\n"
     ]
    },
    {
     "name": "stderr",
     "output_type": "stream",
     "text": [
      "Epoch 151 [Train]: 100%|██████████| 58/58 [01:36<00:00,  1.66s/it]\n",
      "Epoch 151 [Val]: 100%|██████████| 7/7 [00:02<00:00,  3.11it/s]\n"
     ]
    },
    {
     "name": "stdout",
     "output_type": "stream",
     "text": [
      "Epoch 151 - Train Loss: 1.2880 | Val Loss: 8.2820\n"
     ]
    },
    {
     "name": "stderr",
     "output_type": "stream",
     "text": [
      "Epoch 152 [Train]: 100%|██████████| 58/58 [01:37<00:00,  1.68s/it]\n",
      "Epoch 152 [Val]: 100%|██████████| 7/7 [00:02<00:00,  3.17it/s]\n"
     ]
    },
    {
     "name": "stdout",
     "output_type": "stream",
     "text": [
      "Epoch 152 - Train Loss: 0.7843 | Val Loss: 8.3713\n"
     ]
    },
    {
     "name": "stderr",
     "output_type": "stream",
     "text": [
      "Epoch 153 [Train]: 100%|██████████| 58/58 [01:36<00:00,  1.67s/it]\n",
      "Epoch 153 [Val]: 100%|██████████| 7/7 [00:02<00:00,  3.13it/s]\n"
     ]
    },
    {
     "name": "stdout",
     "output_type": "stream",
     "text": [
      "Epoch 153 - Train Loss: 0.4894 | Val Loss: 8.4543\n"
     ]
    },
    {
     "name": "stderr",
     "output_type": "stream",
     "text": [
      "Epoch 154 [Train]: 100%|██████████| 58/58 [01:37<00:00,  1.69s/it]\n",
      "Epoch 154 [Val]: 100%|██████████| 7/7 [00:02<00:00,  3.15it/s]\n"
     ]
    },
    {
     "name": "stdout",
     "output_type": "stream",
     "text": [
      "Epoch 154 - Train Loss: 0.3486 | Val Loss: 8.5293\n"
     ]
    },
    {
     "name": "stderr",
     "output_type": "stream",
     "text": [
      "Epoch 155 [Train]: 100%|██████████| 58/58 [01:37<00:00,  1.67s/it]\n",
      "Epoch 155 [Val]: 100%|██████████| 7/7 [00:02<00:00,  3.11it/s]\n"
     ]
    },
    {
     "name": "stdout",
     "output_type": "stream",
     "text": [
      "Epoch 155 - Train Loss: 0.1945 | Val Loss: 8.5469\n"
     ]
    },
    {
     "name": "stderr",
     "output_type": "stream",
     "text": [
      "Epoch 156 [Train]: 100%|██████████| 58/58 [01:36<00:00,  1.67s/it]\n",
      "Epoch 156 [Val]: 100%|██████████| 7/7 [00:02<00:00,  3.05it/s]\n"
     ]
    },
    {
     "name": "stdout",
     "output_type": "stream",
     "text": [
      "Epoch 156 - Train Loss: 0.1562 | Val Loss: 8.5199\n"
     ]
    },
    {
     "name": "stderr",
     "output_type": "stream",
     "text": [
      "Epoch 157 [Train]: 100%|██████████| 58/58 [01:37<00:00,  1.69s/it]\n",
      "Epoch 157 [Val]: 100%|██████████| 7/7 [00:02<00:00,  3.07it/s]\n"
     ]
    },
    {
     "name": "stdout",
     "output_type": "stream",
     "text": [
      "Epoch 157 - Train Loss: 0.1043 | Val Loss: 8.5476\n"
     ]
    },
    {
     "name": "stderr",
     "output_type": "stream",
     "text": [
      "Epoch 158 [Train]: 100%|██████████| 58/58 [01:38<00:00,  1.69s/it]\n",
      "Epoch 158 [Val]: 100%|██████████| 7/7 [00:02<00:00,  3.00it/s]\n"
     ]
    },
    {
     "name": "stdout",
     "output_type": "stream",
     "text": [
      "Epoch 158 - Train Loss: 0.0953 | Val Loss: 8.5633\n"
     ]
    },
    {
     "name": "stderr",
     "output_type": "stream",
     "text": [
      "Epoch 159 [Train]: 100%|██████████| 58/58 [01:38<00:00,  1.69s/it]\n",
      "Epoch 159 [Val]: 100%|██████████| 7/7 [00:02<00:00,  3.13it/s]\n"
     ]
    },
    {
     "name": "stdout",
     "output_type": "stream",
     "text": [
      "Epoch 159 - Train Loss: 0.0771 | Val Loss: 8.6002\n"
     ]
    },
    {
     "name": "stderr",
     "output_type": "stream",
     "text": [
      "Epoch 160 [Train]: 100%|██████████| 58/58 [01:37<00:00,  1.68s/it]\n",
      "Epoch 160 [Val]: 100%|██████████| 7/7 [00:02<00:00,  3.02it/s]\n"
     ]
    },
    {
     "name": "stdout",
     "output_type": "stream",
     "text": [
      "Epoch 160 - Train Loss: 0.0687 | Val Loss: 8.6842\n"
     ]
    },
    {
     "name": "stderr",
     "output_type": "stream",
     "text": [
      "Epoch 161 [Train]: 100%|██████████| 58/58 [01:36<00:00,  1.67s/it]\n",
      "Epoch 161 [Val]: 100%|██████████| 7/7 [00:02<00:00,  3.02it/s]\n"
     ]
    },
    {
     "name": "stdout",
     "output_type": "stream",
     "text": [
      "Epoch 161 - Train Loss: 0.0673 | Val Loss: 8.6663\n"
     ]
    },
    {
     "name": "stderr",
     "output_type": "stream",
     "text": [
      "Epoch 162 [Train]: 100%|██████████| 58/58 [01:37<00:00,  1.68s/it]\n",
      "Epoch 162 [Val]: 100%|██████████| 7/7 [00:02<00:00,  3.00it/s]\n"
     ]
    },
    {
     "name": "stdout",
     "output_type": "stream",
     "text": [
      "Epoch 162 - Train Loss: 0.0657 | Val Loss: 8.7355\n"
     ]
    },
    {
     "name": "stderr",
     "output_type": "stream",
     "text": [
      "Epoch 163 [Train]: 100%|██████████| 58/58 [01:37<00:00,  1.67s/it]\n",
      "Epoch 163 [Val]: 100%|██████████| 7/7 [00:02<00:00,  3.20it/s]\n"
     ]
    },
    {
     "name": "stdout",
     "output_type": "stream",
     "text": [
      "Epoch 163 - Train Loss: 0.0596 | Val Loss: 8.6951\n"
     ]
    },
    {
     "name": "stderr",
     "output_type": "stream",
     "text": [
      "Epoch 164 [Train]: 100%|██████████| 58/58 [01:36<00:00,  1.66s/it]\n",
      "Epoch 164 [Val]: 100%|██████████| 7/7 [00:02<00:00,  3.14it/s]\n"
     ]
    },
    {
     "name": "stdout",
     "output_type": "stream",
     "text": [
      "Epoch 164 - Train Loss: 0.0576 | Val Loss: 8.6793\n"
     ]
    },
    {
     "name": "stderr",
     "output_type": "stream",
     "text": [
      "Epoch 165 [Train]: 100%|██████████| 58/58 [01:36<00:00,  1.66s/it]\n",
      "Epoch 165 [Val]: 100%|██████████| 7/7 [00:02<00:00,  3.18it/s]\n"
     ]
    },
    {
     "name": "stdout",
     "output_type": "stream",
     "text": [
      "Epoch 165 - Train Loss: 0.0563 | Val Loss: 8.6686\n"
     ]
    },
    {
     "name": "stderr",
     "output_type": "stream",
     "text": [
      "Epoch 166 [Train]: 100%|██████████| 58/58 [01:36<00:00,  1.66s/it]\n",
      "Epoch 166 [Val]: 100%|██████████| 7/7 [00:02<00:00,  3.01it/s]\n"
     ]
    },
    {
     "name": "stdout",
     "output_type": "stream",
     "text": [
      "Epoch 166 - Train Loss: 0.0554 | Val Loss: 8.6544\n"
     ]
    },
    {
     "name": "stderr",
     "output_type": "stream",
     "text": [
      "Epoch 167 [Train]: 100%|██████████| 58/58 [01:36<00:00,  1.66s/it]\n",
      "Epoch 167 [Val]: 100%|██████████| 7/7 [00:02<00:00,  3.10it/s]\n"
     ]
    },
    {
     "name": "stdout",
     "output_type": "stream",
     "text": [
      "Epoch 167 - Train Loss: 0.0556 | Val Loss: 8.6619\n"
     ]
    },
    {
     "name": "stderr",
     "output_type": "stream",
     "text": [
      "Epoch 168 [Train]: 100%|██████████| 58/58 [01:36<00:00,  1.66s/it]\n",
      "Epoch 168 [Val]: 100%|██████████| 7/7 [00:02<00:00,  3.09it/s]\n"
     ]
    },
    {
     "name": "stdout",
     "output_type": "stream",
     "text": [
      "Epoch 168 - Train Loss: 0.0557 | Val Loss: 8.6597\n"
     ]
    },
    {
     "name": "stderr",
     "output_type": "stream",
     "text": [
      "Epoch 169 [Train]: 100%|██████████| 58/58 [01:36<00:00,  1.66s/it]\n",
      "Epoch 169 [Val]: 100%|██████████| 7/7 [00:02<00:00,  3.09it/s]\n"
     ]
    },
    {
     "name": "stdout",
     "output_type": "stream",
     "text": [
      "Epoch 169 - Train Loss: 0.0554 | Val Loss: 8.6526\n"
     ]
    },
    {
     "name": "stderr",
     "output_type": "stream",
     "text": [
      "Epoch 170 [Train]: 100%|██████████| 58/58 [01:36<00:00,  1.66s/it]\n",
      "Epoch 170 [Val]: 100%|██████████| 7/7 [00:02<00:00,  3.07it/s]\n"
     ]
    },
    {
     "name": "stdout",
     "output_type": "stream",
     "text": [
      "Epoch 170 - Train Loss: 0.0542 | Val Loss: 8.7292\n"
     ]
    },
    {
     "name": "stderr",
     "output_type": "stream",
     "text": [
      "Epoch 171 [Train]: 100%|██████████| 58/58 [01:36<00:00,  1.67s/it]\n",
      "Epoch 171 [Val]: 100%|██████████| 7/7 [00:02<00:00,  2.96it/s]\n"
     ]
    },
    {
     "name": "stdout",
     "output_type": "stream",
     "text": [
      "Epoch 171 - Train Loss: 0.0538 | Val Loss: 8.7195\n"
     ]
    },
    {
     "name": "stderr",
     "output_type": "stream",
     "text": [
      "Epoch 172 [Train]: 100%|██████████| 58/58 [01:36<00:00,  1.66s/it]\n",
      "Epoch 172 [Val]: 100%|██████████| 7/7 [00:02<00:00,  3.04it/s]\n"
     ]
    },
    {
     "name": "stdout",
     "output_type": "stream",
     "text": [
      "Epoch 172 - Train Loss: 0.0552 | Val Loss: 8.6918\n"
     ]
    },
    {
     "name": "stderr",
     "output_type": "stream",
     "text": [
      "Epoch 173 [Train]: 100%|██████████| 58/58 [01:36<00:00,  1.66s/it]\n",
      "Epoch 173 [Val]: 100%|██████████| 7/7 [00:02<00:00,  3.06it/s]\n"
     ]
    },
    {
     "name": "stdout",
     "output_type": "stream",
     "text": [
      "Epoch 173 - Train Loss: 0.0579 | Val Loss: 8.7473\n"
     ]
    },
    {
     "name": "stderr",
     "output_type": "stream",
     "text": [
      "Epoch 174 [Train]: 100%|██████████| 58/58 [01:36<00:00,  1.67s/it]\n",
      "Epoch 174 [Val]: 100%|██████████| 7/7 [00:02<00:00,  3.14it/s]\n"
     ]
    },
    {
     "name": "stdout",
     "output_type": "stream",
     "text": [
      "Epoch 174 - Train Loss: 0.0601 | Val Loss: 8.6848\n"
     ]
    },
    {
     "name": "stderr",
     "output_type": "stream",
     "text": [
      "Epoch 175 [Train]: 100%|██████████| 58/58 [01:35<00:00,  1.66s/it]\n",
      "Epoch 175 [Val]: 100%|██████████| 7/7 [00:02<00:00,  3.12it/s]\n"
     ]
    },
    {
     "name": "stdout",
     "output_type": "stream",
     "text": [
      "Epoch 175 - Train Loss: 0.0700 | Val Loss: 8.7786\n"
     ]
    },
    {
     "name": "stderr",
     "output_type": "stream",
     "text": [
      "Epoch 176 [Train]: 100%|██████████| 58/58 [01:37<00:00,  1.68s/it]\n",
      "Epoch 176 [Val]: 100%|██████████| 7/7 [00:02<00:00,  3.06it/s]\n"
     ]
    },
    {
     "name": "stdout",
     "output_type": "stream",
     "text": [
      "Epoch 176 - Train Loss: 0.0784 | Val Loss: 8.7513\n"
     ]
    },
    {
     "name": "stderr",
     "output_type": "stream",
     "text": [
      "Epoch 177 [Train]: 100%|██████████| 58/58 [01:37<00:00,  1.67s/it]\n",
      "Epoch 177 [Val]: 100%|██████████| 7/7 [00:02<00:00,  3.15it/s]\n"
     ]
    },
    {
     "name": "stdout",
     "output_type": "stream",
     "text": [
      "Epoch 177 - Train Loss: 0.1307 | Val Loss: 8.6785\n"
     ]
    },
    {
     "name": "stderr",
     "output_type": "stream",
     "text": [
      "Epoch 178 [Train]: 100%|██████████| 58/58 [01:36<00:00,  1.66s/it]\n",
      "Epoch 178 [Val]: 100%|██████████| 7/7 [00:02<00:00,  3.04it/s]\n"
     ]
    },
    {
     "name": "stdout",
     "output_type": "stream",
     "text": [
      "Epoch 178 - Train Loss: 0.1771 | Val Loss: 8.7075\n"
     ]
    },
    {
     "name": "stderr",
     "output_type": "stream",
     "text": [
      "Epoch 179 [Train]: 100%|██████████| 58/58 [01:36<00:00,  1.66s/it]\n",
      "Epoch 179 [Val]: 100%|██████████| 7/7 [00:02<00:00,  2.94it/s]\n"
     ]
    },
    {
     "name": "stdout",
     "output_type": "stream",
     "text": [
      "Epoch 179 - Train Loss: 0.5814 | Val Loss: 8.6403\n"
     ]
    },
    {
     "name": "stderr",
     "output_type": "stream",
     "text": [
      "Epoch 180 [Train]: 100%|██████████| 58/58 [01:37<00:00,  1.67s/it]\n",
      "Epoch 180 [Val]: 100%|██████████| 7/7 [00:02<00:00,  3.11it/s]\n"
     ]
    },
    {
     "name": "stdout",
     "output_type": "stream",
     "text": [
      "Epoch 180 - Train Loss: 2.5817 | Val Loss: 8.3739\n"
     ]
    },
    {
     "name": "stderr",
     "output_type": "stream",
     "text": [
      "Epoch 181 [Train]: 100%|██████████| 58/58 [01:36<00:00,  1.66s/it]\n",
      "Epoch 181 [Val]: 100%|██████████| 7/7 [00:02<00:00,  3.12it/s]\n"
     ]
    },
    {
     "name": "stdout",
     "output_type": "stream",
     "text": [
      "Epoch 181 - Train Loss: 2.5823 | Val Loss: 8.2055\n"
     ]
    },
    {
     "name": "stderr",
     "output_type": "stream",
     "text": [
      "Epoch 182 [Train]: 100%|██████████| 58/58 [01:36<00:00,  1.66s/it]\n",
      "Epoch 182 [Val]: 100%|██████████| 7/7 [00:02<00:00,  3.02it/s]\n"
     ]
    },
    {
     "name": "stdout",
     "output_type": "stream",
     "text": [
      "Epoch 182 - Train Loss: 1.5538 | Val Loss: 8.1931\n"
     ]
    },
    {
     "name": "stderr",
     "output_type": "stream",
     "text": [
      "Epoch 183 [Train]: 100%|██████████| 58/58 [01:36<00:00,  1.66s/it]\n",
      "Epoch 183 [Val]: 100%|██████████| 7/7 [00:02<00:00,  3.05it/s]\n"
     ]
    },
    {
     "name": "stdout",
     "output_type": "stream",
     "text": [
      "Epoch 183 - Train Loss: 0.9318 | Val Loss: 8.2565\n"
     ]
    },
    {
     "name": "stderr",
     "output_type": "stream",
     "text": [
      "Epoch 184 [Train]: 100%|██████████| 58/58 [01:36<00:00,  1.67s/it]\n",
      "Epoch 184 [Val]: 100%|██████████| 7/7 [00:02<00:00,  3.00it/s]\n"
     ]
    },
    {
     "name": "stdout",
     "output_type": "stream",
     "text": [
      "Epoch 184 - Train Loss: 0.5249 | Val Loss: 8.4133\n"
     ]
    },
    {
     "name": "stderr",
     "output_type": "stream",
     "text": [
      "Epoch 185 [Train]: 100%|██████████| 58/58 [01:36<00:00,  1.67s/it]\n",
      "Epoch 185 [Val]: 100%|██████████| 7/7 [00:02<00:00,  3.12it/s]\n"
     ]
    },
    {
     "name": "stdout",
     "output_type": "stream",
     "text": [
      "Epoch 185 - Train Loss: 0.2818 | Val Loss: 8.4129\n"
     ]
    },
    {
     "name": "stderr",
     "output_type": "stream",
     "text": [
      "Epoch 186 [Train]: 100%|██████████| 58/58 [01:36<00:00,  1.66s/it]\n",
      "Epoch 186 [Val]: 100%|██████████| 7/7 [00:02<00:00,  3.00it/s]\n"
     ]
    },
    {
     "name": "stdout",
     "output_type": "stream",
     "text": [
      "Epoch 186 - Train Loss: 0.1523 | Val Loss: 8.5271\n"
     ]
    },
    {
     "name": "stderr",
     "output_type": "stream",
     "text": [
      "Epoch 187 [Train]: 100%|██████████| 58/58 [01:37<00:00,  1.68s/it]\n",
      "Epoch 187 [Val]: 100%|██████████| 7/7 [00:02<00:00,  3.05it/s]\n"
     ]
    },
    {
     "name": "stdout",
     "output_type": "stream",
     "text": [
      "Epoch 187 - Train Loss: 0.1013 | Val Loss: 8.6152\n"
     ]
    },
    {
     "name": "stderr",
     "output_type": "stream",
     "text": [
      "Epoch 188 [Train]: 100%|██████████| 58/58 [01:37<00:00,  1.69s/it]\n",
      "Epoch 188 [Val]: 100%|██████████| 7/7 [00:02<00:00,  3.14it/s]\n"
     ]
    },
    {
     "name": "stdout",
     "output_type": "stream",
     "text": [
      "Epoch 188 - Train Loss: 0.0757 | Val Loss: 8.6359\n"
     ]
    },
    {
     "name": "stderr",
     "output_type": "stream",
     "text": [
      "Epoch 189 [Train]: 100%|██████████| 58/58 [01:36<00:00,  1.67s/it]\n",
      "Epoch 189 [Val]: 100%|██████████| 7/7 [00:02<00:00,  3.03it/s]\n"
     ]
    },
    {
     "name": "stdout",
     "output_type": "stream",
     "text": [
      "Epoch 189 - Train Loss: 0.0653 | Val Loss: 8.5722\n"
     ]
    },
    {
     "name": "stderr",
     "output_type": "stream",
     "text": [
      "Epoch 190 [Train]: 100%|██████████| 58/58 [01:37<00:00,  1.69s/it]\n",
      "Epoch 190 [Val]: 100%|██████████| 7/7 [00:02<00:00,  3.03it/s]\n"
     ]
    },
    {
     "name": "stdout",
     "output_type": "stream",
     "text": [
      "Epoch 190 - Train Loss: 0.0595 | Val Loss: 8.5341\n"
     ]
    },
    {
     "name": "stderr",
     "output_type": "stream",
     "text": [
      "Epoch 191 [Train]: 100%|██████████| 58/58 [01:37<00:00,  1.69s/it]\n",
      "Epoch 191 [Val]: 100%|██████████| 7/7 [00:02<00:00,  3.04it/s]\n"
     ]
    },
    {
     "name": "stdout",
     "output_type": "stream",
     "text": [
      "Epoch 191 - Train Loss: 0.0666 | Val Loss: 8.6556\n"
     ]
    },
    {
     "name": "stderr",
     "output_type": "stream",
     "text": [
      "Epoch 192 [Train]: 100%|██████████| 58/58 [01:37<00:00,  1.67s/it]\n",
      "Epoch 192 [Val]: 100%|██████████| 7/7 [00:02<00:00,  3.05it/s]\n"
     ]
    },
    {
     "name": "stdout",
     "output_type": "stream",
     "text": [
      "Epoch 192 - Train Loss: 0.0787 | Val Loss: 8.5628\n"
     ]
    },
    {
     "name": "stderr",
     "output_type": "stream",
     "text": [
      "Epoch 193 [Train]: 100%|██████████| 58/58 [01:37<00:00,  1.68s/it]\n",
      "Epoch 193 [Val]: 100%|██████████| 7/7 [00:02<00:00,  3.02it/s]\n"
     ]
    },
    {
     "name": "stdout",
     "output_type": "stream",
     "text": [
      "Epoch 193 - Train Loss: 0.0574 | Val Loss: 8.6154\n"
     ]
    },
    {
     "name": "stderr",
     "output_type": "stream",
     "text": [
      "Epoch 194 [Train]: 100%|██████████| 58/58 [01:37<00:00,  1.67s/it]\n",
      "Epoch 194 [Val]: 100%|██████████| 7/7 [00:02<00:00,  3.01it/s]\n"
     ]
    },
    {
     "name": "stdout",
     "output_type": "stream",
     "text": [
      "Epoch 194 - Train Loss: 0.0544 | Val Loss: 8.6037\n"
     ]
    },
    {
     "name": "stderr",
     "output_type": "stream",
     "text": [
      "Epoch 195 [Train]: 100%|██████████| 58/58 [01:36<00:00,  1.67s/it]\n",
      "Epoch 195 [Val]: 100%|██████████| 7/7 [00:02<00:00,  3.04it/s]\n"
     ]
    },
    {
     "name": "stdout",
     "output_type": "stream",
     "text": [
      "Epoch 195 - Train Loss: 0.0502 | Val Loss: 8.6153\n"
     ]
    },
    {
     "name": "stderr",
     "output_type": "stream",
     "text": [
      "Epoch 196 [Train]: 100%|██████████| 58/58 [01:36<00:00,  1.66s/it]\n",
      "Epoch 196 [Val]: 100%|██████████| 7/7 [00:02<00:00,  3.17it/s]\n"
     ]
    },
    {
     "name": "stdout",
     "output_type": "stream",
     "text": [
      "Epoch 196 - Train Loss: 0.0480 | Val Loss: 8.5933\n"
     ]
    },
    {
     "name": "stderr",
     "output_type": "stream",
     "text": [
      "Epoch 197 [Train]: 100%|██████████| 58/58 [01:36<00:00,  1.66s/it]\n",
      "Epoch 197 [Val]: 100%|██████████| 7/7 [00:02<00:00,  3.08it/s]\n"
     ]
    },
    {
     "name": "stdout",
     "output_type": "stream",
     "text": [
      "Epoch 197 - Train Loss: 0.0472 | Val Loss: 8.6792\n"
     ]
    },
    {
     "name": "stderr",
     "output_type": "stream",
     "text": [
      "Epoch 198 [Train]: 100%|██████████| 58/58 [01:36<00:00,  1.67s/it]\n",
      "Epoch 198 [Val]: 100%|██████████| 7/7 [00:02<00:00,  3.07it/s]\n"
     ]
    },
    {
     "name": "stdout",
     "output_type": "stream",
     "text": [
      "Epoch 198 - Train Loss: 0.0463 | Val Loss: 8.6846\n"
     ]
    },
    {
     "name": "stderr",
     "output_type": "stream",
     "text": [
      "Epoch 199 [Train]: 100%|██████████| 58/58 [01:37<00:00,  1.67s/it]\n",
      "Epoch 199 [Val]: 100%|██████████| 7/7 [00:02<00:00,  3.15it/s]\n"
     ]
    },
    {
     "name": "stdout",
     "output_type": "stream",
     "text": [
      "Epoch 199 - Train Loss: 0.0467 | Val Loss: 8.6810\n"
     ]
    },
    {
     "name": "stderr",
     "output_type": "stream",
     "text": [
      "Epoch 200 [Train]: 100%|██████████| 58/58 [01:36<00:00,  1.66s/it]\n",
      "Epoch 200 [Val]: 100%|██████████| 7/7 [00:02<00:00,  3.07it/s]\n"
     ]
    },
    {
     "name": "stdout",
     "output_type": "stream",
     "text": [
      "Epoch 200 - Train Loss: 0.0621 | Val Loss: 8.6694\n"
     ]
    },
    {
     "name": "stderr",
     "output_type": "stream",
     "text": [
      "Epoch 201 [Train]: 100%|██████████| 58/58 [01:36<00:00,  1.67s/it]\n",
      "Epoch 201 [Val]: 100%|██████████| 7/7 [00:02<00:00,  2.86it/s]\n"
     ]
    },
    {
     "name": "stdout",
     "output_type": "stream",
     "text": [
      "Epoch 201 - Train Loss: 0.2721 | Val Loss: 8.5878\n"
     ]
    },
    {
     "name": "stderr",
     "output_type": "stream",
     "text": [
      "Epoch 202 [Train]: 100%|██████████| 58/58 [01:35<00:00,  1.65s/it]\n",
      "Epoch 202 [Val]: 100%|██████████| 7/7 [00:02<00:00,  3.19it/s]\n"
     ]
    },
    {
     "name": "stdout",
     "output_type": "stream",
     "text": [
      "Epoch 202 - Train Loss: 0.2125 | Val Loss: 8.5382\n"
     ]
    },
    {
     "name": "stderr",
     "output_type": "stream",
     "text": [
      "Epoch 203 [Train]: 100%|██████████| 58/58 [01:36<00:00,  1.66s/it]\n",
      "Epoch 203 [Val]: 100%|██████████| 7/7 [00:02<00:00,  3.13it/s]\n"
     ]
    },
    {
     "name": "stdout",
     "output_type": "stream",
     "text": [
      "Epoch 203 - Train Loss: 0.1332 | Val Loss: 8.6296\n"
     ]
    },
    {
     "name": "stderr",
     "output_type": "stream",
     "text": [
      "Epoch 204 [Train]: 100%|██████████| 58/58 [01:35<00:00,  1.65s/it]\n",
      "Epoch 204 [Val]: 100%|██████████| 7/7 [00:02<00:00,  3.07it/s]\n"
     ]
    },
    {
     "name": "stdout",
     "output_type": "stream",
     "text": [
      "Epoch 204 - Train Loss: 0.0945 | Val Loss: 8.6107\n"
     ]
    },
    {
     "name": "stderr",
     "output_type": "stream",
     "text": [
      "Epoch 205 [Train]: 100%|██████████| 58/58 [01:36<00:00,  1.67s/it]\n",
      "Epoch 205 [Val]: 100%|██████████| 7/7 [00:02<00:00,  3.08it/s]\n"
     ]
    },
    {
     "name": "stdout",
     "output_type": "stream",
     "text": [
      "Epoch 205 - Train Loss: 0.0727 | Val Loss: 8.7299\n"
     ]
    },
    {
     "name": "stderr",
     "output_type": "stream",
     "text": [
      "Epoch 206 [Train]: 100%|██████████| 58/58 [01:36<00:00,  1.67s/it]\n",
      "Epoch 206 [Val]: 100%|██████████| 7/7 [00:02<00:00,  3.17it/s]\n"
     ]
    },
    {
     "name": "stdout",
     "output_type": "stream",
     "text": [
      "Epoch 206 - Train Loss: 0.0592 | Val Loss: 8.6648\n"
     ]
    },
    {
     "name": "stderr",
     "output_type": "stream",
     "text": [
      "Epoch 207 [Train]: 100%|██████████| 58/58 [01:35<00:00,  1.64s/it]\n",
      "Epoch 207 [Val]: 100%|██████████| 7/7 [00:02<00:00,  3.17it/s]\n"
     ]
    },
    {
     "name": "stdout",
     "output_type": "stream",
     "text": [
      "Epoch 207 - Train Loss: 0.0501 | Val Loss: 8.6769\n"
     ]
    },
    {
     "name": "stderr",
     "output_type": "stream",
     "text": [
      "Epoch 208 [Train]: 100%|██████████| 58/58 [01:35<00:00,  1.65s/it]\n",
      "Epoch 208 [Val]: 100%|██████████| 7/7 [00:02<00:00,  3.13it/s]\n"
     ]
    },
    {
     "name": "stdout",
     "output_type": "stream",
     "text": [
      "Epoch 208 - Train Loss: 0.0506 | Val Loss: 8.6952\n"
     ]
    },
    {
     "name": "stderr",
     "output_type": "stream",
     "text": [
      "Epoch 209 [Train]: 100%|██████████| 58/58 [01:36<00:00,  1.66s/it]\n",
      "Epoch 209 [Val]: 100%|██████████| 7/7 [00:02<00:00,  3.17it/s]\n"
     ]
    },
    {
     "name": "stdout",
     "output_type": "stream",
     "text": [
      "Epoch 209 - Train Loss: 0.0686 | Val Loss: 8.6970\n"
     ]
    },
    {
     "name": "stderr",
     "output_type": "stream",
     "text": [
      "Epoch 210 [Train]: 100%|██████████| 58/58 [01:36<00:00,  1.66s/it]\n",
      "Epoch 210 [Val]: 100%|██████████| 7/7 [00:02<00:00,  3.22it/s]\n"
     ]
    },
    {
     "name": "stdout",
     "output_type": "stream",
     "text": [
      "Epoch 210 - Train Loss: 0.0562 | Val Loss: 8.7608\n"
     ]
    },
    {
     "name": "stderr",
     "output_type": "stream",
     "text": [
      "Epoch 211 [Train]: 100%|██████████| 58/58 [01:35<00:00,  1.65s/it]\n",
      "Epoch 211 [Val]: 100%|██████████| 7/7 [00:02<00:00,  3.15it/s]\n"
     ]
    },
    {
     "name": "stdout",
     "output_type": "stream",
     "text": [
      "Epoch 211 - Train Loss: 0.0505 | Val Loss: 8.7677\n"
     ]
    },
    {
     "name": "stderr",
     "output_type": "stream",
     "text": [
      "Epoch 212 [Train]: 100%|██████████| 58/58 [01:36<00:00,  1.66s/it]\n",
      "Epoch 212 [Val]: 100%|██████████| 7/7 [00:02<00:00,  3.11it/s]\n"
     ]
    },
    {
     "name": "stdout",
     "output_type": "stream",
     "text": [
      "Epoch 212 - Train Loss: 0.0488 | Val Loss: 8.7719\n"
     ]
    },
    {
     "name": "stderr",
     "output_type": "stream",
     "text": [
      "Epoch 213 [Train]: 100%|██████████| 58/58 [02:26<00:00,  2.52s/it]\n",
      "Epoch 213 [Val]: 100%|██████████| 7/7 [00:02<00:00,  2.55it/s]\n"
     ]
    },
    {
     "name": "stdout",
     "output_type": "stream",
     "text": [
      "Epoch 213 - Train Loss: 0.0522 | Val Loss: 8.7723\n"
     ]
    },
    {
     "name": "stderr",
     "output_type": "stream",
     "text": [
      "Epoch 214 [Train]: 100%|██████████| 58/58 [05:08<00:00,  5.32s/it]\n",
      "Epoch 214 [Val]: 100%|██████████| 7/7 [00:02<00:00,  3.18it/s]\n"
     ]
    },
    {
     "name": "stdout",
     "output_type": "stream",
     "text": [
      "Epoch 214 - Train Loss: 0.0950 | Val Loss: 8.6406\n"
     ]
    },
    {
     "name": "stderr",
     "output_type": "stream",
     "text": [
      "Epoch 215 [Train]: 100%|██████████| 58/58 [01:36<00:00,  1.66s/it]\n",
      "Epoch 215 [Val]: 100%|██████████| 7/7 [00:02<00:00,  3.24it/s]\n"
     ]
    },
    {
     "name": "stdout",
     "output_type": "stream",
     "text": [
      "Epoch 215 - Train Loss: 0.0912 | Val Loss: 8.7263\n"
     ]
    },
    {
     "name": "stderr",
     "output_type": "stream",
     "text": [
      "Epoch 216 [Train]: 100%|██████████| 58/58 [01:36<00:00,  1.66s/it]\n",
      "Epoch 216 [Val]: 100%|██████████| 7/7 [00:02<00:00,  3.18it/s]\n"
     ]
    },
    {
     "name": "stdout",
     "output_type": "stream",
     "text": [
      "Epoch 216 - Train Loss: 0.0852 | Val Loss: 8.7364\n"
     ]
    },
    {
     "name": "stderr",
     "output_type": "stream",
     "text": [
      "Epoch 217 [Train]: 100%|██████████| 58/58 [01:38<00:00,  1.69s/it]\n",
      "Epoch 217 [Val]: 100%|██████████| 7/7 [00:02<00:00,  3.15it/s]\n"
     ]
    },
    {
     "name": "stdout",
     "output_type": "stream",
     "text": [
      "Epoch 217 - Train Loss: 0.1015 | Val Loss: 8.7595\n"
     ]
    },
    {
     "name": "stderr",
     "output_type": "stream",
     "text": [
      "Epoch 218 [Train]: 100%|██████████| 58/58 [01:37<00:00,  1.69s/it]\n",
      "Epoch 218 [Val]: 100%|██████████| 7/7 [00:02<00:00,  3.18it/s]\n"
     ]
    },
    {
     "name": "stdout",
     "output_type": "stream",
     "text": [
      "Epoch 218 - Train Loss: 0.1660 | Val Loss: 8.8439\n"
     ]
    },
    {
     "name": "stderr",
     "output_type": "stream",
     "text": [
      "Epoch 219 [Train]: 100%|██████████| 58/58 [01:36<00:00,  1.66s/it]\n",
      "Epoch 219 [Val]: 100%|██████████| 7/7 [00:02<00:00,  3.13it/s]\n"
     ]
    },
    {
     "name": "stdout",
     "output_type": "stream",
     "text": [
      "Epoch 219 - Train Loss: 0.5150 | Val Loss: 8.7390\n"
     ]
    },
    {
     "name": "stderr",
     "output_type": "stream",
     "text": [
      "Epoch 220 [Train]: 100%|██████████| 58/58 [01:36<00:00,  1.66s/it]\n",
      "Epoch 220 [Val]: 100%|██████████| 7/7 [00:02<00:00,  3.11it/s]\n"
     ]
    },
    {
     "name": "stdout",
     "output_type": "stream",
     "text": [
      "Epoch 220 - Train Loss: 1.6386 | Val Loss: 8.5345\n"
     ]
    },
    {
     "name": "stderr",
     "output_type": "stream",
     "text": [
      "Epoch 221 [Train]: 100%|██████████| 58/58 [01:36<00:00,  1.67s/it]\n",
      "Epoch 221 [Val]: 100%|██████████| 7/7 [00:02<00:00,  3.16it/s]\n"
     ]
    },
    {
     "name": "stdout",
     "output_type": "stream",
     "text": [
      "Epoch 221 - Train Loss: 2.2223 | Val Loss: 8.4098\n"
     ]
    },
    {
     "name": "stderr",
     "output_type": "stream",
     "text": [
      "Epoch 222 [Train]: 100%|██████████| 58/58 [01:36<00:00,  1.66s/it]\n",
      "Epoch 222 [Val]: 100%|██████████| 7/7 [00:02<00:00,  3.19it/s]\n"
     ]
    },
    {
     "name": "stdout",
     "output_type": "stream",
     "text": [
      "Epoch 222 - Train Loss: 1.7938 | Val Loss: 8.4011\n"
     ]
    },
    {
     "name": "stderr",
     "output_type": "stream",
     "text": [
      "Epoch 223 [Train]: 100%|██████████| 58/58 [01:36<00:00,  1.66s/it]\n",
      "Epoch 223 [Val]: 100%|██████████| 7/7 [00:02<00:00,  3.11it/s]\n"
     ]
    },
    {
     "name": "stdout",
     "output_type": "stream",
     "text": [
      "Epoch 223 - Train Loss: 1.2710 | Val Loss: 8.3786\n"
     ]
    },
    {
     "name": "stderr",
     "output_type": "stream",
     "text": [
      "Epoch 224 [Train]: 100%|██████████| 58/58 [01:36<00:00,  1.67s/it]\n",
      "Epoch 224 [Val]: 100%|██████████| 7/7 [00:02<00:00,  3.04it/s]\n"
     ]
    },
    {
     "name": "stdout",
     "output_type": "stream",
     "text": [
      "Epoch 224 - Train Loss: 0.7353 | Val Loss: 8.4957\n"
     ]
    },
    {
     "name": "stderr",
     "output_type": "stream",
     "text": [
      "Epoch 225 [Train]: 100%|██████████| 58/58 [01:36<00:00,  1.66s/it]\n",
      "Epoch 225 [Val]: 100%|██████████| 7/7 [00:02<00:00,  3.11it/s]\n"
     ]
    },
    {
     "name": "stdout",
     "output_type": "stream",
     "text": [
      "Epoch 225 - Train Loss: 0.3205 | Val Loss: 8.4568\n"
     ]
    },
    {
     "name": "stderr",
     "output_type": "stream",
     "text": [
      "Epoch 226 [Train]: 100%|██████████| 58/58 [01:36<00:00,  1.66s/it]\n",
      "Epoch 226 [Val]: 100%|██████████| 7/7 [00:02<00:00,  3.22it/s]\n"
     ]
    },
    {
     "name": "stdout",
     "output_type": "stream",
     "text": [
      "Epoch 226 - Train Loss: 0.1370 | Val Loss: 8.6280\n"
     ]
    },
    {
     "name": "stderr",
     "output_type": "stream",
     "text": [
      "Epoch 227 [Train]: 100%|██████████| 58/58 [01:36<00:00,  1.66s/it]\n",
      "Epoch 227 [Val]: 100%|██████████| 7/7 [00:02<00:00,  3.16it/s]\n"
     ]
    },
    {
     "name": "stdout",
     "output_type": "stream",
     "text": [
      "Epoch 227 - Train Loss: 0.0838 | Val Loss: 8.6109\n"
     ]
    },
    {
     "name": "stderr",
     "output_type": "stream",
     "text": [
      "Epoch 228 [Train]: 100%|██████████| 58/58 [01:36<00:00,  1.67s/it]\n",
      "Epoch 228 [Val]: 100%|██████████| 7/7 [00:02<00:00,  3.15it/s]\n"
     ]
    },
    {
     "name": "stdout",
     "output_type": "stream",
     "text": [
      "Epoch 228 - Train Loss: 0.0609 | Val Loss: 8.6492\n"
     ]
    },
    {
     "name": "stderr",
     "output_type": "stream",
     "text": [
      "Epoch 229 [Train]: 100%|██████████| 58/58 [01:36<00:00,  1.67s/it]\n",
      "Epoch 229 [Val]: 100%|██████████| 7/7 [00:02<00:00,  3.21it/s]\n"
     ]
    },
    {
     "name": "stdout",
     "output_type": "stream",
     "text": [
      "Epoch 229 - Train Loss: 0.0529 | Val Loss: 8.6091\n"
     ]
    },
    {
     "name": "stderr",
     "output_type": "stream",
     "text": [
      "Epoch 230 [Train]: 100%|██████████| 58/58 [01:36<00:00,  1.66s/it]\n",
      "Epoch 230 [Val]: 100%|██████████| 7/7 [00:02<00:00,  3.10it/s]\n"
     ]
    },
    {
     "name": "stdout",
     "output_type": "stream",
     "text": [
      "Epoch 230 - Train Loss: 0.0482 | Val Loss: 8.5910\n"
     ]
    },
    {
     "name": "stderr",
     "output_type": "stream",
     "text": [
      "Epoch 231 [Train]: 100%|██████████| 58/58 [01:36<00:00,  1.67s/it]\n",
      "Epoch 231 [Val]: 100%|██████████| 7/7 [00:02<00:00,  3.11it/s]\n"
     ]
    },
    {
     "name": "stdout",
     "output_type": "stream",
     "text": [
      "Epoch 231 - Train Loss: 0.0465 | Val Loss: 8.7124\n"
     ]
    },
    {
     "name": "stderr",
     "output_type": "stream",
     "text": [
      "Epoch 232 [Train]: 100%|██████████| 58/58 [01:36<00:00,  1.66s/it]\n",
      "Epoch 232 [Val]: 100%|██████████| 7/7 [00:02<00:00,  3.15it/s]\n"
     ]
    },
    {
     "name": "stdout",
     "output_type": "stream",
     "text": [
      "Epoch 232 - Train Loss: 0.0433 | Val Loss: 8.6588\n"
     ]
    },
    {
     "name": "stderr",
     "output_type": "stream",
     "text": [
      "Epoch 233 [Train]: 100%|██████████| 58/58 [01:36<00:00,  1.66s/it]\n",
      "Epoch 233 [Val]: 100%|██████████| 7/7 [00:02<00:00,  3.22it/s]\n"
     ]
    },
    {
     "name": "stdout",
     "output_type": "stream",
     "text": [
      "Epoch 233 - Train Loss: 0.0419 | Val Loss: 8.6749\n"
     ]
    },
    {
     "name": "stderr",
     "output_type": "stream",
     "text": [
      "Epoch 234 [Train]: 100%|██████████| 58/58 [01:36<00:00,  1.66s/it]\n",
      "Epoch 234 [Val]: 100%|██████████| 7/7 [00:02<00:00,  3.24it/s]\n"
     ]
    },
    {
     "name": "stdout",
     "output_type": "stream",
     "text": [
      "Epoch 234 - Train Loss: 0.0411 | Val Loss: 8.6846\n"
     ]
    },
    {
     "name": "stderr",
     "output_type": "stream",
     "text": [
      "Epoch 235 [Train]: 100%|██████████| 58/58 [01:37<00:00,  1.69s/it]\n",
      "Epoch 235 [Val]: 100%|██████████| 7/7 [00:02<00:00,  3.19it/s]\n"
     ]
    },
    {
     "name": "stdout",
     "output_type": "stream",
     "text": [
      "Epoch 235 - Train Loss: 0.0407 | Val Loss: 8.7265\n"
     ]
    },
    {
     "name": "stderr",
     "output_type": "stream",
     "text": [
      "Epoch 236 [Train]: 100%|██████████| 58/58 [01:36<00:00,  1.66s/it]\n",
      "Epoch 236 [Val]: 100%|██████████| 7/7 [00:02<00:00,  3.12it/s]\n"
     ]
    },
    {
     "name": "stdout",
     "output_type": "stream",
     "text": [
      "Epoch 236 - Train Loss: 0.0392 | Val Loss: 8.7239\n"
     ]
    },
    {
     "name": "stderr",
     "output_type": "stream",
     "text": [
      "Epoch 237 [Train]: 100%|██████████| 58/58 [01:36<00:00,  1.66s/it]\n",
      "Epoch 237 [Val]: 100%|██████████| 7/7 [00:02<00:00,  3.19it/s]\n"
     ]
    },
    {
     "name": "stdout",
     "output_type": "stream",
     "text": [
      "Epoch 237 - Train Loss: 0.0390 | Val Loss: 8.7080\n"
     ]
    },
    {
     "name": "stderr",
     "output_type": "stream",
     "text": [
      "Epoch 238 [Train]: 100%|██████████| 58/58 [01:36<00:00,  1.66s/it]\n",
      "Epoch 238 [Val]: 100%|██████████| 7/7 [00:02<00:00,  3.15it/s]\n"
     ]
    },
    {
     "name": "stdout",
     "output_type": "stream",
     "text": [
      "Epoch 238 - Train Loss: 0.0387 | Val Loss: 8.6802\n"
     ]
    },
    {
     "name": "stderr",
     "output_type": "stream",
     "text": [
      "Epoch 239 [Train]: 100%|██████████| 58/58 [01:37<00:00,  1.67s/it]\n",
      "Epoch 239 [Val]: 100%|██████████| 7/7 [00:02<00:00,  3.17it/s]\n"
     ]
    },
    {
     "name": "stdout",
     "output_type": "stream",
     "text": [
      "Epoch 239 - Train Loss: 0.0384 | Val Loss: 8.6861\n"
     ]
    },
    {
     "name": "stderr",
     "output_type": "stream",
     "text": [
      "Epoch 240 [Train]: 100%|██████████| 58/58 [01:37<00:00,  1.68s/it]\n",
      "Epoch 240 [Val]: 100%|██████████| 7/7 [00:02<00:00,  3.21it/s]\n"
     ]
    },
    {
     "name": "stdout",
     "output_type": "stream",
     "text": [
      "Epoch 240 - Train Loss: 0.0382 | Val Loss: 8.6994\n"
     ]
    },
    {
     "name": "stderr",
     "output_type": "stream",
     "text": [
      "Epoch 241 [Train]: 100%|██████████| 58/58 [01:38<00:00,  1.69s/it]\n",
      "Epoch 241 [Val]: 100%|██████████| 7/7 [00:02<00:00,  3.07it/s]\n"
     ]
    },
    {
     "name": "stdout",
     "output_type": "stream",
     "text": [
      "Epoch 241 - Train Loss: 0.0400 | Val Loss: 8.6970\n"
     ]
    },
    {
     "name": "stderr",
     "output_type": "stream",
     "text": [
      "Epoch 242 [Train]: 100%|██████████| 58/58 [01:38<00:00,  1.70s/it]\n",
      "Epoch 242 [Val]: 100%|██████████| 7/7 [00:02<00:00,  3.06it/s]\n"
     ]
    },
    {
     "name": "stdout",
     "output_type": "stream",
     "text": [
      "Epoch 242 - Train Loss: 0.0400 | Val Loss: 8.6585\n"
     ]
    },
    {
     "name": "stderr",
     "output_type": "stream",
     "text": [
      "Epoch 243 [Train]: 100%|██████████| 58/58 [01:38<00:00,  1.69s/it]\n",
      "Epoch 243 [Val]: 100%|██████████| 7/7 [00:02<00:00,  3.11it/s]\n"
     ]
    },
    {
     "name": "stdout",
     "output_type": "stream",
     "text": [
      "Epoch 243 - Train Loss: 0.0404 | Val Loss: 8.6541\n"
     ]
    },
    {
     "name": "stderr",
     "output_type": "stream",
     "text": [
      "Epoch 244 [Train]: 100%|██████████| 58/58 [01:38<00:00,  1.69s/it]\n",
      "Epoch 244 [Val]: 100%|██████████| 7/7 [00:02<00:00,  2.98it/s]\n"
     ]
    },
    {
     "name": "stdout",
     "output_type": "stream",
     "text": [
      "Epoch 244 - Train Loss: 0.0396 | Val Loss: 8.7114\n"
     ]
    },
    {
     "name": "stderr",
     "output_type": "stream",
     "text": [
      "Epoch 245 [Train]: 100%|██████████| 58/58 [01:37<00:00,  1.68s/it]\n",
      "Epoch 245 [Val]: 100%|██████████| 7/7 [00:02<00:00,  3.15it/s]\n"
     ]
    },
    {
     "name": "stdout",
     "output_type": "stream",
     "text": [
      "Epoch 245 - Train Loss: 0.0392 | Val Loss: 8.7352\n"
     ]
    },
    {
     "name": "stderr",
     "output_type": "stream",
     "text": [
      "Epoch 246 [Train]: 100%|██████████| 58/58 [01:37<00:00,  1.68s/it]\n",
      "Epoch 246 [Val]: 100%|██████████| 7/7 [00:02<00:00,  3.14it/s]\n"
     ]
    },
    {
     "name": "stdout",
     "output_type": "stream",
     "text": [
      "Epoch 246 - Train Loss: 0.0392 | Val Loss: 8.6490\n"
     ]
    },
    {
     "name": "stderr",
     "output_type": "stream",
     "text": [
      "Epoch 247 [Train]: 100%|██████████| 58/58 [01:37<00:00,  1.68s/it]\n",
      "Epoch 247 [Val]: 100%|██████████| 7/7 [00:02<00:00,  3.15it/s]\n"
     ]
    },
    {
     "name": "stdout",
     "output_type": "stream",
     "text": [
      "Epoch 247 - Train Loss: 0.0390 | Val Loss: 8.6936\n"
     ]
    },
    {
     "name": "stderr",
     "output_type": "stream",
     "text": [
      "Epoch 248 [Train]: 100%|██████████| 58/58 [01:37<00:00,  1.69s/it]\n",
      "Epoch 248 [Val]: 100%|██████████| 7/7 [00:02<00:00,  3.11it/s]\n"
     ]
    },
    {
     "name": "stdout",
     "output_type": "stream",
     "text": [
      "Epoch 248 - Train Loss: 0.0396 | Val Loss: 8.7232\n"
     ]
    },
    {
     "name": "stderr",
     "output_type": "stream",
     "text": [
      "Epoch 249 [Train]: 100%|██████████| 58/58 [01:37<00:00,  1.68s/it]\n",
      "Epoch 249 [Val]: 100%|██████████| 7/7 [00:02<00:00,  3.13it/s]\n"
     ]
    },
    {
     "name": "stdout",
     "output_type": "stream",
     "text": [
      "Epoch 249 - Train Loss: 0.0420 | Val Loss: 8.6913\n"
     ]
    },
    {
     "name": "stderr",
     "output_type": "stream",
     "text": [
      "Epoch 250 [Train]: 100%|██████████| 58/58 [01:37<00:00,  1.69s/it]\n",
      "Epoch 250 [Val]: 100%|██████████| 7/7 [00:02<00:00,  2.97it/s]\n"
     ]
    },
    {
     "name": "stdout",
     "output_type": "stream",
     "text": [
      "Epoch 250 - Train Loss: 0.0435 | Val Loss: 8.6767\n"
     ]
    },
    {
     "name": "stderr",
     "output_type": "stream",
     "text": [
      "Epoch 251 [Train]: 100%|██████████| 58/58 [01:38<00:00,  1.69s/it]\n",
      "Epoch 251 [Val]: 100%|██████████| 7/7 [00:02<00:00,  2.98it/s]\n"
     ]
    },
    {
     "name": "stdout",
     "output_type": "stream",
     "text": [
      "Epoch 251 - Train Loss: 0.0453 | Val Loss: 8.7336\n"
     ]
    },
    {
     "name": "stderr",
     "output_type": "stream",
     "text": [
      "Epoch 252 [Train]: 100%|██████████| 58/58 [01:38<00:00,  1.70s/it]\n",
      "Epoch 252 [Val]: 100%|██████████| 7/7 [00:02<00:00,  2.99it/s]\n"
     ]
    },
    {
     "name": "stdout",
     "output_type": "stream",
     "text": [
      "Epoch 252 - Train Loss: 0.0498 | Val Loss: 8.6797\n"
     ]
    },
    {
     "name": "stderr",
     "output_type": "stream",
     "text": [
      "Epoch 253 [Train]: 100%|██████████| 58/58 [01:40<00:00,  1.73s/it]\n",
      "Epoch 253 [Val]: 100%|██████████| 7/7 [00:02<00:00,  3.01it/s]\n"
     ]
    },
    {
     "name": "stdout",
     "output_type": "stream",
     "text": [
      "Epoch 253 - Train Loss: 0.1082 | Val Loss: 8.6708\n"
     ]
    },
    {
     "name": "stderr",
     "output_type": "stream",
     "text": [
      "Epoch 254 [Train]: 100%|██████████| 58/58 [01:41<00:00,  1.75s/it]\n",
      "Epoch 254 [Val]: 100%|██████████| 7/7 [00:02<00:00,  2.86it/s]\n"
     ]
    },
    {
     "name": "stdout",
     "output_type": "stream",
     "text": [
      "Epoch 254 - Train Loss: 0.1905 | Val Loss: 8.7245\n"
     ]
    },
    {
     "name": "stderr",
     "output_type": "stream",
     "text": [
      "Epoch 255 [Train]: 100%|██████████| 58/58 [01:41<00:00,  1.74s/it]\n",
      "Epoch 255 [Val]: 100%|██████████| 7/7 [00:02<00:00,  2.90it/s]\n"
     ]
    },
    {
     "name": "stdout",
     "output_type": "stream",
     "text": [
      "Epoch 255 - Train Loss: 2.0700 | Val Loss: 8.3356\n"
     ]
    },
    {
     "name": "stderr",
     "output_type": "stream",
     "text": [
      "Epoch 256 [Train]: 100%|██████████| 58/58 [01:41<00:00,  1.75s/it]\n",
      "Epoch 256 [Val]: 100%|██████████| 7/7 [00:02<00:00,  2.96it/s]\n"
     ]
    },
    {
     "name": "stdout",
     "output_type": "stream",
     "text": [
      "Epoch 256 - Train Loss: 2.7961 | Val Loss: 8.2392\n"
     ]
    },
    {
     "name": "stderr",
     "output_type": "stream",
     "text": [
      "Epoch 257 [Train]: 100%|██████████| 58/58 [01:42<00:00,  1.76s/it]\n",
      "Epoch 257 [Val]: 100%|██████████| 7/7 [00:02<00:00,  2.95it/s]\n"
     ]
    },
    {
     "name": "stdout",
     "output_type": "stream",
     "text": [
      "Epoch 257 - Train Loss: 1.8541 | Val Loss: 8.2646\n"
     ]
    },
    {
     "name": "stderr",
     "output_type": "stream",
     "text": [
      "Epoch 258 [Train]: 100%|██████████| 58/58 [01:41<00:00,  1.75s/it]\n",
      "Epoch 258 [Val]: 100%|██████████| 7/7 [00:02<00:00,  3.00it/s]\n"
     ]
    },
    {
     "name": "stdout",
     "output_type": "stream",
     "text": [
      "Epoch 258 - Train Loss: 1.1005 | Val Loss: 8.3522\n"
     ]
    },
    {
     "name": "stderr",
     "output_type": "stream",
     "text": [
      "Epoch 259 [Train]: 100%|██████████| 58/58 [01:38<00:00,  1.69s/it]\n",
      "Epoch 259 [Val]: 100%|██████████| 7/7 [00:02<00:00,  3.03it/s]\n"
     ]
    },
    {
     "name": "stdout",
     "output_type": "stream",
     "text": [
      "Epoch 259 - Train Loss: 0.5453 | Val Loss: 8.4139\n"
     ]
    },
    {
     "name": "stderr",
     "output_type": "stream",
     "text": [
      "Epoch 260 [Train]: 100%|██████████| 58/58 [01:38<00:00,  1.70s/it]\n",
      "Epoch 260 [Val]: 100%|██████████| 7/7 [00:02<00:00,  3.01it/s]\n"
     ]
    },
    {
     "name": "stdout",
     "output_type": "stream",
     "text": [
      "Epoch 260 - Train Loss: 0.2517 | Val Loss: 8.4807\n"
     ]
    },
    {
     "name": "stderr",
     "output_type": "stream",
     "text": [
      "Epoch 261 [Train]: 100%|██████████| 58/58 [01:38<00:00,  1.70s/it]\n",
      "Epoch 261 [Val]: 100%|██████████| 7/7 [00:02<00:00,  2.93it/s]\n"
     ]
    },
    {
     "name": "stdout",
     "output_type": "stream",
     "text": [
      "Epoch 261 - Train Loss: 0.1188 | Val Loss: 8.3996\n"
     ]
    },
    {
     "name": "stderr",
     "output_type": "stream",
     "text": [
      "Epoch 262 [Train]: 100%|██████████| 58/58 [01:38<00:00,  1.69s/it]\n",
      "Epoch 262 [Val]: 100%|██████████| 7/7 [00:02<00:00,  3.09it/s]\n"
     ]
    },
    {
     "name": "stdout",
     "output_type": "stream",
     "text": [
      "Epoch 262 - Train Loss: 0.0804 | Val Loss: 8.5248\n"
     ]
    },
    {
     "name": "stderr",
     "output_type": "stream",
     "text": [
      "Epoch 263 [Train]: 100%|██████████| 58/58 [01:38<00:00,  1.70s/it]\n",
      "Epoch 263 [Val]: 100%|██████████| 7/7 [00:02<00:00,  3.03it/s]\n"
     ]
    },
    {
     "name": "stdout",
     "output_type": "stream",
     "text": [
      "Epoch 263 - Train Loss: 0.0601 | Val Loss: 8.4723\n"
     ]
    },
    {
     "name": "stderr",
     "output_type": "stream",
     "text": [
      "Epoch 264 [Train]: 100%|██████████| 58/58 [01:38<00:00,  1.70s/it]\n",
      "Epoch 264 [Val]: 100%|██████████| 7/7 [00:02<00:00,  2.98it/s]\n"
     ]
    },
    {
     "name": "stdout",
     "output_type": "stream",
     "text": [
      "Epoch 264 - Train Loss: 0.0509 | Val Loss: 8.5941\n"
     ]
    },
    {
     "name": "stderr",
     "output_type": "stream",
     "text": [
      "Epoch 265 [Train]: 100%|██████████| 58/58 [01:38<00:00,  1.70s/it]\n",
      "Epoch 265 [Val]: 100%|██████████| 7/7 [00:02<00:00,  3.09it/s]\n"
     ]
    },
    {
     "name": "stdout",
     "output_type": "stream",
     "text": [
      "Epoch 265 - Train Loss: 0.0473 | Val Loss: 8.5912\n"
     ]
    },
    {
     "name": "stderr",
     "output_type": "stream",
     "text": [
      "Epoch 266 [Train]: 100%|██████████| 58/58 [01:38<00:00,  1.70s/it]\n",
      "Epoch 266 [Val]: 100%|██████████| 7/7 [00:02<00:00,  3.16it/s]\n"
     ]
    },
    {
     "name": "stdout",
     "output_type": "stream",
     "text": [
      "Epoch 266 - Train Loss: 0.0442 | Val Loss: 8.5484\n"
     ]
    },
    {
     "name": "stderr",
     "output_type": "stream",
     "text": [
      "Epoch 267 [Train]: 100%|██████████| 58/58 [01:36<00:00,  1.66s/it]\n",
      "Epoch 267 [Val]: 100%|██████████| 7/7 [00:02<00:00,  3.07it/s]\n"
     ]
    },
    {
     "name": "stdout",
     "output_type": "stream",
     "text": [
      "Epoch 267 - Train Loss: 0.0427 | Val Loss: 8.6228\n"
     ]
    },
    {
     "name": "stderr",
     "output_type": "stream",
     "text": [
      "Epoch 268 [Train]: 100%|██████████| 58/58 [01:36<00:00,  1.66s/it]\n",
      "Epoch 268 [Val]: 100%|██████████| 7/7 [00:02<00:00,  3.21it/s]\n"
     ]
    },
    {
     "name": "stdout",
     "output_type": "stream",
     "text": [
      "Epoch 268 - Train Loss: 0.0409 | Val Loss: 8.5780\n"
     ]
    },
    {
     "name": "stderr",
     "output_type": "stream",
     "text": [
      "Epoch 269 [Train]: 100%|██████████| 58/58 [01:36<00:00,  1.67s/it]\n",
      "Epoch 269 [Val]: 100%|██████████| 7/7 [00:02<00:00,  3.22it/s]\n"
     ]
    },
    {
     "name": "stdout",
     "output_type": "stream",
     "text": [
      "Epoch 269 - Train Loss: 0.0417 | Val Loss: 8.6075\n"
     ]
    },
    {
     "name": "stderr",
     "output_type": "stream",
     "text": [
      "Epoch 270 [Train]: 100%|██████████| 58/58 [01:37<00:00,  1.68s/it]\n",
      "Epoch 270 [Val]: 100%|██████████| 7/7 [00:02<00:00,  3.01it/s]\n"
     ]
    },
    {
     "name": "stdout",
     "output_type": "stream",
     "text": [
      "Epoch 270 - Train Loss: 0.0397 | Val Loss: 8.5791\n"
     ]
    },
    {
     "name": "stderr",
     "output_type": "stream",
     "text": [
      "Epoch 271 [Train]: 100%|██████████| 58/58 [01:38<00:00,  1.71s/it]\n",
      "Epoch 271 [Val]: 100%|██████████| 7/7 [00:02<00:00,  3.10it/s]\n"
     ]
    },
    {
     "name": "stdout",
     "output_type": "stream",
     "text": [
      "Epoch 271 - Train Loss: 0.0385 | Val Loss: 8.5834\n"
     ]
    },
    {
     "name": "stderr",
     "output_type": "stream",
     "text": [
      "Epoch 272 [Train]: 100%|██████████| 58/58 [01:38<00:00,  1.70s/it]\n",
      "Epoch 272 [Val]: 100%|██████████| 7/7 [00:02<00:00,  3.07it/s]\n"
     ]
    },
    {
     "name": "stdout",
     "output_type": "stream",
     "text": [
      "Epoch 272 - Train Loss: 0.0379 | Val Loss: 8.6264\n"
     ]
    },
    {
     "name": "stderr",
     "output_type": "stream",
     "text": [
      "Epoch 273 [Train]: 100%|██████████| 58/58 [01:38<00:00,  1.69s/it]\n",
      "Epoch 273 [Val]: 100%|██████████| 7/7 [00:02<00:00,  3.01it/s]\n"
     ]
    },
    {
     "name": "stdout",
     "output_type": "stream",
     "text": [
      "Epoch 273 - Train Loss: 0.0383 | Val Loss: 8.5856\n"
     ]
    },
    {
     "name": "stderr",
     "output_type": "stream",
     "text": [
      "Epoch 274 [Train]: 100%|██████████| 58/58 [01:38<00:00,  1.69s/it]\n",
      "Epoch 274 [Val]: 100%|██████████| 7/7 [00:02<00:00,  2.94it/s]\n"
     ]
    },
    {
     "name": "stdout",
     "output_type": "stream",
     "text": [
      "Epoch 274 - Train Loss: 0.0390 | Val Loss: 8.6030\n"
     ]
    },
    {
     "name": "stderr",
     "output_type": "stream",
     "text": [
      "Epoch 275 [Train]: 100%|██████████| 58/58 [01:38<00:00,  1.70s/it]\n",
      "Epoch 275 [Val]: 100%|██████████| 7/7 [00:02<00:00,  3.10it/s]\n"
     ]
    },
    {
     "name": "stdout",
     "output_type": "stream",
     "text": [
      "Epoch 275 - Train Loss: 0.0384 | Val Loss: 8.6554\n"
     ]
    },
    {
     "name": "stderr",
     "output_type": "stream",
     "text": [
      "Epoch 276 [Train]: 100%|██████████| 58/58 [01:38<00:00,  1.70s/it]\n",
      "Epoch 276 [Val]: 100%|██████████| 7/7 [00:02<00:00,  3.03it/s]\n"
     ]
    },
    {
     "name": "stdout",
     "output_type": "stream",
     "text": [
      "Epoch 276 - Train Loss: 0.0444 | Val Loss: 8.6275\n"
     ]
    },
    {
     "name": "stderr",
     "output_type": "stream",
     "text": [
      "Epoch 277 [Train]: 100%|██████████| 58/58 [01:38<00:00,  1.70s/it]\n",
      "Epoch 277 [Val]: 100%|██████████| 7/7 [00:02<00:00,  3.11it/s]\n"
     ]
    },
    {
     "name": "stdout",
     "output_type": "stream",
     "text": [
      "Epoch 277 - Train Loss: 0.0420 | Val Loss: 8.6575\n"
     ]
    },
    {
     "name": "stderr",
     "output_type": "stream",
     "text": [
      "Epoch 278 [Train]: 100%|██████████| 58/58 [01:38<00:00,  1.71s/it]\n",
      "Epoch 278 [Val]: 100%|██████████| 7/7 [00:02<00:00,  3.06it/s]\n"
     ]
    },
    {
     "name": "stdout",
     "output_type": "stream",
     "text": [
      "Epoch 278 - Train Loss: 0.0390 | Val Loss: 8.6086\n"
     ]
    },
    {
     "name": "stderr",
     "output_type": "stream",
     "text": [
      "Epoch 279 [Train]: 100%|██████████| 58/58 [01:38<00:00,  1.70s/it]\n",
      "Epoch 279 [Val]: 100%|██████████| 7/7 [00:02<00:00,  2.96it/s]\n"
     ]
    },
    {
     "name": "stdout",
     "output_type": "stream",
     "text": [
      "Epoch 279 - Train Loss: 0.0384 | Val Loss: 8.6073\n"
     ]
    },
    {
     "name": "stderr",
     "output_type": "stream",
     "text": [
      "Epoch 280 [Train]: 100%|██████████| 58/58 [01:38<00:00,  1.69s/it]\n",
      "Epoch 280 [Val]: 100%|██████████| 7/7 [00:02<00:00,  3.00it/s]\n"
     ]
    },
    {
     "name": "stdout",
     "output_type": "stream",
     "text": [
      "Epoch 280 - Train Loss: 0.0382 | Val Loss: 8.6988\n"
     ]
    },
    {
     "name": "stderr",
     "output_type": "stream",
     "text": [
      "Epoch 281 [Train]: 100%|██████████| 58/58 [01:38<00:00,  1.69s/it]\n",
      "Epoch 281 [Val]: 100%|██████████| 7/7 [00:02<00:00,  2.99it/s]\n"
     ]
    },
    {
     "name": "stdout",
     "output_type": "stream",
     "text": [
      "Epoch 281 - Train Loss: 0.0381 | Val Loss: 8.6224\n"
     ]
    },
    {
     "name": "stderr",
     "output_type": "stream",
     "text": [
      "Epoch 282 [Train]: 100%|██████████| 58/58 [01:38<00:00,  1.71s/it]\n",
      "Epoch 282 [Val]: 100%|██████████| 7/7 [00:02<00:00,  3.01it/s]\n"
     ]
    },
    {
     "name": "stdout",
     "output_type": "stream",
     "text": [
      "Epoch 282 - Train Loss: 0.0382 | Val Loss: 8.6858\n"
     ]
    },
    {
     "name": "stderr",
     "output_type": "stream",
     "text": [
      "Epoch 283 [Train]: 100%|██████████| 58/58 [01:38<00:00,  1.70s/it]\n",
      "Epoch 283 [Val]: 100%|██████████| 7/7 [00:02<00:00,  3.02it/s]\n"
     ]
    },
    {
     "name": "stdout",
     "output_type": "stream",
     "text": [
      "Epoch 283 - Train Loss: 0.0387 | Val Loss: 8.6157\n"
     ]
    },
    {
     "name": "stderr",
     "output_type": "stream",
     "text": [
      "Epoch 284 [Train]: 100%|██████████| 58/58 [01:38<00:00,  1.69s/it]\n",
      "Epoch 284 [Val]: 100%|██████████| 7/7 [00:02<00:00,  3.08it/s]\n"
     ]
    },
    {
     "name": "stdout",
     "output_type": "stream",
     "text": [
      "Epoch 284 - Train Loss: 0.0387 | Val Loss: 8.6075\n"
     ]
    },
    {
     "name": "stderr",
     "output_type": "stream",
     "text": [
      "Epoch 285 [Train]: 100%|██████████| 58/58 [01:38<00:00,  1.70s/it]\n",
      "Epoch 285 [Val]: 100%|██████████| 7/7 [00:02<00:00,  2.91it/s]\n"
     ]
    },
    {
     "name": "stdout",
     "output_type": "stream",
     "text": [
      "Epoch 285 - Train Loss: 0.0389 | Val Loss: 8.6526\n"
     ]
    },
    {
     "name": "stderr",
     "output_type": "stream",
     "text": [
      "Epoch 286 [Train]: 100%|██████████| 58/58 [01:38<00:00,  1.70s/it]\n",
      "Epoch 286 [Val]: 100%|██████████| 7/7 [00:02<00:00,  2.93it/s]\n"
     ]
    },
    {
     "name": "stdout",
     "output_type": "stream",
     "text": [
      "Epoch 286 - Train Loss: 0.0393 | Val Loss: 8.6304\n"
     ]
    },
    {
     "name": "stderr",
     "output_type": "stream",
     "text": [
      "Epoch 287 [Train]: 100%|██████████| 58/58 [01:38<00:00,  1.70s/it]\n",
      "Epoch 287 [Val]: 100%|██████████| 7/7 [00:02<00:00,  3.08it/s]\n"
     ]
    },
    {
     "name": "stdout",
     "output_type": "stream",
     "text": [
      "Epoch 287 - Train Loss: 0.0419 | Val Loss: 8.6589\n"
     ]
    },
    {
     "name": "stderr",
     "output_type": "stream",
     "text": [
      "Epoch 288 [Train]: 100%|██████████| 58/58 [01:38<00:00,  1.70s/it]\n",
      "Epoch 288 [Val]: 100%|██████████| 7/7 [00:02<00:00,  3.04it/s]\n"
     ]
    },
    {
     "name": "stdout",
     "output_type": "stream",
     "text": [
      "Epoch 288 - Train Loss: 0.0482 | Val Loss: 8.6653\n"
     ]
    },
    {
     "name": "stderr",
     "output_type": "stream",
     "text": [
      "Epoch 289 [Train]: 100%|██████████| 58/58 [01:39<00:00,  1.71s/it]\n",
      "Epoch 289 [Val]: 100%|██████████| 7/7 [00:02<00:00,  3.06it/s]\n"
     ]
    },
    {
     "name": "stdout",
     "output_type": "stream",
     "text": [
      "Epoch 289 - Train Loss: 0.1115 | Val Loss: 8.6441\n"
     ]
    },
    {
     "name": "stderr",
     "output_type": "stream",
     "text": [
      "Epoch 290 [Train]: 100%|██████████| 58/58 [01:39<00:00,  1.71s/it]\n",
      "Epoch 290 [Val]: 100%|██████████| 7/7 [00:02<00:00,  3.01it/s]\n"
     ]
    },
    {
     "name": "stdout",
     "output_type": "stream",
     "text": [
      "Epoch 290 - Train Loss: 0.4655 | Val Loss: 8.4131\n"
     ]
    },
    {
     "name": "stderr",
     "output_type": "stream",
     "text": [
      "Epoch 291 [Train]: 100%|██████████| 58/58 [01:38<00:00,  1.70s/it]\n",
      "Epoch 291 [Val]: 100%|██████████| 7/7 [00:02<00:00,  3.04it/s]\n"
     ]
    },
    {
     "name": "stdout",
     "output_type": "stream",
     "text": [
      "Epoch 291 - Train Loss: 2.5137 | Val Loss: 8.4751\n"
     ]
    },
    {
     "name": "stderr",
     "output_type": "stream",
     "text": [
      "Epoch 292 [Train]: 100%|██████████| 58/58 [01:39<00:00,  1.71s/it]\n",
      "Epoch 292 [Val]: 100%|██████████| 7/7 [00:02<00:00,  2.86it/s]\n"
     ]
    },
    {
     "name": "stdout",
     "output_type": "stream",
     "text": [
      "Epoch 292 - Train Loss: 2.4846 | Val Loss: 8.2809\n"
     ]
    },
    {
     "name": "stderr",
     "output_type": "stream",
     "text": [
      "Epoch 293 [Train]: 100%|██████████| 58/58 [01:38<00:00,  1.70s/it]\n",
      "Epoch 293 [Val]: 100%|██████████| 7/7 [00:02<00:00,  2.97it/s]\n"
     ]
    },
    {
     "name": "stdout",
     "output_type": "stream",
     "text": [
      "Epoch 293 - Train Loss: 1.4749 | Val Loss: 8.3903\n"
     ]
    },
    {
     "name": "stderr",
     "output_type": "stream",
     "text": [
      "Epoch 294 [Train]: 100%|██████████| 58/58 [01:39<00:00,  1.71s/it]\n",
      "Epoch 294 [Val]: 100%|██████████| 7/7 [00:02<00:00,  3.10it/s]\n"
     ]
    },
    {
     "name": "stdout",
     "output_type": "stream",
     "text": [
      "Epoch 294 - Train Loss: 0.8050 | Val Loss: 8.4526\n"
     ]
    },
    {
     "name": "stderr",
     "output_type": "stream",
     "text": [
      "Epoch 295 [Train]: 100%|██████████| 58/58 [01:38<00:00,  1.71s/it]\n",
      "Epoch 295 [Val]: 100%|██████████| 7/7 [00:02<00:00,  3.07it/s]\n"
     ]
    },
    {
     "name": "stdout",
     "output_type": "stream",
     "text": [
      "Epoch 295 - Train Loss: 0.4031 | Val Loss: 8.4982\n"
     ]
    },
    {
     "name": "stderr",
     "output_type": "stream",
     "text": [
      "Epoch 296 [Train]: 100%|██████████| 58/58 [01:39<00:00,  1.71s/it]\n",
      "Epoch 296 [Val]: 100%|██████████| 7/7 [00:02<00:00,  3.02it/s]\n"
     ]
    },
    {
     "name": "stdout",
     "output_type": "stream",
     "text": [
      "Epoch 296 - Train Loss: 0.1711 | Val Loss: 8.5756\n"
     ]
    },
    {
     "name": "stderr",
     "output_type": "stream",
     "text": [
      "Epoch 297 [Train]: 100%|██████████| 58/58 [01:38<00:00,  1.69s/it]\n",
      "Epoch 297 [Val]: 100%|██████████| 7/7 [00:02<00:00,  3.11it/s]\n"
     ]
    },
    {
     "name": "stdout",
     "output_type": "stream",
     "text": [
      "Epoch 297 - Train Loss: 0.0919 | Val Loss: 8.5305\n"
     ]
    },
    {
     "name": "stderr",
     "output_type": "stream",
     "text": [
      "Epoch 298 [Train]: 100%|██████████| 58/58 [01:37<00:00,  1.68s/it]\n",
      "Epoch 298 [Val]: 100%|██████████| 7/7 [00:02<00:00,  3.08it/s]\n"
     ]
    },
    {
     "name": "stdout",
     "output_type": "stream",
     "text": [
      "Epoch 298 - Train Loss: 0.0673 | Val Loss: 8.5808\n"
     ]
    },
    {
     "name": "stderr",
     "output_type": "stream",
     "text": [
      "Epoch 299 [Train]: 100%|██████████| 58/58 [01:36<00:00,  1.67s/it]\n",
      "Epoch 299 [Val]: 100%|██████████| 7/7 [00:02<00:00,  3.02it/s]\n"
     ]
    },
    {
     "name": "stdout",
     "output_type": "stream",
     "text": [
      "Epoch 299 - Train Loss: 0.0524 | Val Loss: 8.6052\n"
     ]
    },
    {
     "name": "stderr",
     "output_type": "stream",
     "text": [
      "Epoch 300 [Train]: 100%|██████████| 58/58 [01:37<00:00,  1.68s/it]\n",
      "Epoch 300 [Val]: 100%|██████████| 7/7 [00:02<00:00,  3.06it/s]"
     ]
    },
    {
     "name": "stdout",
     "output_type": "stream",
     "text": [
      "Epoch 300 - Train Loss: 0.0455 | Val Loss: 8.6216\n"
     ]
    },
    {
     "name": "stderr",
     "output_type": "stream",
     "text": [
      "\n"
     ]
    }
   ],
   "source": [
    "import torch.nn as nn\n",
    "from tqdm import tqdm\n",
    "\n",
    "train_loss_history = []\n",
    "val_loss_history = []\n",
    "optimizer = torch.optim.Adam(model.parameters(), lr=1e-3, weight_decay=1e-5)\n",
    "criterion = nn.CrossEntropyLoss(ignore_index=0)  # 0 是 padding id\n",
    "  # use cross entropy loss for seq2seq model\n",
    "\n",
    "for epoch in range(300):\n",
    "    # ✅ Training\n",
    "    model.train()\n",
    "    total_train_loss = 0\n",
    "    for src, trg in tqdm(train_loader, desc=f\"Epoch {epoch+1} [Train]\"):\n",
    "        src, trg = src.to(DEVICE), trg.to(DEVICE)\n",
    "        optimizer.zero_grad()\n",
    "        output = model(src, trg)\n",
    "        output_dim = output.shape[-1]\n",
    "        output = output[:, 1:].reshape(-1, output_dim)\n",
    "        trg = trg[:, 1:].reshape(-1)\n",
    "        loss = criterion(output, trg)\n",
    "        loss.backward()\n",
    "        optimizer.step()\n",
    "        total_train_loss += loss.item()\n",
    "    avg_train_loss = total_train_loss / len(train_loader)\n",
    "    train_loss_history.append(avg_train_loss)\n",
    "\n",
    "    # ✅ Validation\n",
    "    model.eval()\n",
    "    total_val_loss = 0\n",
    "    with torch.no_grad():\n",
    "        for src, trg in tqdm(val_loader, desc=f\"Epoch {epoch+1} [Val]\"):\n",
    "            src, trg = src.to(DEVICE), trg.to(DEVICE)\n",
    "            output = model(src, trg)\n",
    "            output_dim = output.shape[-1]\n",
    "            output = output[:, 1:].reshape(-1, output_dim)\n",
    "            trg = trg[:, 1:].reshape(-1)\n",
    "            loss = criterion(output, trg)\n",
    "            total_val_loss += loss.item()\n",
    "    avg_val_loss = total_val_loss / len(val_loader)\n",
    "    val_loss_history.append(avg_val_loss)\n",
    "\n",
    "    print(f\"Epoch {epoch+1} - Train Loss: {avg_train_loss:.4f} | Val Loss: {avg_val_loss:.4f}\")"
   ]
  },
  {
   "cell_type": "code",
   "execution_count": 10,
   "metadata": {},
   "outputs": [
    {
     "name": "stdout",
     "output_type": "stream",
     "text": [
      "✅ 模型训练完成并已保存。\n"
     ]
    }
   ],
   "source": [
    "# save the model\n",
    "os.makedirs(\"checkpoint\", exist_ok=True)\n",
    "torch.save(model.state_dict(), \"checkpoint/seq2seq_bbc_500.pt\")\n",
    "print(\"✅ 模型训练完成并已保存。\")\n"
   ]
  },
  {
   "cell_type": "code",
   "execution_count": 11,
   "metadata": {},
   "outputs": [
    {
     "name": "stdout",
     "output_type": "stream",
     "text": [
      "==============================\n",
      "✅ Loss 曲线图已保存。\n"
     ]
    },
    {
     "data": {
      "image/png": "[encoded data removed]",
      "text/plain": [
       "<Figure size 640x480 with 1 Axes>"
      ]
     },
     "metadata": {},
     "output_type": "display_data"
    }
   ],
   "source": [
    "import matplotlib.pyplot as plt\n",
    "\n",
    "# ✅ 绘图：训练集 & 验证集 Loss 曲线\n",
    "print(\"==============================\")\n",
    "plt.plot(range(1, len(train_loss_history)+1), train_loss_history, label='Train Loss', marker='o')\n",
    "plt.plot(range(1, len(val_loss_history)+1), val_loss_history, label='Val Loss', marker='x')\n",
    "plt.xlabel(\"Epoch\")\n",
    "plt.ylabel(\"Loss\")\n",
    "plt.title(\"Training and Validation Loss Curve\")\n",
    "plt.legend()\n",
    "plt.grid(True)\n",
    "plt.savefig(\"checkpoint/loss_curve_bbc_500.png\")\n",
    "# plt.show()\n",
    "print(\"✅ Loss 曲线图已保存。\")"
   ]
  }
 ],
 "metadata": {
  "colab": {
   "authorship_tag": "ABX9TyN3w/+08aLgrnu3a9KJo653",
   "provenance": []
  },
  "kernelspec": {
   "display_name": "dia",
   "language": "python",
   "name": "python3"
  },
  "language_info": {
   "codemirror_mode": {
    "name": "ipython",
    "version": 3
   },
   "file_extension": ".py",
   "mimetype": "text/x-python",
   "name": "python",
   "nbconvert_exporter": "python",
   "pygments_lexer": "ipython3",
   "version": "3.10.17"
  }
 },
 "nbformat": 4,
 "nbformat_minor": 0
}
