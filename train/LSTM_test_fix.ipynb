{
 "cells": [
  {
   "cell_type": "code",
   "execution_count": 11,
   "metadata": {},
   "outputs": [],
   "source": [
    "import numpy as np\n",
    "import pandas as pd\n",
    "import tensorflow as tf\n",
    "\n",
    "import os\n",
    "import sys\n",
    "current_dir = os.getcwd()\n",
    "sys.path.append(os.path.abspath(os.path.join(current_dir, '..')))\n",
    "from tokenizerManager import TokenizerManager\n",
    "from data.utils_bbc import get_dataloaders as get_dataloaders_bbc"
   ]
  },
  {
   "cell_type": "code",
   "execution_count": 12,
   "metadata": {},
   "outputs": [],
   "source": [
    "LOADDATASIZE = 510  # row of data\n",
    "BATCH_SIZE = 8  # batch size\n",
    "PAD_TOKEN_ID = 0"
   ]
  },
  {
   "cell_type": "markdown",
   "metadata": {},
   "source": [
    "### check GPU avaiabel"
   ]
  },
  {
   "cell_type": "code",
   "execution_count": 13,
   "metadata": {},
   "outputs": [
    {
     "name": "stdout",
     "output_type": "stream",
     "text": [
      "2.10.1\n",
      "[PhysicalDevice(name='/physical_device:GPU:0', device_type='GPU')]\n"
     ]
    }
   ],
   "source": [
    "import tensorflow as tf\n",
    "print(tf.__version__)\n",
    "print(tf.config.list_physical_devices('GPU'))"
   ]
  },
  {
   "cell_type": "code",
   "execution_count": 14,
   "metadata": {},
   "outputs": [
    {
     "data": {
      "text/html": [
       "<div>\n",
       "<style scoped>\n",
       "    .dataframe tbody tr th:only-of-type {\n",
       "        vertical-align: middle;\n",
       "    }\n",
       "\n",
       "    .dataframe tbody tr th {\n",
       "        vertical-align: top;\n",
       "    }\n",
       "\n",
       "    .dataframe thead th {\n",
       "        text-align: right;\n",
       "    }\n",
       "</style>\n",
       "<table border=\"1\" class=\"dataframe\">\n",
       "  <thead>\n",
       "    <tr style=\"text-align: right;\">\n",
       "      <th></th>\n",
       "      <th>ctext</th>\n",
       "      <th>text</th>\n",
       "    </tr>\n",
       "  </thead>\n",
       "  <tbody>\n",
       "    <tr>\n",
       "      <th>0</th>\n",
       "      <td>India will host its first WTA tournament in fi...</td>\n",
       "      <td>India will host its first WTA tournament in fi...</td>\n",
       "    </tr>\n",
       "    <tr>\n",
       "      <th>1</th>\n",
       "      <td>Samajwadi Party vice-president Kiranmay Nanda,...</td>\n",
       "      <td>Ousted SP Vice President Kiranmoy Nanda, who w...</td>\n",
       "    </tr>\n",
       "    <tr>\n",
       "      <th>2</th>\n",
       "      <td>Gurgaon, Jul 7 (PTI) Gurgaon Police today regi...</td>\n",
       "      <td>Servers of a Gurugram-based clothing company h...</td>\n",
       "    </tr>\n",
       "    <tr>\n",
       "      <th>3</th>\n",
       "      <td>Cash-strapped holidaymakers are making their t...</td>\n",
       "      <td>Passengers are making their toddlers drag suit...</td>\n",
       "    </tr>\n",
       "    <tr>\n",
       "      <th>4</th>\n",
       "      <td>London, Jun 30 (PTI) Supermodel Gigi Hadid say...</td>\n",
       "      <td>Model Gigi Hadid has said she cannot pull off ...</td>\n",
       "    </tr>\n",
       "  </tbody>\n",
       "</table>\n",
       "</div>"
      ],
      "text/plain": [
       "                                               ctext  \\\n",
       "0  India will host its first WTA tournament in fi...   \n",
       "1  Samajwadi Party vice-president Kiranmay Nanda,...   \n",
       "2  Gurgaon, Jul 7 (PTI) Gurgaon Police today regi...   \n",
       "3  Cash-strapped holidaymakers are making their t...   \n",
       "4  London, Jun 30 (PTI) Supermodel Gigi Hadid say...   \n",
       "\n",
       "                                                text  \n",
       "0  India will host its first WTA tournament in fi...  \n",
       "1  Ousted SP Vice President Kiranmoy Nanda, who w...  \n",
       "2  Servers of a Gurugram-based clothing company h...  \n",
       "3  Passengers are making their toddlers drag suit...  \n",
       "4  Model Gigi Hadid has said she cannot pull off ...  "
      ]
     },
     "execution_count": 14,
     "metadata": {},
     "output_type": "execute_result"
    }
   ],
   "source": [
    "# load the dataset\n",
    "df = pd.read_parquet('../data/NewsSummary.parquet')\n",
    "# select the first 500 rows of the dataset\n",
    "df = df.iloc[:500, :]\n",
    "# select two columns\n",
    "df = df[['ctext', 'text']]   # original text and summary\n",
    "data = df.copy()\n",
    "data.head()"
   ]
  },
  {
   "cell_type": "code",
   "execution_count": null,
   "metadata": {},
   "outputs": [
    {
     "name": "stdout",
     "output_type": "stream",
     "text": [
      "✅ Tokenizer is build, word size: 34994\n",
      "✅ Tokenizer is saved at: ../data/tokenizer_fixed.pkl\n",
      "✅ Tokenizer is loaded successfully: ../data/tokenizer_fixed.pkl\n",
      "tokenizer done, with length 34994\n",
      "vocab size: 10000\n"
     ]
    }
   ],
   "source": [
    "TOKENIZER_MANAGER = TokenizerManager(num_words=10000)\n",
    "# TOKENIZER_MANAGER.train_tokenizer_from_csv(\"../data/bbc-news-summary.csv\")\n",
    "# TOKENIZER_MANAGER.save_tokenizer(\"../data/tokenizer_fixed.pkl\")\n",
    "\n",
    "TOKENIZER = TOKENIZER_MANAGER.load_tokenizer(load_path=\"../data/tokenizer_fixed.pkl\")\n",
    "print(\"tokenizer done, with length\", len(TOKENIZER.word_index) + 1)\n",
    "print(\"vocab size:\", TOKENIZER.num_words)\n"
   ]
  },
  {
   "cell_type": "code",
   "execution_count": 16,
   "metadata": {},
   "outputs": [
    {
     "name": "stdout",
     "output_type": "stream",
     "text": [
      "Index(['File_path', 'Articles', 'Summaries'], dtype='object')\n"
     ]
    }
   ],
   "source": [
    "# load data for training and validation, size is LOADDATASIZE\n",
    "train_loader, val_loader = get_dataloaders_bbc(\"../data/bbc-news-summary.csv\", TOKENIZER, LOADDATASIZE, BATCH_SIZE)"
   ]
  },
  {
   "cell_type": "code",
   "execution_count": 17,
   "metadata": {},
   "outputs": [],
   "source": [
    "import torch\n",
    "from model.LSTM_seq2seq import Encoder, Decoder, Seq2Seq, Attention\n",
    "\n",
    "DEVICE = torch.device(\"cuda\" if torch.cuda.is_available() else \"cpu\")\n",
    "INPUT_DIM = TOKENIZER.num_words + 1\n",
    "OUTPUT_DIM = TOKENIZER.num_words + 1\n",
    "EMB_DIM = 256  # embedding dimension for both encoder and decoder\n",
    "HID_DIM = 512  # hidden dimension for LSTM\n",
    "N_LAYERS = 2\n",
    "\n",
    "# 1. Attention\n",
    "attn = Attention(enc_hid_dim=HID_DIM, dec_hid_dim=HID_DIM)\n",
    "\n",
    "# 2. Encoder 和 Decoder（Decoder 加入 attn）\n",
    "enc = Encoder(INPUT_DIM, EMB_DIM, HID_DIM, N_LAYERS) \n",
    "dec = Decoder(OUTPUT_DIM, EMB_DIM, enc_hid_dim=HID_DIM, dec_hid_dim=HID_DIM,\n",
    "            attention=attn, num_layers=N_LAYERS)\n",
    "\n",
    "# 3. Seq2Seq\n",
    "model = Seq2Seq(enc, dec, DEVICE).to(DEVICE)"
   ]
  },
  {
   "cell_type": "code",
   "execution_count": null,
   "metadata": {},
   "outputs": [],
   "source": [
    "import torch.nn as nn\n",
    "from tqdm import tqdm\n",
    "\n",
    "train_loss_history = []\n",
    "val_loss_history = []\n",
    "optimizer = torch.optim.Adam(model.parameters(), lr=1e-3, weight_decay=1e-5)\n",
    "criterion = nn.CrossEntropyLoss(ignore_index=0)  # 0 是 padding id\n",
    "  # use cross entropy loss for seq2seq model\n",
    "\n",
    "LOSS_THRESHOLD= 0.05  # loss threshold for early stopping\n",
    "\n",
    "for epoch in range(300):\n",
    "    # ✅ Training\n",
    "    model.train()\n",
    "    total_train_loss = 0\n",
    "    for src, trg in tqdm(train_loader, desc=f\"Epoch {epoch+1} [Train]\"):\n",
    "        src, trg = src.to(DEVICE), trg.to(DEVICE)\n",
    "        optimizer.zero_grad()\n",
    "        output = model(src, trg)\n",
    "        output_dim = output.shape[-1]\n",
    "        output = output[:, 1:].reshape(-1, output_dim)\n",
    "        trg = trg[:, 1:].reshape(-1)\n",
    "        loss = criterion(output, trg)\n",
    "        loss.backward()\n",
    "        optimizer.step()\n",
    "        total_train_loss += loss.item()\n",
    "    avg_train_loss = total_train_loss / len(train_loader)\n",
    "    train_loss_history.append(avg_train_loss)\n",
    "\n",
    "    # ✅ Validation\n",
    "    model.eval()\n",
    "    total_val_loss = 0\n",
    "    with torch.no_grad():\n",
    "        for src, trg in tqdm(val_loader, desc=f\"Epoch {epoch+1} [Val]\"):\n",
    "            src, trg = src.to(DEVICE), trg.to(DEVICE)\n",
    "            output = model(src, trg)\n",
    "            output_dim = output.shape[-1]\n",
    "            output = output[:, 1:].reshape(-1, output_dim)\n",
    "            trg = trg[:, 1:].reshape(-1)\n",
    "            loss = criterion(output, trg)\n",
    "            total_val_loss += loss.item()\n",
    "    avg_val_loss = total_val_loss / len(val_loader)\n",
    "    val_loss_history.append(avg_val_loss)\n",
    "\n",
    "    print(f\"Epoch {epoch+1} - Train Loss: {avg_train_loss:.4f} | Val Loss: {avg_val_loss:.4f}\")\n",
    "\n",
    "    if avg_train_loss < LOSS_THRESHOLD:\n",
    "        print(f'Early stop at epoch {epoch}: Loss is below the threshold {avg_train_loss:.4f}.')\n",
    "        break"
   ]
  },
  {
   "cell_type": "code",
   "execution_count": 19,
   "metadata": {},
   "outputs": [
    {
     "name": "stdout",
     "output_type": "stream",
     "text": [
      "✅ model is trained and saved successfully。\n"
     ]
    }
   ],
   "source": [
    "# save the model\n",
    "os.makedirs(\"checkpoint\", exist_ok=True)\n",
    "torch.save(model.state_dict(), \"checkpoint/seq2seq_bbc_500_fixed.pt\")\n",
    "print(\"✅ model is trained and saved successfully。\")\n"
   ]
  },
  {
   "cell_type": "code",
   "execution_count": 20,
   "metadata": {},
   "outputs": [
    {
     "name": "stdout",
     "output_type": "stream",
     "text": [
      "==============================\n",
      "✅ Loss curve diagram is saved successfully\n"
     ]
    },
    {
     "data": {
      "image/png": "[encoded data removed]",
      "text/plain": [
       "<Figure size 640x480 with 1 Axes>"
      ]
     },
     "metadata": {},
     "output_type": "display_data"
    }
   ],
   "source": [
    "import matplotlib.pyplot as plt\n",
    "\n",
    "# ✅ 绘图：训练集 & 验证集 Loss 曲线\n",
    "print(\"==============================\")\n",
    "plt.plot(range(1, len(train_loss_history)+1), train_loss_history, label='Train Loss', marker='o')\n",
    "plt.plot(range(1, len(val_loss_history)+1), val_loss_history, label='Val Loss', marker='x')\n",
    "plt.xlabel(\"Epoch\")\n",
    "plt.ylabel(\"Loss\")\n",
    "plt.title(\"Training and Validation Loss Curve\")\n",
    "plt.legend()\n",
    "plt.grid(True)\n",
    "plt.savefig(\"checkpoint/loss_curve_bbc_500_fixed.png\")\n",
    "# plt.show()\n",
    "print(\"✅ Loss curve diagram is saved successfully\")"
   ]
  },
  {
   "cell_type": "code",
   "execution_count": null,
   "metadata": {},
   "outputs": [],
   "source": [
    "# Early stop at epoch 175: Loss is below the threshold 0.0480."
   ]
  }
 ],
 "metadata": {
  "colab": {
   "authorship_tag": "ABX9TyN3w/+08aLgrnu3a9KJo653",
   "provenance": []
  },
  "kernelspec": {
   "display_name": "dia",
   "language": "python",
   "name": "python3"
  },
  "language_info": {
   "codemirror_mode": {
    "name": "ipython",
    "version": 3
   },
   "file_extension": ".py",
   "mimetype": "text/x-python",
   "name": "python",
   "nbconvert_exporter": "python",
   "pygments_lexer": "ipython3",
   "version": "3.10.17"
  }
 },
 "nbformat": 4,
 "nbformat_minor": 0
}
