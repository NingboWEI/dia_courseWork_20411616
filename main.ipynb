{
 "cells": [
  {
   "cell_type": "code",
   "execution_count": 1,
   "id": "a3c84961",
   "metadata": {},
   "outputs": [],
   "source": [
    "import subprocess\n",
    "import time\n",
    "import os\n",
    "import sys"
   ]
  },
  {
   "cell_type": "code",
   "execution_count": 2,
   "id": "d7174444",
   "metadata": {},
   "outputs": [],
   "source": [
    "current_dir = os.getcwd()\n",
    "os.chdir(current_dir)\n",
    "\n",
    "fastapi_process = subprocess.Popen([sys.executable, \"fastapi_server.py\"])\n",
    "\n",
    "# 等待服务器启动\n",
    "time.sleep(3)  # 3 秒钟等待 FastAPI 启动，如果启动较慢可以增大这个时间\n",
    "\n",
    "try:\n",
    "    # 启动 Tkinter 前端\n",
    "    subprocess.run([sys.executable, \"tkinter_client.py\"])\n",
    "finally:\n",
    "    # 关闭 FastAPI 服务器\n",
    "    fastapi_process.terminate()\n"
   ]
  }
 ],
 "metadata": {
  "kernelspec": {
   "display_name": "dia",
   "language": "python",
   "name": "python3"
  },
  "language_info": {
   "codemirror_mode": {
    "name": "ipython",
    "version": 3
   },
   "file_extension": ".py",
   "mimetype": "text/x-python",
   "name": "python",
   "nbconvert_exporter": "python",
   "pygments_lexer": "ipython3",
   "version": "3.10.17"
  }
 },
 "nbformat": 4,
 "nbformat_minor": 5
}
